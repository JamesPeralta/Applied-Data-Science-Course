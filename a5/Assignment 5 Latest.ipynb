{
 "cells": [
  {
   "cell_type": "markdown",
   "metadata": {},
   "source": [
    "# ENSF 519.01 Applied Data Science \n",
    "**Assignment 5** - 100 marks\n",
    "\n",
    "**Due:** November 25, 05.00 pm.\n",
    "\n",
    "\n",
    "**IMPORTANT NOTE: each task must be implemented as asked, even if there are other easier or better solutions.**\n",
    "\n",
    "**How to deliver:**\n",
    "Edit this file and write your solutions in sections specified with `# Your solution`. Test your code and when you are done, submit this notebook as an `.ipynb` file to D2L dropbox. \n",
    "\n"
   ]
  },
  {
   "cell_type": "markdown",
   "metadata": {},
   "source": [
    "## Spam detection \n",
    "\n",
    "Here we have a dataset of text messages which are labeled as spam or ham. We want to read the dataset and use a clustering algorithm to tell spam messages from non-spam (ham!) ones. The data is in tsv format with two columns: label and text. TSV is just like csv but the column values are separated by a tab instead of a `,`. \n",
    "\n",
    "1. Read the file into a dataframe\n",
    "2. Convert `label` column to pandas categorical data type\n",
    "3. complete the `clean_text` function and apply it to the text column. To clean up:\n",
    "    1. Make it lowercase\n",
    "    2. Remove all of the punctuations (use `string.punctuation` and `str.translate`)\n",
    "    3. Replace repetetive whitespaces with just one blank charachter (e.g.: 'i    had \\tan apple' -> 'i had an apple')\n",
    "    4. Removing the stop words\n",
    "    5. Stem each word using snowball stemmer provided in `nltk`\n"
   ]
  },
  {
   "cell_type": "code",
   "execution_count": 70,
   "metadata": {
    "scrolled": true
   },
   "outputs": [
    {
     "name": "stdout",
     "output_type": "stream",
     "text": [
      "label    object\n",
      "text     object\n",
      "dtype: object\n"
     ]
    },
    {
     "data": {
      "text/html": [
       "<div>\n",
       "<style scoped>\n",
       "    .dataframe tbody tr th:only-of-type {\n",
       "        vertical-align: middle;\n",
       "    }\n",
       "\n",
       "    .dataframe tbody tr th {\n",
       "        vertical-align: top;\n",
       "    }\n",
       "\n",
       "    .dataframe thead th {\n",
       "        text-align: right;\n",
       "    }\n",
       "</style>\n",
       "<table border=\"1\" class=\"dataframe\">\n",
       "  <thead>\n",
       "    <tr style=\"text-align: right;\">\n",
       "      <th></th>\n",
       "      <th>label</th>\n",
       "      <th>text</th>\n",
       "    </tr>\n",
       "  </thead>\n",
       "  <tbody>\n",
       "    <tr>\n",
       "      <td>0</td>\n",
       "      <td>ham</td>\n",
       "      <td>jurong point crazi avail bugi n great world la...</td>\n",
       "    </tr>\n",
       "    <tr>\n",
       "      <td>1</td>\n",
       "      <td>ham</td>\n",
       "      <td>ok lar joke wif u oni</td>\n",
       "    </tr>\n",
       "    <tr>\n",
       "      <td>2</td>\n",
       "      <td>spam</td>\n",
       "      <td>free entri 2 wkli comp win fa cup final tkts 2...</td>\n",
       "    </tr>\n",
       "    <tr>\n",
       "      <td>3</td>\n",
       "      <td>ham</td>\n",
       "      <td>u dun say earli hor u c say</td>\n",
       "    </tr>\n",
       "    <tr>\n",
       "      <td>4</td>\n",
       "      <td>ham</td>\n",
       "      <td>nah dont think goe usf live</td>\n",
       "    </tr>\n",
       "    <tr>\n",
       "      <td>...</td>\n",
       "      <td>...</td>\n",
       "      <td>...</td>\n",
       "    </tr>\n",
       "    <tr>\n",
       "      <td>5567</td>\n",
       "      <td>spam</td>\n",
       "      <td>2nd time tri 2 contact u u won £750 pound priz...</td>\n",
       "    </tr>\n",
       "    <tr>\n",
       "      <td>5568</td>\n",
       "      <td>ham</td>\n",
       "      <td>ü b go esplanad fr home</td>\n",
       "    </tr>\n",
       "    <tr>\n",
       "      <td>5569</td>\n",
       "      <td>ham</td>\n",
       "      <td>piti mood soani suggest</td>\n",
       "    </tr>\n",
       "    <tr>\n",
       "      <td>5570</td>\n",
       "      <td>ham</td>\n",
       "      <td>guy did bitch act like id interest buy week ga...</td>\n",
       "    </tr>\n",
       "    <tr>\n",
       "      <td>5571</td>\n",
       "      <td>ham</td>\n",
       "      <td>rofl true</td>\n",
       "    </tr>\n",
       "  </tbody>\n",
       "</table>\n",
       "<p>5572 rows × 2 columns</p>\n",
       "</div>"
      ],
      "text/plain": [
       "     label                                               text\n",
       "0      ham  jurong point crazi avail bugi n great world la...\n",
       "1      ham                              ok lar joke wif u oni\n",
       "2     spam  free entri 2 wkli comp win fa cup final tkts 2...\n",
       "3      ham                        u dun say earli hor u c say\n",
       "4      ham                        nah dont think goe usf live\n",
       "...    ...                                                ...\n",
       "5567  spam  2nd time tri 2 contact u u won £750 pound priz...\n",
       "5568   ham                            ü b go esplanad fr home\n",
       "5569   ham                            piti mood soani suggest\n",
       "5570   ham  guy did bitch act like id interest buy week ga...\n",
       "5571   ham                                          rofl true\n",
       "\n",
       "[5572 rows x 2 columns]"
      ]
     },
     "execution_count": 70,
     "metadata": {},
     "output_type": "execute_result"
    }
   ],
   "source": [
    "import re, string\n",
    "import pandas as pd\n",
    "import numpy as np\n",
    "from sklearn.feature_extraction.text import ENGLISH_STOP_WORDS\n",
    "from nltk.stem.snowball import SnowballStemmer\n",
    "import matplotlib.pyplot as plt \n",
    "%matplotlib inline\n",
    "\n",
    "\n",
    "stemmer = SnowballStemmer(\"english\")\n",
    "def clean_text(text):\n",
    "    \"\"\"\n",
    "    text: str, returns: str\n",
    "    \"\"\"\n",
    "    # Make text lowercase\n",
    "    text = text.lower()\n",
    "    \n",
    "    # Remove all of the punctuations\n",
    "    translation = str.maketrans(\"\", \"\", string.punctuation)\n",
    "    text = text.translate(translation)\n",
    "    \n",
    "    # Replace repetetive which space with just one blank character\n",
    "    text = re.sub(\"\\s\\s+\", \" \", text).strip()\n",
    "    \n",
    "    # Remove stopping words\n",
    "    text = \" \".join(list(filter(lambda x: x not in ENGLISH_STOP_WORDS, text.split(\" \"))))\n",
    "    \n",
    "    # Stem each word using the snowball stemmer\n",
    "    text = \" \".join(list(map(lambda x: stemmer.stem(x), text.split(\" \"))))\n",
    "    return text\n",
    "\n",
    "\n",
    "sms = pd.read_csv('sms.tsv', sep='\\t', names=['label', 'text'])\n",
    "sms[\"text\"] = sms[\"text\"].apply(clean_text)\n",
    "print(sms.dtypes)  # Expected: label category text object dtype: object\n",
    "sms"
   ]
  },
  {
   "cell_type": "markdown",
   "metadata": {},
   "source": [
    "Split the data into train and test sets (20% test 80% training), use `stratify` parameter to ensure that there is an even split for both categories. X values should be the vectors and y values the labels.\n",
    "\n",
    "\n",
    "Complete `build_tfidf` function below to make and fit a TF-IDF vectorizer with `min_df` = 2. This function is later called in the loop. \n",
    "\n",
    "Similar to previous assignments and problems, change the random state in a for loop from 0 to 9, in each iteration:\n",
    "\n",
    "1. The vectorizer instance is created on the training set. Convert the `X_train` and `X_test` by calling the `transform` method. You don't have to refit the transformer in the loop.\n",
    "2. train and evaluate these classifiers: \n",
    "\n",
    "    * LogisticRegression \n",
    "    * LinearSVC\n",
    "    * Naïve Bayes, with Bernoulli distribution\n",
    "    * Decision tree, use 20 for `min_samples_split` to prevent overfitting\n",
    "    * Random Forest, with a 100 estimators and use min_samples_split like above\n",
    "\n",
    " \n",
    "\n",
    "Use `random_state`s from in `[0, 5)` in classifier contruction for those which accept this parameter.\n",
    "Keep record of these scores in a pandas dataframe and make a boxplot to compare them. Set ylim to `(0.85, 1)`. \n",
    "\n",
    "**You should do all these inside the `fit_eval` and `build_tfidf` functions. Don't add any lines of code before or after it.** Also it doesn't need to return any values."
   ]
  },
  {
   "cell_type": "code",
   "execution_count": 75,
   "metadata": {},
   "outputs": [
    {
     "name": "stdout",
     "output_type": "stream",
     "text": [
      "Time:  63.827567305008415\n"
     ]
    },
    {
     "data": {
      "image/png": "[encoded data removed]",
      "text/plain": [
       "<Figure size 432x288 with 1 Axes>"
      ]
     },
     "metadata": {
      "needs_background": "light"
     },
     "output_type": "display_data"
    }
   ],
   "source": [
    "from sklearn.svm import LinearSVC\n",
    "from sklearn.linear_model import LogisticRegression\n",
    "from sklearn.naive_bayes import BernoulliNB\n",
    "from sklearn.ensemble import RandomForestClassifier\n",
    "from sklearn.tree import DecisionTreeClassifier\n",
    "from sklearn.model_selection import train_test_split\n",
    "from sklearn.feature_extraction.text import TfidfVectorizer\n",
    "import timeit\n",
    "\n",
    "def build_tfidf(X_train):\n",
    "    vectorizer = TfidfVectorizer(min_df=2).fit(X_train)\n",
    "    # Fit the vectorizer here\n",
    "    return (vectorizer,)  # A tuple with only one item\n",
    "\n",
    "\n",
    "def fit_eval(get_vectorizer):\n",
    "    start = timeit.default_timer()\n",
    "    # Column names: 'Logistic Regression', 'Linear SVC', 'Naïve Bayes', 'Decision tree', 'Random Forest'\n",
    "    results = []\n",
    "    for split_seed in range(10):\n",
    "        X_train, X_test, y_train, y_test = train_test_split(sms[\"text\"], sms[\"label\"], random_state=split_seed ,train_size=0.8, stratify=sms[\"label\"])\n",
    "        vectorizer = get_vectorizer(X_train)[0]\n",
    "        if len(get_vectorizer(X_train)) == 2:            \n",
    "            count_vectorizer = get_vectorizer(X_train)[1]\n",
    "            X_train = vectorizer.transform(count_vectorizer.transform(X_train))\n",
    "            X_test = vectorizer.transform(count_vectorizer.transform(X_test))\n",
    "        else:           \n",
    "            # Apply the transformations using `vectorizer` instance above\n",
    "            X_train = vectorizer.transform(X_train)\n",
    "            X_test = vectorizer.transform(X_test)\n",
    "        \n",
    "        for ran_state in range(0, 5):\n",
    "            scores = {}\n",
    "            # LogisticRegression\n",
    "            lr = LogisticRegression(random_state=ran_state, solver='lbfgs').fit(X_train, y_train)\n",
    "            lr_score = lr.score(X_test, y_test)\n",
    "            scores[\"Log_Reg\"] = lr_score\n",
    "\n",
    "            # LinearSVC\n",
    "            lsvc = LinearSVC(random_state=ran_state).fit(X_train, y_train)\n",
    "            lsvc_score = lsvc.score(X_test, y_test)\n",
    "            scores[\"Lin_SVC\"] = lsvc_score\n",
    "\n",
    "            # Naïve Bayes, with Bernoulli distribution\n",
    "            nv_bd = BernoulliNB().fit(X_train, y_train)\n",
    "            nv_bd_score = nv_bd.score(X_test, y_test)\n",
    "            scores[\"Naive_Bayes\"] = nv_bd_score\n",
    "\n",
    "            # Decision tree, use 20 for min_samples_split to prevent overfitting\n",
    "            dtc = DecisionTreeClassifier(random_state=ran_state, min_samples_split=20).fit(X_train, y_train)\n",
    "            dtc_score = dtc.score(X_test, y_test)\n",
    "            scores[\"Decision_Tree\"] = dtc_score\n",
    "            \n",
    "            # Random Forest, with a 100 estimators and use min_samples_split like above\n",
    "            rfc = RandomForestClassifier(n_estimators=100, min_samples_split=20, random_state=ran_state).fit(X_train, y_train)\n",
    "            rfc_score = rfc.score(X_test, y_test)\n",
    "            scores[\"Random_Forest\"] = rfc_score\n",
    "            \n",
    "            # Append all scores to the results\n",
    "            results.append(scores)\n",
    "        \n",
    "    stop = timeit.default_timer()\n",
    "    print('Time: ', stop - start)  \n",
    "    # Should not return anything\n",
    "    pd.DataFrame(results).boxplot().set_ylim(0.85, 1)\n",
    "\n",
    "fit_eval(build_tfidf)"
   ]
  },
  {
   "cell_type": "markdown",
   "metadata": {},
   "source": [
    "Now call `fit_eval` function again but this time instead of using the TF-IDF vectors directly, we make a new function that builds, fits, and returns: a LDA with 25 topics and use topic coverage vector of each document (text message). Use 0 as the `random_state` and a `CountVectorizer` with `min_df` = 2 to vectorize the text messages."
   ]
  },
  {
   "cell_type": "code",
   "execution_count": 76,
   "metadata": {},
   "outputs": [],
   "source": [
    "from sklearn.decomposition import LatentDirichletAllocation\n",
    "from sklearn.feature_extraction.text import CountVectorizer\n",
    "\n",
    "# Your solution\n",
    "def build_lda(X_train):\n",
    "    \"\"\"\n",
    "    Create a count vectorizer as described above, feed the vectors into an LDA and fit it. \n",
    "    It should return both the lda and count vectorizer as they're both going to be used later. \n",
    "    Just keep the return statement as is and you should be good to go.\n",
    "    \"\"\"\n",
    "    count_vectorizer = CountVectorizer(min_df=2)\n",
    "    X_train = count_vectorizer.fit_transform(X_train)\n",
    "    lda = LatentDirichletAllocation(n_components=25, random_state=0)\n",
    "    lda = lda.fit(X_train)\n",
    "    return lda, count_vectorizer\n"
   ]
  },
  {
   "cell_type": "code",
   "execution_count": 77,
   "metadata": {
    "scrolled": false
   },
   "outputs": [
    {
     "name": "stdout",
     "output_type": "stream",
     "text": [
      "Time:  336.00433560900274\n"
     ]
    },
    {
     "data": {
      "image/png": "[encoded data removed]",
      "text/plain": [
       "<Figure size 432x288 with 1 Axes>"
      ]
     },
     "metadata": {
      "needs_background": "light"
     },
     "output_type": "display_data"
    }
   ],
   "source": [
    "fit_eval(build_lda)"
   ]
  },
  {
   "cell_type": "markdown",
   "metadata": {},
   "source": [
    "Use `components_` attribute of the LDA to find top 5 words of each topic and print them out."
   ]
  },
  {
   "cell_type": "code",
   "execution_count": 74,
   "metadata": {},
   "outputs": [
    {
     "name": "stdout",
     "output_type": "stream",
     "text": [
      "Top in 1: drive point account show expir\n",
      "Top in 2: time night im home go\n",
      "Top in 3: free txt ur latest phone\n",
      "Top in 4: dont year know just new\n",
      "Top in 5: lor ok wat got da\n",
      "Top in 6: pls right prize won send\n",
      "Top in 7: start place big sent told\n",
      "Top in 8: ok contact landlin ya video\n",
      "Top in 9: meet work tri month weekend\n",
      "Top in 10: week ur tone free nokia\n",
      "Top in 11: ill sorri later im yeah\n",
      "Top in 12: come tonight tomorrow pick finish\n",
      "Top in 13: ltgt hi oh im got\n",
      "Top in 14: today your birthday class late\n",
      "Top in 15: free repli text nokia txt\n",
      "Top in 16: know leav dear ok dont\n",
      "Top in 17: number thank mobil claim better\n",
      "Top in 18: stop text send love use\n",
      "Top in 19: wish life didnt need love\n",
      "Top in 20: ur guy dont care just\n",
      "Top in 21: good day think morn great\n",
      "Top in 22: that did way love fine\n",
      "Top in 23: like friend just bring im\n",
      "Top in 24: hey buy say ltgt know\n",
      "Top in 25: im lol just happen car\n"
     ]
    }
   ],
   "source": [
    "X_train, _,_,_ = train_test_split(sms['text'], sms['label'], random_state=0, test_size=0.2, stratify=sms[\"label\"])  \n",
    "lda, cv = build_lda(X_train)\n",
    "\n",
    "for i, topic in enumerate(lda.components_, start=1):\n",
    "    sorting = np.argsort(topic)[::-1]\n",
    "    feature_names = np.array(cv.get_feature_names())\n",
    "    \n",
    "    top_five_words = feature_names[sorting][:5]\n",
    "    top_five_words = \" \".join(top_five_words)\n",
    "    \n",
    "    print('Top in '+str(i)+':', top_five_words)"
   ]
  },
  {
   "cell_type": "markdown",
   "metadata": {},
   "source": [
    "In a few sentences describe your observations with regard to comparing vanilla TF-IDF vs adding a LDA on top of a count vectorizer."
   ]
  },
  {
   "cell_type": "markdown",
   "metadata": {},
   "source": [
    "The TF-IDF has a higher accuracy than LDA. "
   ]
  }
 ],
 "metadata": {
  "kernelspec": {
   "display_name": "Python 3",
   "language": "python",
   "name": "python3"
  },
  "language_info": {
   "codemirror_mode": {
    "name": "ipython",
    "version": 3
   },
   "file_extension": ".py",
   "mimetype": "text/x-python",
   "name": "python",
   "nbconvert_exporter": "python",
   "pygments_lexer": "ipython3",
   "version": "3.6.8"
  }
 },
 "nbformat": 4,
 "nbformat_minor": 2
}
