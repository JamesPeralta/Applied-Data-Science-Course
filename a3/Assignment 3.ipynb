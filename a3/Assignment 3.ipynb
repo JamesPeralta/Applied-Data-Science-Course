{
 "cells": [
  {
   "cell_type": "markdown",
   "metadata": {},
   "source": [
    "# ENSF 519.01 Applied Data Science \n",
    "**Assignment 3** - 100 marks\n",
    "\n",
    "**Due:** November 1st, 04.00 pm.\n",
    "\n",
    "\n",
    "**IMPORTANT NOTE: each task must be implemented as asked, even if there are other easier or better solutions.**\n",
    "\n",
    "**How to deliver:**\n",
    "Edit this file and write your solutions in sections specified with `# Your solution`. Test your code and when you are done, submit this notebook as an `.ipynb` file to D2L dropbox. \n",
    "\n"
   ]
  },
  {
   "cell_type": "markdown",
   "metadata": {},
   "source": [
    "## Problem1: Heart disease diagnosis (75 points)\n",
    "\n",
    "In this problem you are presented with a tabular dataset with 13 attributes that are thought to be good indicators of a heart diseases. We are going to train a number of clustering and binary classification algorithms on these data and see which ones perform better. \n",
    "\n",
    "The dataset is stored in CSV format. Use pandas `read_csv` to load it in python. (2 points)"
   ]
  },
  {
   "cell_type": "code",
   "execution_count": 1,
   "metadata": {
    "scrolled": true
   },
   "outputs": [
    {
     "data": {
      "text/html": [
       "<div>\n",
       "<style scoped>\n",
       "    .dataframe tbody tr th:only-of-type {\n",
       "        vertical-align: middle;\n",
       "    }\n",
       "\n",
       "    .dataframe tbody tr th {\n",
       "        vertical-align: top;\n",
       "    }\n",
       "\n",
       "    .dataframe thead th {\n",
       "        text-align: right;\n",
       "    }\n",
       "</style>\n",
       "<table border=\"1\" class=\"dataframe\">\n",
       "  <thead>\n",
       "    <tr style=\"text-align: right;\">\n",
       "      <th></th>\n",
       "      <th>age</th>\n",
       "      <th>sex</th>\n",
       "      <th>cp</th>\n",
       "      <th>trestbps</th>\n",
       "      <th>chol</th>\n",
       "      <th>fbs</th>\n",
       "      <th>restecg</th>\n",
       "      <th>thalach</th>\n",
       "      <th>exang</th>\n",
       "      <th>oldpeak</th>\n",
       "      <th>slope</th>\n",
       "      <th>ca</th>\n",
       "      <th>thal</th>\n",
       "      <th>target</th>\n",
       "    </tr>\n",
       "  </thead>\n",
       "  <tbody>\n",
       "    <tr>\n",
       "      <td>0</td>\n",
       "      <td>63</td>\n",
       "      <td>1</td>\n",
       "      <td>3</td>\n",
       "      <td>145</td>\n",
       "      <td>233</td>\n",
       "      <td>1</td>\n",
       "      <td>0</td>\n",
       "      <td>150</td>\n",
       "      <td>0</td>\n",
       "      <td>2.3</td>\n",
       "      <td>0</td>\n",
       "      <td>0</td>\n",
       "      <td>1</td>\n",
       "      <td>1</td>\n",
       "    </tr>\n",
       "    <tr>\n",
       "      <td>1</td>\n",
       "      <td>37</td>\n",
       "      <td>1</td>\n",
       "      <td>2</td>\n",
       "      <td>130</td>\n",
       "      <td>250</td>\n",
       "      <td>0</td>\n",
       "      <td>1</td>\n",
       "      <td>187</td>\n",
       "      <td>0</td>\n",
       "      <td>3.5</td>\n",
       "      <td>0</td>\n",
       "      <td>0</td>\n",
       "      <td>2</td>\n",
       "      <td>1</td>\n",
       "    </tr>\n",
       "    <tr>\n",
       "      <td>2</td>\n",
       "      <td>41</td>\n",
       "      <td>0</td>\n",
       "      <td>1</td>\n",
       "      <td>130</td>\n",
       "      <td>204</td>\n",
       "      <td>0</td>\n",
       "      <td>0</td>\n",
       "      <td>172</td>\n",
       "      <td>0</td>\n",
       "      <td>1.4</td>\n",
       "      <td>2</td>\n",
       "      <td>0</td>\n",
       "      <td>2</td>\n",
       "      <td>1</td>\n",
       "    </tr>\n",
       "    <tr>\n",
       "      <td>3</td>\n",
       "      <td>56</td>\n",
       "      <td>1</td>\n",
       "      <td>1</td>\n",
       "      <td>120</td>\n",
       "      <td>236</td>\n",
       "      <td>0</td>\n",
       "      <td>1</td>\n",
       "      <td>178</td>\n",
       "      <td>0</td>\n",
       "      <td>0.8</td>\n",
       "      <td>2</td>\n",
       "      <td>0</td>\n",
       "      <td>2</td>\n",
       "      <td>1</td>\n",
       "    </tr>\n",
       "    <tr>\n",
       "      <td>4</td>\n",
       "      <td>57</td>\n",
       "      <td>0</td>\n",
       "      <td>0</td>\n",
       "      <td>120</td>\n",
       "      <td>354</td>\n",
       "      <td>0</td>\n",
       "      <td>1</td>\n",
       "      <td>163</td>\n",
       "      <td>1</td>\n",
       "      <td>0.6</td>\n",
       "      <td>2</td>\n",
       "      <td>0</td>\n",
       "      <td>2</td>\n",
       "      <td>1</td>\n",
       "    </tr>\n",
       "    <tr>\n",
       "      <td>...</td>\n",
       "      <td>...</td>\n",
       "      <td>...</td>\n",
       "      <td>...</td>\n",
       "      <td>...</td>\n",
       "      <td>...</td>\n",
       "      <td>...</td>\n",
       "      <td>...</td>\n",
       "      <td>...</td>\n",
       "      <td>...</td>\n",
       "      <td>...</td>\n",
       "      <td>...</td>\n",
       "      <td>...</td>\n",
       "      <td>...</td>\n",
       "      <td>...</td>\n",
       "    </tr>\n",
       "    <tr>\n",
       "      <td>298</td>\n",
       "      <td>57</td>\n",
       "      <td>0</td>\n",
       "      <td>0</td>\n",
       "      <td>140</td>\n",
       "      <td>241</td>\n",
       "      <td>0</td>\n",
       "      <td>1</td>\n",
       "      <td>123</td>\n",
       "      <td>1</td>\n",
       "      <td>0.2</td>\n",
       "      <td>1</td>\n",
       "      <td>0</td>\n",
       "      <td>3</td>\n",
       "      <td>0</td>\n",
       "    </tr>\n",
       "    <tr>\n",
       "      <td>299</td>\n",
       "      <td>45</td>\n",
       "      <td>1</td>\n",
       "      <td>3</td>\n",
       "      <td>110</td>\n",
       "      <td>264</td>\n",
       "      <td>0</td>\n",
       "      <td>1</td>\n",
       "      <td>132</td>\n",
       "      <td>0</td>\n",
       "      <td>1.2</td>\n",
       "      <td>1</td>\n",
       "      <td>0</td>\n",
       "      <td>3</td>\n",
       "      <td>0</td>\n",
       "    </tr>\n",
       "    <tr>\n",
       "      <td>300</td>\n",
       "      <td>68</td>\n",
       "      <td>1</td>\n",
       "      <td>0</td>\n",
       "      <td>144</td>\n",
       "      <td>193</td>\n",
       "      <td>1</td>\n",
       "      <td>1</td>\n",
       "      <td>141</td>\n",
       "      <td>0</td>\n",
       "      <td>3.4</td>\n",
       "      <td>1</td>\n",
       "      <td>2</td>\n",
       "      <td>3</td>\n",
       "      <td>0</td>\n",
       "    </tr>\n",
       "    <tr>\n",
       "      <td>301</td>\n",
       "      <td>57</td>\n",
       "      <td>1</td>\n",
       "      <td>0</td>\n",
       "      <td>130</td>\n",
       "      <td>131</td>\n",
       "      <td>0</td>\n",
       "      <td>1</td>\n",
       "      <td>115</td>\n",
       "      <td>1</td>\n",
       "      <td>1.2</td>\n",
       "      <td>1</td>\n",
       "      <td>1</td>\n",
       "      <td>3</td>\n",
       "      <td>0</td>\n",
       "    </tr>\n",
       "    <tr>\n",
       "      <td>302</td>\n",
       "      <td>57</td>\n",
       "      <td>0</td>\n",
       "      <td>1</td>\n",
       "      <td>130</td>\n",
       "      <td>236</td>\n",
       "      <td>0</td>\n",
       "      <td>0</td>\n",
       "      <td>174</td>\n",
       "      <td>0</td>\n",
       "      <td>0.0</td>\n",
       "      <td>1</td>\n",
       "      <td>1</td>\n",
       "      <td>2</td>\n",
       "      <td>0</td>\n",
       "    </tr>\n",
       "  </tbody>\n",
       "</table>\n",
       "<p>303 rows × 14 columns</p>\n",
       "</div>"
      ],
      "text/plain": [
       "     age  sex  cp  trestbps  chol  fbs  restecg  thalach  exang  oldpeak  \\\n",
       "0     63    1   3       145   233    1        0      150      0      2.3   \n",
       "1     37    1   2       130   250    0        1      187      0      3.5   \n",
       "2     41    0   1       130   204    0        0      172      0      1.4   \n",
       "3     56    1   1       120   236    0        1      178      0      0.8   \n",
       "4     57    0   0       120   354    0        1      163      1      0.6   \n",
       "..   ...  ...  ..       ...   ...  ...      ...      ...    ...      ...   \n",
       "298   57    0   0       140   241    0        1      123      1      0.2   \n",
       "299   45    1   3       110   264    0        1      132      0      1.2   \n",
       "300   68    1   0       144   193    1        1      141      0      3.4   \n",
       "301   57    1   0       130   131    0        1      115      1      1.2   \n",
       "302   57    0   1       130   236    0        0      174      0      0.0   \n",
       "\n",
       "     slope  ca  thal  target  \n",
       "0        0   0     1       1  \n",
       "1        0   0     2       1  \n",
       "2        2   0     2       1  \n",
       "3        2   0     2       1  \n",
       "4        2   0     2       1  \n",
       "..     ...  ..   ...     ...  \n",
       "298      1   0     3       0  \n",
       "299      1   0     3       0  \n",
       "300      1   2     3       0  \n",
       "301      1   1     3       0  \n",
       "302      1   1     2       0  \n",
       "\n",
       "[303 rows x 14 columns]"
      ]
     },
     "execution_count": 1,
     "metadata": {},
     "output_type": "execute_result"
    }
   ],
   "source": [
    "import matplotlib.pyplot as plt\n",
    "import numpy as np\n",
    "import pandas as pd\n",
    "%matplotlib inline\n",
    "\n",
    "source_file = 'heart.csv'\n",
    "data =  pd.read_csv(source_file)\n",
    "data"
   ]
  },
  {
   "cell_type": "markdown",
   "metadata": {},
   "source": [
    "the last column, `target`, indicates if the patient had a heart disease. That column is used as the label and the rest are features in a 13-dimensional feature space. Separate the labels column from the rest of the dataset. (2 points)\n"
   ]
  },
  {
   "cell_type": "code",
   "execution_count": 2,
   "metadata": {},
   "outputs": [
    {
     "name": "stdout",
     "output_type": "stream",
     "text": [
      "(303, 13) (303,)\n"
     ]
    }
   ],
   "source": [
    "features = data.drop(columns=[\"target\"])\n",
    "labels = data[\"target\"]\n",
    "print(features.shape, labels.shape)  # Expected: (303, 13) (303,)"
   ]
  },
  {
   "cell_type": "markdown",
   "metadata": {},
   "source": [
    "### Finding the best classifiers\n",
    "\n",
    "We want to compare the average performance of the algorithms. To make the comparison fair they need to be evaluated on the same training and test data, in other words we need to control the randomness in training/test data split. So we use a set of *fixed random seeds* for test and train splitting. (15 points)\n",
    "\n",
    "1. Using `sklearn` split the data in two chunks, 1/4 and 3/4, looping over the predefined random seeds(from 5000 to 5051).\n",
    "2. In each iteration create a `LogisticRegression` (use `liblinear` solver) and a `KNeighborsClassifier` (k=10) then train them on the training data.\n",
    "3. In each iteration, evaluate the classifiers on the data and record their scores in the `scores` dictionary.\n",
    "4. Convert the dictionary into a pandas dataframe and call `boxplot` on the dataframe to draw a boxplot of the data. Set the y axis range to (0, 1)."
   ]
  },
  {
   "cell_type": "code",
   "execution_count": 14,
   "metadata": {
    "scrolled": true
   },
   "outputs": [
    {
     "data": {
      "text/plain": [
       "Text(0.5, 1.0, 'Logistic Regression vs. Knn')"
      ]
     },
     "execution_count": 14,
     "metadata": {},
     "output_type": "execute_result"
    },
    {
     "data": {
      "image/png": "[encoded data removed]",
      "text/plain": [
       "<Figure size 432x288 with 1 Axes>"
      ]
     },
     "metadata": {
      "needs_background": "light"
     },
     "output_type": "display_data"
    }
   ],
   "source": [
    "from sklearn.model_selection import train_test_split\n",
    "from sklearn.linear_model import LogisticRegression\n",
    "from sklearn.neighbors import KNeighborsClassifier\n",
    "\n",
    "scores = []\n",
    "for i in range(5000, 5052):\n",
    "    X_train, X_test, y_train, y_test = train_test_split(features, labels, random_state=i, test_size=0.25)\n",
    "    \n",
    "    # train and evaluate Logistic Regressor\n",
    "    logreg = LogisticRegression(solver=\"liblinear\")\n",
    "    logreg.fit(X_train, y_train)\n",
    "    logreg_score = logreg.score(X_test, y_test)\n",
    "    \n",
    "    # train and evaluate K Neighbors Classifier\n",
    "    knn = KNeighborsClassifier(n_neighbors=10)\n",
    "    knn.fit(X_train, y_train)\n",
    "    knn_score = knn.score(X_test, y_test)\n",
    "    \n",
    "    # store values in dictionary\n",
    "    scores.append({\"log_reg\":logreg_score, \"knn\":knn_score})\n",
    "\n",
    "\n",
    "boxplot = pd.DataFrame(scores).boxplot()\n",
    "boxplot.set_ylim(0, 1)\n",
    "boxplot.set_title(\"Logistic Regression vs. Knn\")"
   ]
  },
  {
   "cell_type": "markdown",
   "metadata": {},
   "source": [
    "As you can see, with the current settings, logistic regression outperforms KNN algorithm. Let's see if we can help KNN to get better. We'll keep the random seed as a fixed number (5026) and experiment with different values for `k`. \n",
    "\n",
    "### Improving KNN\n",
    "(20 points)\n",
    "\n",
    "1. Split the data into training and testing chunks.\n",
    "2. Train a logistic regression classifier on the training data, then evaluate it on the test data and store the value in `lr_score` variable. This is only used for comparison.\n",
    "3. Complete the test_knn function below:\n",
    "\n",
    "    1. Use a for loop to iterate through `k_range`, use these values for parameter `k` and train a KNN classifier. Pass all `knn_params` as keyword arguments to `KNeighboursClassifier`.\n",
    "    2. Create a 3-tuple (k, train_score, test_score) and append it to scores list where train_score and test_score are the results of evaluating the classifier on the training and test data. \n",
    "    3. Convert the list of tuples into a pandas dataframe. Set appropriate column names, use `k` as the index.\n",
    "\n",
    "4. Call test_knn and store the results in a variable. Use odd numbers from 3 to 25 as the first parameter.\n",
    "5. Plot the accuracy scores. Add a horizontal dashed line to show the value of `lr_score` on the same plot. It would be nicer if you used another color for this line."
   ]
  },
  {
   "cell_type": "code",
   "execution_count": 31,
   "metadata": {
    "scrolled": false
   },
   "outputs": [
    {
     "name": "stdout",
     "output_type": "stream",
     "text": [
      "    train_score  test_score\n",
      "k                          \n",
      "3      0.748899    0.657895\n",
      "5      0.748899    0.723684\n",
      "7      0.682819    0.710526\n",
      "9      0.678414    0.684211\n",
      "11     0.700441    0.710526\n",
      "13     0.669604    0.736842\n",
      "15     0.669604    0.750000\n",
      "17     0.660793    0.763158\n",
      "19     0.665198    0.763158\n",
      "21     0.665198    0.776316\n",
      "23     0.674009    0.763158\n",
      "25     0.674009    0.750000\n"
     ]
    },
    {
     "data": {
      "text/plain": [
       "[]"
      ]
     },
     "execution_count": 31,
     "metadata": {},
     "output_type": "execute_result"
    },
    {
     "data": {
      "image/png": "[encoded data removed]",
      "text/plain": [
       "<Figure size 432x288 with 1 Axes>"
      ]
     },
     "metadata": {
      "needs_background": "light"
     },
     "output_type": "display_data"
    }
   ],
   "source": [
    "seed = 5026\n",
    "X_train, X_test, y_train, y_test = train_test_split(features, labels, random_state=seed)\n",
    "\n",
    "logreg = LogisticRegression(solver=\"liblinear\")\n",
    "logreg.fit(X_train, y_train)\n",
    "log_score = logreg.score(X_test, y_test)\n",
    "\n",
    "def test_knn(k_range, X_train, X_test, y_train, y_test, **knn_params):\n",
    "    scores_list = []\n",
    "    for i in k_range:\n",
    "        knn = KNeighborsClassifier(n_neighbors=i, **knn_params)\n",
    "        knn.fit(X_train, y_train)\n",
    "        train_score = knn.score(X_train, y_train)\n",
    "        test_score = knn.score(X_test, y_test)\n",
    "        scores_list.append((i, train_score, test_score))\n",
    "\n",
    "    return pd.DataFrame(scores_list, columns=[\"k\", \"train_score\", \"test_score\"]).set_index(\"k\")  # Dataframe\n",
    "\n",
    "k_range = range(3, 26, 2)\n",
    "knn_df = test_knn(k_range, X_train, X_test, y_train, y_test)\n",
    "print(knn_df)\n",
    "\n",
    "plt.plot(knn_df[\"train_score\"], label=\"Train\")\n",
    "plt.plot(knn_df[\"test_score\"], label=\"Test\")\n",
    "plt.axhline(log_score, color='r', linestyle=\"--\", label=\"Log Reg\")\n",
    "plt.xticks(list(k_range))\n",
    "\n",
    "plt.title(\"Accuracy with increasing number of neighbors\")\n",
    "plt.ylabel(\"Accuracy\")\n",
    "plt.xlabel(\"Number of Neighbors\")\n",
    "plt.legend()\n",
    "plt.plot()"
   ]
  },
  {
   "cell_type": "markdown",
   "metadata": {},
   "source": [
    "You can see that with different values for K we can find the sweet spot between overfitting and generalization in KNN but it never gets good enough to beat logistic regression.\n",
    "\n",
    "We can change also experiment with changing the [`weights` parameter](https://scikit-learn.org/stable/modules/generated/sklearn.neighbors.KNeighborsClassifier.html) in KNN from its default `uniform` value to `distance`. Call the `test_knn` function again with the same range for `k`, this time passing `weights` parameter as well. Plot the training and test scores as well as the horizontal dashed line that shows `lr_score`. (5 points)"
   ]
  },
  {
   "cell_type": "code",
   "execution_count": 35,
   "metadata": {},
   "outputs": [
    {
     "data": {
      "text/plain": [
       "[]"
      ]
     },
     "execution_count": 35,
     "metadata": {},
     "output_type": "execute_result"
    },
    {
     "data": {
      "image/png": "[encoded data removed]",
      "text/plain": [
       "<Figure size 432x288 with 1 Axes>"
      ]
     },
     "metadata": {
      "needs_background": "light"
     },
     "output_type": "display_data"
    }
   ],
   "source": [
    "knn_df_weights = test_knn(k_range, X_train, X_test, y_train, y_test, weights=\"distance\")\n",
    "\n",
    "plt.plot(knn_df_weights[\"train_score\"], label=\"train\")\n",
    "plt.plot(knn_df_weights[\"test_score\"], label=\"test\")\n",
    "plt.axhline(log_score, color='r', linestyle=\"--\", label=\"log reg\")\n",
    "plt.xticks(list(k_range))\n",
    "\n",
    "plt.title(\"Acc with increasing number of neighbors\")\n",
    "plt.ylabel(\"Acc\")\n",
    "plt.xlabel(\"K\")\n",
    "plt.legend()\n",
    "plt.plot()"
   ]
  },
  {
   "cell_type": "markdown",
   "metadata": {},
   "source": [
    "Even though it's overfitting, it performs better on the test set than the previous one. Yet, it's no better than logistic regression."
   ]
  },
  {
   "cell_type": "markdown",
   "metadata": {},
   "source": [
    "### Combining the models (ensemble model)\n",
    "\n",
    "A common way of maximizing the accuracy is to train multiple models and use all for prediction. In a classification problem we use the class that the majority of models have predicted and in a regression problem a weighted average of the predictions is used.\n",
    "\n",
    "Make a function that creates and trains 3 models and returns them in a list. The models are:\n",
    "\n",
    "* A Logistic Regressor with 'liblinear' solver\n",
    "* A KNN classifiers with k = 10 and setting `weights` to 'distance'\n",
    "* Another KNN with k = 20 and setting `weights` to 'distance'\n",
    "\n",
    "and the inputs to the function are X and Y values for the training set. (12 points)"
   ]
  },
  {
   "cell_type": "code",
   "execution_count": 36,
   "metadata": {},
   "outputs": [
    {
     "name": "stdout",
     "output_type": "stream",
     "text": [
      "(LogisticRegression(C=1.0, class_weight=None, dual=False, fit_intercept=True,\n",
      "                   intercept_scaling=1, l1_ratio=None, max_iter=100,\n",
      "                   multi_class='warn', n_jobs=None, penalty='l2',\n",
      "                   random_state=None, solver='liblinear', tol=0.0001, verbose=0,\n",
      "                   warm_start=False), KNeighborsClassifier(algorithm='auto', leaf_size=30, metric='minkowski',\n",
      "                     metric_params=None, n_jobs=None, n_neighbors=10, p=2,\n",
      "                     weights='distance'), KNeighborsClassifier(algorithm='auto', leaf_size=30, metric='minkowski',\n",
      "                     metric_params=None, n_jobs=None, n_neighbors=20, p=2,\n",
      "                     weights='distance'))\n"
     ]
    }
   ],
   "source": [
    "def create_models(X_train, y_train):\n",
    "    # create logistic regressor, solver=liblinear\n",
    "    log_reg = LogisticRegression(solver=\"liblinear\")\n",
    "    log_reg.fit(X_train, y_train)\n",
    "    \n",
    "    # create the knn classifier, k=10\n",
    "    knn_10 = KNeighborsClassifier(n_neighbors=10, weights=\"distance\")\n",
    "    knn_10.fit(X_train, y_train)\n",
    "    \n",
    "    # create the knn classifier, k=20\n",
    "    knn_20 = KNeighborsClassifier(n_neighbors=20, weights=\"distance\")\n",
    "    knn_20.fit(X_train, y_train)\n",
    "    \n",
    "    return (log_reg, knn_10, knn_20)\n",
    "\n",
    "models = create_models(X_train, y_train)\n",
    "print(models)"
   ]
  },
  {
   "cell_type": "markdown",
   "metadata": {},
   "source": [
    "Create a `predict` function that takes in a list of models and the input vectors (X) and returns the output vector Y using majority voting. To find the majority in an easy way use `mode` function in `scipy` since it supports vectorized operations. (6 points)"
   ]
  },
  {
   "cell_type": "code",
   "execution_count": 37,
   "metadata": {},
   "outputs": [
    {
     "data": {
      "text/plain": [
       "array([0, 1, 1, 1, 1, 0, 0, 0, 1, 1, 1, 0, 1, 1, 0, 1, 0, 1, 1, 1, 1, 1,\n",
       "       1, 0, 0, 0, 1, 0, 0, 1, 0, 1, 1, 0, 1, 0, 0, 1, 0, 1, 1, 0, 0, 0,\n",
       "       1, 1, 1, 0, 1, 0, 0, 0, 1, 0, 1, 1, 0, 1, 1, 1, 0, 0, 1, 0, 1, 1,\n",
       "       1, 1, 0, 0, 1, 0, 1, 1, 1, 1])"
      ]
     },
     "execution_count": 37,
     "metadata": {},
     "output_type": "execute_result"
    }
   ],
   "source": [
    "from scipy.stats import mode\n",
    "\n",
    "def predict(models, X):\n",
    "    log_reg, knn_10, knn_20 = models\n",
    "    \n",
    "    log_preds = log_reg.predict(X)\n",
    "    knn_10_preds = knn_10.predict(X)\n",
    "    knn_20_preds = knn_20.predict(X)\n",
    "\n",
    "    modes = mode([log_preds, knn_10_preds, knn_20_preds])\n",
    "    \n",
    "    return modes.mode[0]\n",
    "    \n",
    "    \n",
    "predict(models, X_test)  # Expected: 0, 1, 1, 1, 1, 0, 0, 0, ..."
   ]
  },
  {
   "cell_type": "markdown",
   "metadata": {},
   "source": [
    "Use a loop similar to the first part (Finding the best classifiers) to compare the performance of each of the models in the ensemble (=the model list created by `create_models`) and the combined model (call the `predict` function above). To evaluate the accuracy of the combined model use `sklearn.metrics.accuracy_score` method. Draw the boxplot in the end. (13 points)"
   ]
  },
  {
   "cell_type": "code",
   "execution_count": 39,
   "metadata": {},
   "outputs": [
    {
     "data": {
      "text/plain": [
       "(0, 1)"
      ]
     },
     "execution_count": 39,
     "metadata": {},
     "output_type": "execute_result"
    },
    {
     "data": {
      "image/png": "[encoded data removed]",
      "text/plain": [
       "<Figure size 432x288 with 1 Axes>"
      ]
     },
     "metadata": {
      "needs_background": "light"
     },
     "output_type": "display_data"
    }
   ],
   "source": [
    "from sklearn.metrics import accuracy_score\n",
    "\n",
    "scores = {}\n",
    "for i in range(5000, 5052):\n",
    "    X_train, X_test, y_train, y_test = train_test_split(features, labels, random_state=i)\n",
    "    \n",
    "    log_reg, knn_10, knn_20 = create_models(X_train, y_train)\n",
    "    \n",
    "    scores_dict = {}\n",
    "    log_reg_score = log_reg.score(X_test, y_test)\n",
    "    scores_dict[\"LR\"] = log_reg_score\n",
    "    knn_10_score = knn_10.score(X_test, y_test)\n",
    "    scores_dict[\"KNN10\"] = knn_10_score\n",
    "    knn_20_score = knn_20.score(X_test, y_test)\n",
    "    scores_dict[\"KNN20\"] = knn_20_score\n",
    "    combined_score = accuracy_score(y_test, predict((log_reg, knn_10, knn_20), X_test))\n",
    "    scores_dict[\"Combined\"] = combined_score\n",
    "    \n",
    "    # store values in dictionary\n",
    "    scores[i] = scores_dict\n",
    "\n",
    "box_plot = pd.DataFrame(scores.values()).boxplot()\n",
    "box_plot.set_title(\"Performance of all classifiers\")\n",
    "box_plot.set_xlabel(\"Acc\")\n",
    "box_plot.set_ylabel(\"Classifiers\")\n",
    "box_plot.set_ylim(0, 1)"
   ]
  },
  {
   "cell_type": "markdown",
   "metadata": {},
   "source": [
    "Did the result get better than the individual KNN models?"
   ]
  },
  {
   "cell_type": "markdown",
   "metadata": {},
   "source": [
    "## Problem2: Bike sharing (25 points)\n",
    "\n",
    "In this problem we are going to use linear regression to predict the number of bike sharif platfor quality of wine from 1-10. Read the data from CSV file, use 'cnt' column as the target values and all other columns (except 'dteday') as the features (4 points)."
   ]
  },
  {
   "cell_type": "code",
   "execution_count": 40,
   "metadata": {
    "scrolled": true
   },
   "outputs": [
    {
     "name": "stdout",
     "output_type": "stream",
     "text": [
      "(731, 11) (731,)\n"
     ]
    }
   ],
   "source": [
    "from sklearn.linear_model import LinearRegression, Lasso, Ridge\n",
    "\n",
    "bikes_data = pd.read_csv(\"bikes.csv\")\n",
    "features = bikes_data.drop(columns=[\"dteday\", \"cnt\"])\n",
    "target = bikes_data[\"cnt\"]\n",
    "\n",
    "print(features.shape, target.shape) # Expected: (731, 11) (731,)"
   ]
  },
  {
   "cell_type": "markdown",
   "metadata": {},
   "source": [
    "Split the data in two 1/4 and 3/4 chunks for training and testing, use the number 15 as the `random_state` parameter. (2 points)"
   ]
  },
  {
   "cell_type": "code",
   "execution_count": 41,
   "metadata": {},
   "outputs": [],
   "source": [
    "X_train, X_test, y_train, y_test = train_test_split(features, target, random_state=15)"
   ]
  },
  {
   "cell_type": "markdown",
   "metadata": {},
   "source": [
    "Train a linear regression model on the data and report the training and test scores. (5 points)"
   ]
  },
  {
   "cell_type": "code",
   "execution_count": 42,
   "metadata": {},
   "outputs": [
    {
     "name": "stdout",
     "output_type": "stream",
     "text": [
      "Training=0.7989\tTest=0.7857\n"
     ]
    }
   ],
   "source": [
    "lin_reg = LinearRegression()\n",
    "lin_reg.fit(X_train, y_train)\n",
    "\n",
    "training_score = lin_reg.score(X_train, y_train)\n",
    "test_score = lin_reg.score(X_test, y_test)\n",
    "print(f'Training={training_score:.4}\\tTest={test_score:.4}')  # Expected: Training=0.7857\tTest=0.7989"
   ]
  },
  {
   "cell_type": "markdown",
   "metadata": {},
   "source": [
    "Regularize the regression model using ridge method. Train it with 10 values of alpha and report training and test scores. (7 points)"
   ]
  },
  {
   "cell_type": "code",
   "execution_count": 43,
   "metadata": {},
   "outputs": [
    {
     "name": "stdout",
     "output_type": "stream",
     "text": [
      "⍺=0.001\tTraining=0.7989\tTest=0.7858\n",
      "⍺=0.01\tTraining=0.7989\tTest=0.7865\n",
      "⍺=0.1\tTraining=0.7987\tTest=0.788\n",
      "⍺=1.0\tTraining=0.7975\tTest=0.7875\n",
      "⍺=2.0\tTraining=0.7956\tTest=0.7856\n",
      "⍺=5.0\tTraining=0.789\tTest=0.7781\n",
      "⍺=10.0\tTraining=0.7768\tTest=0.7638\n",
      "⍺=20.0\tTraining=0.7511\tTest=0.7339\n",
      "⍺=50.0\tTraining=0.6836\tTest=0.6562\n",
      "⍺=100.0\tTraining=0.601\tTest=0.5631\n"
     ]
    }
   ],
   "source": [
    "alpha_values = [1e-3, 1e-2, 1e-1, 1., 2., 5., 10., 20., 50., 100.]\n",
    "\n",
    "for alpha in alpha_values:\n",
    "    ridge = Ridge(alpha=alpha).fit(X_train, y_train)\n",
    "    \n",
    "    training_score = ridge.score(X_train, y_train)\n",
    "    test_score = ridge.score(X_test, y_test)\n",
    "    print(f'⍺={alpha:.5}\\tTraining={training_score:.4}\\tTest={test_score:.4}')\n",
    "\n",
    "# First line of expected value:\n",
    "# ⍺=0.001\tTraining=0.7858\tTest=0.7989"
   ]
  },
  {
   "cell_type": "markdown",
   "metadata": {},
   "source": [
    "Use the same alpha values, train a lasso regualizer this time. Report the names of the features that got a 0 coefficient after regulazition. Separate their names with a comma, if none of them were omitted report 'no features'. (9 points)"
   ]
  },
  {
   "cell_type": "code",
   "execution_count": 46,
   "metadata": {},
   "outputs": [
    {
     "name": "stdout",
     "output_type": "stream",
     "text": [
      "⍺=0.001\tTraining=0.7989\tTest=0.7857\n",
      "⍺=0.001\tTraining=0.7989\tTest=0.7857\tno features\n",
      "⍺=0.01\tTraining=0.7989\tTest=0.7857\n",
      "⍺=0.01\tTraining=0.7989\tTest=0.7857\tno features\n",
      "⍺=0.1\tTraining=0.7989\tTest=0.7859\n",
      "⍺=0.1\tTraining=0.7989\tTest=0.7859\tno features\n",
      "⍺=1.0\tTraining=0.7988\tTest=0.7865\n",
      "⍺=1.0\tTraining=0.7988\tTest=0.7865\tno features\n",
      "⍺=2.0\tTraining=0.7984\tTest=0.7869\n",
      "⍺=2.0\tTraining=0.7984\tTest=0.7869\tno features\n",
      "⍺=5.0\tTraining=0.796\tTest=0.7857\n",
      "⍺=5.0\tTraining=0.796\tTest=0.7857\tno features\n",
      "⍺=10.0\tTraining=0.7889\tTest=0.7783\n",
      "⍺=10.0\tTraining=0.7889\tTest=0.7783\thum\n",
      "⍺=20.0\tTraining=0.7796\tTest=0.7694\n",
      "⍺=20.0\tTraining=0.7796\tTest=0.7694\tholiday, atemp, hum, windspeed\n",
      "⍺=50.0\tTraining=0.7571\tTest=0.7476\n",
      "⍺=50.0\tTraining=0.7571\tTest=0.7476\tholiday, atemp, hum, windspeed\n",
      "⍺=100.0\tTraining=0.6854\tTest=0.6755\n",
      "⍺=100.0\tTraining=0.6854\tTest=0.6755\tmnth, holiday, workingday, atemp, hum, windspeed\n"
     ]
    },
    {
     "name": "stderr",
     "output_type": "stream",
     "text": [
      "/Users/jamesperalta/PythonEnvs/ENSF-519/lib/python3.6/site-packages/sklearn/linear_model/coordinate_descent.py:475: ConvergenceWarning: Objective did not converge. You might want to increase the number of iterations. Duality gap: 23068568.161092818, tolerance: 203906.58018156936\n",
      "  positive)\n"
     ]
    }
   ],
   "source": [
    "alpha_values = [1e-3, 1e-2, 1e-1, 1., 2., 5., 10., 20., 50., 100.]\n",
    "\n",
    "for alpha in alpha_values:\n",
    "    lasso = Lasso(alpha=alpha).fit(X_train, y_train)\n",
    "    \n",
    "    training_score = lasso.score(X_train, y_train)\n",
    "    test_score = lasso.score(X_test, y_test)\n",
    "    \n",
    "    print(f'⍺={alpha:.5}\\tTraining={training_score:.4}\\tTest={test_score:.4}')\n",
    "    \n",
    "    training_score = lasso.score(X_train, y_train)\n",
    "    test_score = lasso.score(X_test, y_test)\n",
    "    zeroed_out_feature_names = list(X_train.columns[np.where(lasso.coef_ == 0)])\n",
    "    if not zeroed_out_feature_names:\n",
    "        zeroed_out_feature_names = \"no features\"\n",
    "    else:\n",
    "        zeroed_out_feature_names = \", \".join(zeroed_out_feature_names)\n",
    "    print(f'⍺={alpha:.5}\\tTraining={training_score:.4}\\tTest={test_score:.4}\\t{zeroed_out_feature_names}')\n",
    "    \n",
    "# First line of expected value:\n",
    "# ⍺=0.001\tTraining=0.7857\tTest=0.7989\tno features"
   ]
  }
 ],
 "metadata": {
  "kernelspec": {
   "display_name": "Python 3",
   "language": "python",
   "name": "python3"
  },
  "language_info": {
   "codemirror_mode": {
    "name": "ipython",
    "version": 3
   },
   "file_extension": ".py",
   "mimetype": "text/x-python",
   "name": "python",
   "nbconvert_exporter": "python",
   "pygments_lexer": "ipython3",
   "version": "3.6.8"
  }
 },
 "nbformat": 4,
 "nbformat_minor": 2
}
