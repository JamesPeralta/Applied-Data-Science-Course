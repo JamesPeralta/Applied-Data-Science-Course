{
 "cells": [
  {
   "cell_type": "markdown",
   "metadata": {},
   "source": [
    "# ENSF 519.01 Applied Data Science \n",
    "**Assignment 4** - 100 marks\n",
    "\n",
    "**Due:** November 15, 04.00 pm.\n",
    "\n",
    "\n",
    "**IMPORTANT NOTE: each task must be implemented as asked, even if there are other easier or better solutions.**\n",
    "\n",
    "**How to deliver:**\n",
    "Edit this file and write your solutions in sections specified with `# Your solution`. Test your code and when you are done, submit this notebook as an `.ipynb` file to D2L dropbox. \n",
    "\n"
   ]
  },
  {
   "cell_type": "markdown",
   "metadata": {},
   "source": [
    "## Problem 1: Clustering and Classification (45 points)\n",
    "\n",
    "### Part A. Clustering\n",
    "In this problem, we apply two clustering algorithms on MNIST handwritten digits data and compare them using ARI score. Here you can see how image data are usually represented for machine learning tasks. Complete the code below to load the MNIST data, feel free to add more code (plotting graphs or printing values) to explore the dataset. In the end, since many algorithms work better or can work only with normalized data, use `scale` method in scikit learn to normalize the pixel values."
   ]
  },
  {
   "cell_type": "code",
   "execution_count": 186,
   "metadata": {},
   "outputs": [
    {
     "name": "stdout",
     "output_type": "stream",
     "text": [
      "(n_data, number of features) = (1797, 64)\n"
     ]
    },
    {
     "data": {
      "text/plain": [
       "array([ 0.,  5., 12., 13., 16., 16.,  2.,  0.,  0., 11., 16., 15.,  8.,\n",
       "        4.,  0.,  0.,  0.,  8., 14., 11.,  1.,  0.,  0.,  0.,  0.,  8.,\n",
       "       16., 16., 14.,  0.,  0.,  0.,  0.,  1.,  6.,  6., 16.,  0.,  0.,\n",
       "        0.,  0.,  0.,  0.,  5., 16.,  3.,  0.,  0.,  0.,  1.,  5., 15.,\n",
       "       13.,  0.,  0.,  0.,  0.,  4., 15., 16.,  2.,  0.,  0.,  0.])"
      ]
     },
     "metadata": {},
     "output_type": "display_data"
    },
    {
     "data": {
      "text/plain": [
       "5"
      ]
     },
     "metadata": {},
     "output_type": "display_data"
    },
    {
     "data": {
      "image/png": "[encoded data removed]",
      "text/plain": [
       "<Figure size 432x288 with 1 Axes>"
      ]
     },
     "metadata": {
      "needs_background": "light"
     },
     "output_type": "display_data"
    }
   ],
   "source": [
    "import numpy as np\n",
    "import matplotlib.pyplot as plt\n",
    "%matplotlib inline\n",
    "\n",
    "from sklearn import metrics\n",
    "from sklearn.cluster import KMeans\n",
    "from sklearn.datasets import load_digits\n",
    "from sklearn.preprocessing import scale\n",
    "\n",
    "digits = load_digits()\n",
    "\n",
    "data = digits.data\n",
    "labels = digits.target\n",
    "\n",
    "print('(n_data, number of features) =', data.shape)  # = (1797, 64)\n",
    "# There are 64 features per sample, since each sample is a 8*8 image.\n",
    "\n",
    "# Let's see a sample:\n",
    "display(data[15], labels[15])\n",
    "plt.imshow(data[15].reshape((8, 8)));  # See that nice little 5 there?\n",
    "\n",
    "# Scale and normalize the feature values using:\n",
    "# https://scikit-learn.org/stable/modules/generated/sklearn.preprocessing.scale.html\n",
    "\n",
    "data = scale(data, axis=0, with_mean=True, with_std=True, copy=True)"
   ]
  },
  {
   "cell_type": "markdown",
   "metadata": {},
   "source": [
    "Using the pixel values as the features, apply k-means clustering to cluster the digits together. Try K-means with number of clusters = 10, use ARI score to compare KMeans clustereing results with the ground truth."
   ]
  },
  {
   "cell_type": "code",
   "execution_count": 189,
   "metadata": {},
   "outputs": [
    {
     "name": "stdout",
     "output_type": "stream",
     "text": [
      "K-Means ARI score = 0.46507\n"
     ]
    }
   ],
   "source": [
    "# Your solution\n",
    "kmeans = KMeans(n_clusters=10, random_state=0)\n",
    "kmeans.fit(data)\n",
    "\n",
    "ARI_score = metrics.adjusted_rand_score(kmeans.predict(data), labels)\n",
    "\n",
    "print(f'K-Means ARI score = {ARI_score:.5}')"
   ]
  },
  {
   "cell_type": "markdown",
   "metadata": {},
   "source": [
    "Apply agglomerative clustering technique on the data. Again set cut-off number of clusters to 10. Try 4 different values of linkage (ward, complete, average, and single) and 3 distance calculation modes (affinity): euclidean, L1, and L2. Report ARI score wrt ground truth for each method. Since ward linkage can only work with euclidean distance mode, skip L1 and L2 when using ward."
   ]
  },
  {
   "cell_type": "code",
   "execution_count": 171,
   "metadata": {},
   "outputs": [
    {
     "name": "stdout",
     "output_type": "stream",
     "text": [
      "AHC Affinity=euclidean Linkage mode=ward     ARI score = 0.66435\n",
      "AHC Affinity=euclidean Linkage mode=complete ARI score = 0.00029815\n",
      "AHC Affinity=l1        Linkage mode=complete ARI score = 0.1921\n",
      "AHC Affinity=l2        Linkage mode=complete ARI score = 0.00029815\n",
      "AHC Affinity=euclidean Linkage mode=average  ARI score = 2.345e-05\n",
      "AHC Affinity=l1        Linkage mode=average  ARI score = 0.00053779\n",
      "AHC Affinity=l2        Linkage mode=average  ARI score = 2.345e-05\n",
      "AHC Affinity=euclidean Linkage mode=single   ARI score = 9.454e-06\n",
      "AHC Affinity=l1        Linkage mode=single   ARI score = 6.6739e-06\n",
      "AHC Affinity=l2        Linkage mode=single   ARI score = 9.454e-06\n"
     ]
    }
   ],
   "source": [
    "from sklearn.cluster import AgglomerativeClustering\n",
    "\n",
    "for linkage_mode in ('ward', 'complete', 'average', 'single'):\n",
    "    for affinity in ('euclidean', 'l1', 'l2'):\n",
    "        clustering = AgglomerativeClustering(n_clusters=10, linkage=linkage_mode, affinity=affinity)\n",
    "        clustering.fit(data)\n",
    "        \n",
    "        ARI_score = metrics.adjusted_rand_score(clustering.fit_predict(data), labels)\n",
    "        \n",
    "        print(f'AHC Affinity={affinity:9} Linkage mode={linkage_mode:8} ARI score = {ARI_score:.5}')\n",
    "        \n",
    "        if linkage_mode == 'ward':\n",
    "            break"
   ]
  },
  {
   "cell_type": "markdown",
   "metadata": {},
   "source": [
    "### Part B. Multiclass Classification\n",
    "\n",
    "Now we are going to use the same dataset but for a different task, which is multi-class classification. The 64 pixel values will be the features and the labels are the actual written digit. Train a Linear SVC classifier and compare it with an ensemble of LogisticRegression classifiers. SVC and Logistic Regression are binary classifiers at their cores, but their scikit-learn implementation automatically handles the one-versus-rest scheme for you. For logistic regression try both 'ovr' (one-versus-rest) and 'multinomial' for multiclass handling method. Keep the scores for all three classification methods and draw a box plot in the end to compare them.\n"
   ]
  },
  {
   "cell_type": "code",
   "execution_count": 172,
   "metadata": {},
   "outputs": [],
   "source": [
    "import warnings\n",
    "warnings.filterwarnings('ignore')\n",
    "\n",
    "from sklearn.model_selection import train_test_split\n",
    "from sklearn.ensemble import VotingClassifier\n",
    "from sklearn.svm import LinearSVC\n",
    "from sklearn.linear_model import LogisticRegression\n",
    "\n",
    "\n",
    "scores = {name: [] for name in ('SVC', 'LR ovr', 'LR mn')}\n",
    "for seed in np.arange(1, 30+1):\n",
    "    X_train, X_test, y_train, y_test = train_test_split(data, labels, random_state=seed)\n",
    "    \n",
    "    # SVC\n",
    "    linear_svc = LinearSVC()\n",
    "    linear_svc.fit(X_train, y_train)\n",
    "    scores['SVC'].append(linear_svc.score(X_test, y_test))\n",
    "    \n",
    "    # Logistic regression using ovr\n",
    "    ovr_log = LogisticRegression(solver='lbfgs', multi_class='ovr')\n",
    "    ovr_log.fit(X_train, y_train)\n",
    "    scores['LR ovr'].append(ovr_log.score(X_test, y_test))\n",
    "        \n",
    "    # Logistic regression using multinomial\n",
    "    mn_log = LogisticRegression(solver='lbfgs', multi_class='multinomial')\n",
    "    mn_log.fit(X_train, y_train)\n",
    "    scores['LR mn'].append(mn_log.score(X_test, y_test))"
   ]
  },
  {
   "cell_type": "code",
   "execution_count": 173,
   "metadata": {},
   "outputs": [
    {
     "data": {
      "text/plain": [
       "Text(0.5, 1.0, 'Performance between different classifiers')"
      ]
     },
     "execution_count": 173,
     "metadata": {},
     "output_type": "execute_result"
    },
    {
     "data": {
      "image/png": "[encoded data removed]",
      "text/plain": [
       "<Figure size 432x288 with 1 Axes>"
      ]
     },
     "metadata": {
      "needs_background": "light"
     },
     "output_type": "display_data"
    }
   ],
   "source": [
    "data_to_plot = [scores['SVC'], scores['LR ovr'], scores['LR mn']]\n",
    "fig, ax = plt.subplots(1)\n",
    "ax.boxplot(data_to_plot, labels=[\"SVC\", \"LR ovr\", \"LR mn\"])\n",
    "ax.set_ylabel(\"Accuracy\")\n",
    "ax.set_xlabel(\"Classifier\")\n",
    "ax.set_title(\"Performance between different classifiers\")"
   ]
  },
  {
   "cell_type": "markdown",
   "metadata": {},
   "source": [
    "## Problem 2: Dimension reduction for feature selection (25 points)\n",
    "\n",
    "In the first part of this problem, we compare the dimension reduction ability of PCA and linear regression models.\n",
    "\n",
    "To use linear regression model as a dimension reduction technique, we fit the model and pick the most informative features (highest absolute coefficients) and ignore all other ones. \n",
    "\n",
    "Our dataset is \"LLVMAll.csv\", which records some performance measurements of a LLVM Compiler. See https://zenodo.org/record/322483#.Xbmov0VKjOT for more details.\n",
    "\n",
    "- Read the dataset and apply proper normalization on each row. Note that you only apply it on the feature columns and leave the target values (performance) untouched.\n",
    "- Apply Linear Regression with default paramters to pick the two most important features (use `top_k_indices`).\n",
    "- Fit a PCA model (with default paramters) on the original training set to find the first two principal components.\n",
    "- Now for comparison, build 3 Linear Regression models only differing on their input/output data: \n",
    "    1. use the original training and test sets\n",
    "    2. use the train and test set given by linear regression selected features\n",
    "    3. use the PCA transformed data\n",
    "- Repeat the steps above 30 times with random_state range [1..30] for train/test splitter and calculate the test scores in the end. Note that for each run a new PCA and Linear regression should be applied (i.e., do not transform new data based on the old fitted models)\n",
    "- Report the median scores over 30 runs for each of the three models"
   ]
  },
  {
   "cell_type": "code",
   "execution_count": 174,
   "metadata": {},
   "outputs": [
    {
     "name": "stdout",
     "output_type": "stream",
     "text": [
      "0 4 "
     ]
    }
   ],
   "source": [
    "import numpy as np\n",
    "from sklearn.decomposition import PCA \n",
    "from sklearn.model_selection import train_test_split\n",
    "from sklearn.linear_model import LinearRegression\n",
    "from sklearn.preprocessing import normalize\n",
    "import pandas as pd\n",
    "from IPython.display import Markdown\n",
    "%matplotlib inline\n",
    "\n",
    "\n",
    "def read_and_normalize(file_name):\n",
    "    compiler_data = pd.read_csv(file_name)\n",
    "    \n",
    "    # normalize features here\n",
    "    features = normalize(compiler_data.drop(columns=\"$<Performance\"))\n",
    "    labels = compiler_data[\"$<Performance\"]\n",
    "    \n",
    "    return features, labels\n",
    "\n",
    "def top_k_indices(l, k=1):\n",
    "    \"\"\"\n",
    "    Return indices of top k elements of l.\n",
    "    \n",
    "    Example:\n",
    "    for index in top_k_indices([5, 0, 0, 4, 10, 1], k=2):\n",
    "        print(index)\n",
    "        \n",
    "    result: 4 0\n",
    "    \"\"\"\n",
    "    return np.argpartition(l, -k)[-k:]\n",
    "\n",
    "for index in top_k_indices([5, 0, 0, 4, 10, 1], k=2):\n",
    "    print(index, end=' ')"
   ]
  },
  {
   "cell_type": "code",
   "execution_count": 175,
   "metadata": {},
   "outputs": [
    {
     "data": {
      "text/markdown": [
       "|[]()|Median scores|\n",
       "|---|---|\n",
       "|**Original**|0.7902|\n",
       "|**PCA**|0.3612|\n",
       "|**LR**|0.07671|\n"
      ],
      "text/plain": [
       "<IPython.core.display.Markdown object>"
      ]
     },
     "metadata": {},
     "output_type": "display_data"
    }
   ],
   "source": [
    "features, labels = read_and_normalize('LLVMAll.csv')\n",
    "\n",
    "scores = {name: [] for name in ('original', 'pca', 'lr')}\n",
    "for seed in np.arange(1, 30+1):\n",
    "    X_train, X_test, y_train, y_test = train_test_split(features, labels, random_state=seed)\n",
    "    \n",
    "    # Linear Regression to get top K indices\n",
    "    lin_reg = LinearRegression().fit(X_train, y_train)\n",
    "    lin_reg_indices = top_k_indices(lin_reg.coef_, k=2)\n",
    "    \n",
    "    # PCA to get top K indices\n",
    "    pca = PCA(n_components=2).fit(X_train)\n",
    "    \n",
    "    # original features acc\n",
    "    scores['original'].append(lin_reg.score(X_test, y_test))\n",
    "    \n",
    "    # lin reg features acc\n",
    "    X_train_lr = X_train[:, lin_reg_indices]\n",
    "    X_test_lr = X_test[:, lin_reg_indices]\n",
    "    lin_reg_feat = LinearRegression().fit(X_train_lr, y_train)\n",
    "    scores['lr'].append(lin_reg_feat.score(X_test_lr, y_test))\n",
    "    \n",
    "    # pca\n",
    "    X_train_pca = pca.transform(X_train)\n",
    "    X_test_pca = pca.transform(X_test)\n",
    "    pca_reg_score = LinearRegression().fit(X_train_pca, y_train)\n",
    "    scores['pca'].append(pca_reg_score.score(X_test_pca, y_test))\n",
    "    \n",
    "    \n",
    "median_original, median_pca, median_lr = np.median(scores['original']), np.median(scores['lr']), np.median(scores['pca'])\n",
    "\n",
    "display(Markdown(\\\n",
    "f'|[]()|Median scores|\\n{\"|---\"*2}|\\n'\n",
    "f'|**Original**|{median_original:.4}|\\n'\n",
    "f'|**PCA**|{median_pca:.4}|\\n'\n",
    "f'|**LR**|{median_lr:.4}|\\n'))"
   ]
  },
  {
   "cell_type": "markdown",
   "metadata": {},
   "source": [
    "Explain your observation with respect to relative performance of PCA and linear regression for dimension reduction and why this has happened in a few sentences."
   ]
  },
  {
   "cell_type": "markdown",
   "metadata": {},
   "source": [
    "**Edit this cell to answer**"
   ]
  },
  {
   "cell_type": "markdown",
   "metadata": {},
   "source": [
    "## Problem 3: Local vs. Global Prediction (30 points)\n",
    "\n",
    "In many situations, your training dataset is very large to include as many observations as possible, which is typically a good thing. For instance, a complex prediction model for image captioning works best if the learning dataset is massive and rich. However, if you are using a simple model (like a linear regression) for any reason (e.g., speed, interpretability, etc.) one caveat of very large datasets is that they might actually become very far off from your test set.\n",
    "For instance, assume you have to predict online sales for a particular book. But your training set is the entire Amazon’s historical sales records. Obviously a simple linear model will not work well, trying to fit a line that predicts sales of everything, from books, to grocery, to toys, etc.\n",
    "\n",
    "One simple solution could be training your model only on a portion of the training set that is more similar to the data you're interested in. For instance, in the above example, only train on the book records. \n",
    "\n",
    "In this part, we want to evaluate this idea automatically, by first clustering the training dataset and then fitting the model only on the closets cluster to the test data.\n",
    "\n",
    "\n",
    "- Read data from the csv dataset `filename='CPU_Performance.csv'`. The columns in the dataset are:\n",
    "    \n",
    "    - MYCT: machine cycle time in nanoseconds (integer) \n",
    "    - MMIN: minimum main memory in kilobytes (integer) \n",
    "    - MMAX: maximum main memory in kilobytes (integer) \n",
    "    - CACH: cache memory in kilobytes (integer) \n",
    "    - CHMIN: minimum channels in units (integer) \n",
    "    - CHMAX: maximum channels in units (integer) \n",
    "    - PRP: published relative performance (integer) \n",
    "    - ERP: estimated relative performance from the original article (integer)\n",
    "    \n",
    "    Use the last column (ERP) as the target and the others as features.\n",
    "\n",
    "- Take 80% of data as train and 20% as test using train_test_split with `random_state=0`\n",
    "- Build a linear SVM model and report its mean squared error on the test data\n",
    "- Cluster the training set to multiple clusters using Kmeans (K from 2 to 5 inclusive and `random_state=0`)\n",
    "- Find the most similar cluster to the test set. To do this find the cluster that most of the the test data fall into, if they are predicted using the cluster model.\n",
    "- Build a local linear svm model where you use only the closets cluster as your train dataset (all other setups unchanged)"
   ]
  },
  {
   "cell_type": "code",
   "execution_count": 184,
   "metadata": {},
   "outputs": [
    {
     "name": "stdout",
     "output_type": "stream",
     "text": [
      "global error=1734.5\n",
      "k=2 error=68.45\n",
      "k=3 error=4627.2\n",
      "k=4 error=45.936\n",
      "k=5 error=1348.2\n"
     ]
    }
   ],
   "source": [
    "import pandas as pd\n",
    "import numpy as np\n",
    "from sklearn.metrics import mean_squared_error\n",
    "from sklearn.svm import LinearSVR\n",
    "from sklearn.cluster import KMeans\n",
    "from scipy.stats import mode\n",
    "\n",
    "# Split the data into training and testing sets as described above\n",
    "cpu_data = pd.read_csv(\"CPU_Performance.csv\")\n",
    "features = cpu_data.drop(columns=\"ERP\")\n",
    "labels = cpu_data[\"ERP\"]\n",
    "X_train, X_test, y_train, y_test = train_test_split(features, labels, random_state=0, train_size=0.8, test_size=0.2)\n",
    "    \n",
    "\n",
    "# Train a LinearSVR model on data and report its score on test set\n",
    "model = LinearSVR(random_state=0).fit(X_train, y_train)\n",
    "score = mean_squared_error(y_test, model.predict(X_test))\n",
    "\n",
    "print(f'global error={score:.5}')\n",
    "\n",
    "for k in range(2, 5+1):\n",
    "    # Make a kMeans cluster\n",
    "    kmeans = KMeans(n_clusters=k, random_state=0).fit(X_train)\n",
    "    \n",
    "    # Find the cluster which will contains the majority of test points\n",
    "    y_pred = kmeans.predict(X_test)\n",
    "    largest_cluster = mode(y_pred, axis=None)[0][0]\n",
    "    \n",
    "    # Create a subset of training and test sets containing only the data that fall into the cluster above\n",
    "    X_train[\"cluster\"] = kmeans.predict(X_train)\n",
    "    All_training_data = pd.concat([X_train, y_train], axis=1)\n",
    "    All_training_data = All_training_data[All_training_data[\"cluster\"] == largest_cluster]\n",
    "    X_test[\"cluster\"] = y_pred\n",
    "    All_test_data = pd.concat([X_test, y_test], axis=1)\n",
    "    All_test_data = All_test_data[All_test_data[\"cluster\"] == largest_cluster]\n",
    "    \n",
    "    local_X_train, local_y_train = All_training_data.drop(columns=\"ERP\"), All_training_data[\"ERP\"]\n",
    "    local_X_test, local_y_test = All_test_data.drop(columns=\"ERP\"), All_test_data[\"ERP\"]\n",
    "    \n",
    "    # Train a LinearSVR model on the local data and report its mean squared error on test set\n",
    "    model = LinearSVR(random_state=0).fit(local_X_train, local_y_train)\n",
    "    local_y_pred = model.predict(local_X_test)\n",
    "    score = mean_squared_error(local_y_test, local_y_pred)\n",
    "    print(f'k={k} error={score:.5}')\n",
    "    "
   ]
  },
  {
   "cell_type": "markdown",
   "metadata": {},
   "source": [
    "Did the error go down or up? Do you think it is a good practice or it's getting better (if it did) because some information is leaking from the test set?"
   ]
  },
  {
   "cell_type": "markdown",
   "metadata": {},
   "source": [
    "The error goes down in some cases. But this is generally a bad practice because we are leaking information from the test set so our model will begin to overfit on the test set also. The point of the test set is to test the generalization ability of the model but doing this defeats the purpose."
   ]
  }
 ],
 "metadata": {
  "kernelspec": {
   "display_name": "Python 3",
   "language": "python",
   "name": "python3"
  },
  "language_info": {
   "codemirror_mode": {
    "name": "ipython",
    "version": 3
   },
   "file_extension": ".py",
   "mimetype": "text/x-python",
   "name": "python",
   "nbconvert_exporter": "python",
   "pygments_lexer": "ipython3",
   "version": "3.6.8"
  }
 },
 "nbformat": 4,
 "nbformat_minor": 2
}
