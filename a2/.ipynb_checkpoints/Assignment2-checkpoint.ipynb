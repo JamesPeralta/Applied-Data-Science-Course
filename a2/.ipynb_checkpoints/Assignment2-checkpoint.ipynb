{
 "cells": [
  {
   "cell_type": "markdown",
   "metadata": {},
   "source": [
    "# ENSF 519.01 Applied Data Science \n",
    "**Assignment 2** - 100 marks\n",
    "\n",
    "**Due:** October 18th, 04.00 pm.\n",
    "\n",
    "\n",
    "**IMPORTANT NOTE: each task must be implemented as asked, even if there are other easier or better solutions.**\n",
    "\n",
    "**How to deliver:**\n",
    "Edit this file and write your solutions in sections specified with `# Your solution`. Test your code and when you are done, submit this notebook as an `.ipynb` file to D2L dropbox. \n",
    "\n"
   ]
  },
  {
   "cell_type": "markdown",
   "metadata": {},
   "source": [
    "## Problem 1 - Most popular movies (55 points)\n",
    "In this assigment we want to do some basic data analysis on the most popular movies on IMDb right now. We do this in steps: first we take the list of most popular movies then we gather more informaion on each movie from the movie's page. These info are stored in pandas dataframes. Next we need to combine the information from these two tables, using pandas `merge` method. The resulting merged table might give us some insight on why some movies get more popular. Let's try and see what we can get!\n",
    "\n",
    "Complete the `get_page_html` function below so that it gets the HTML content of any given url. We get the HTML content and store it in a variable just once, because:\n",
    "1. Downloading the web page content takes ~1-2 seconds. While you're writing the html parser code you need to run and test your code many many times. If you download the whole page everytime you want to test the parser, these download times add up to significantly slow you down.\n",
    "2. Making a lot of requests to the same page of a website in a short period of time might make the firewall suspicious of an attack and block your IP address"
   ]
  },
  {
   "cell_type": "code",
   "execution_count": 110,
   "metadata": {},
   "outputs": [
    {
     "name": "stdout",
     "output_type": "stream",
     "text": [
      "Success\n"
     ]
    }
   ],
   "source": [
    "from bs4 import BeautifulSoup\n",
    "import requests\n",
    "import pandas as pd\n",
    "import numpy as np\n",
    "\n",
    "page_url = 'https://www.imdb.com/chart/top'\n",
    "\n",
    "def get_page_html(url):\n",
    "    response = requests.get(url)\n",
    "    if response.status_code == 200:\n",
    "        print(\"Success\")\n",
    "        return response.content.decode()\n",
    "    else:\n",
    "        print(\"Error.\")\n",
    "    \n",
    "top_movies_html = get_page_html(page_url)"
   ]
  },
  {
   "cell_type": "markdown",
   "metadata": {},
   "source": [
    "Parse the HTML content above using Beautiful Soup to extract these data:\n",
    "\n",
    "* Rank (`rank`: int) **set this column as the index**\n",
    "* Name of the movie (`name`: str) \n",
    "* Its release year (`release_year`: int)\n",
    "* Rating (`rating`: float)\n",
    "* link to its detail page (`detail_url`: str)\n",
    "\n",
    "Store these in a pandas dataframe. The suggested column names and data types are specified in the parentheses above (20 points)."
   ]
  },
  {
   "cell_type": "code",
   "execution_count": 129,
   "metadata": {},
   "outputs": [
    {
     "data": {
      "text/html": [
       "<div>\n",
       "<style scoped>\n",
       "    .dataframe tbody tr th:only-of-type {\n",
       "        vertical-align: middle;\n",
       "    }\n",
       "\n",
       "    .dataframe tbody tr th {\n",
       "        vertical-align: top;\n",
       "    }\n",
       "\n",
       "    .dataframe thead th {\n",
       "        text-align: right;\n",
       "    }\n",
       "</style>\n",
       "<table border=\"1\" class=\"dataframe\">\n",
       "  <thead>\n",
       "    <tr style=\"text-align: right;\">\n",
       "      <th></th>\n",
       "      <th>rank</th>\n",
       "      <th>movie_name</th>\n",
       "      <th>release_year</th>\n",
       "      <th>rating</th>\n",
       "      <th>detail_page_link</th>\n",
       "    </tr>\n",
       "  </thead>\n",
       "  <tbody>\n",
       "    <tr>\n",
       "      <td>0</td>\n",
       "      <td>1</td>\n",
       "      <td>The Shawshank Redemption</td>\n",
       "      <td>1994</td>\n",
       "      <td>9.2</td>\n",
       "      <td>imdb.com/title/tt0111161/</td>\n",
       "    </tr>\n",
       "    <tr>\n",
       "      <td>1</td>\n",
       "      <td>2</td>\n",
       "      <td>The Godfather</td>\n",
       "      <td>1972</td>\n",
       "      <td>9.1</td>\n",
       "      <td>imdb.com/title/tt0068646/</td>\n",
       "    </tr>\n",
       "    <tr>\n",
       "      <td>2</td>\n",
       "      <td>3</td>\n",
       "      <td>The Godfather: Part II</td>\n",
       "      <td>1974</td>\n",
       "      <td>9.0</td>\n",
       "      <td>imdb.com/title/tt0071562/</td>\n",
       "    </tr>\n",
       "    <tr>\n",
       "      <td>3</td>\n",
       "      <td>4</td>\n",
       "      <td>The Dark Knight</td>\n",
       "      <td>2008</td>\n",
       "      <td>9.0</td>\n",
       "      <td>imdb.com/title/tt0468569/</td>\n",
       "    </tr>\n",
       "    <tr>\n",
       "      <td>4</td>\n",
       "      <td>5</td>\n",
       "      <td>12 Angry Men</td>\n",
       "      <td>1957</td>\n",
       "      <td>8.9</td>\n",
       "      <td>imdb.com/title/tt0050083/</td>\n",
       "    </tr>\n",
       "    <tr>\n",
       "      <td>...</td>\n",
       "      <td>...</td>\n",
       "      <td>...</td>\n",
       "      <td>...</td>\n",
       "      <td>...</td>\n",
       "      <td>...</td>\n",
       "    </tr>\n",
       "    <tr>\n",
       "      <td>245</td>\n",
       "      <td>246</td>\n",
       "      <td>Drishyam</td>\n",
       "      <td>2015</td>\n",
       "      <td>8.0</td>\n",
       "      <td>imdb.com/title/tt4430212/</td>\n",
       "    </tr>\n",
       "    <tr>\n",
       "      <td>246</td>\n",
       "      <td>247</td>\n",
       "      <td>Mou gaan dou</td>\n",
       "      <td>2002</td>\n",
       "      <td>8.0</td>\n",
       "      <td>imdb.com/title/tt0338564/</td>\n",
       "    </tr>\n",
       "    <tr>\n",
       "      <td>247</td>\n",
       "      <td>248</td>\n",
       "      <td>Aladdin</td>\n",
       "      <td>1992</td>\n",
       "      <td>8.0</td>\n",
       "      <td>imdb.com/title/tt0103639/</td>\n",
       "    </tr>\n",
       "    <tr>\n",
       "      <td>248</td>\n",
       "      <td>249</td>\n",
       "      <td>La battaglia di Algeri</td>\n",
       "      <td>1966</td>\n",
       "      <td>8.0</td>\n",
       "      <td>imdb.com/title/tt0058946/</td>\n",
       "    </tr>\n",
       "    <tr>\n",
       "      <td>249</td>\n",
       "      <td>250</td>\n",
       "      <td>Chak De! India</td>\n",
       "      <td>2007</td>\n",
       "      <td>8.0</td>\n",
       "      <td>imdb.com/title/tt0871510/</td>\n",
       "    </tr>\n",
       "  </tbody>\n",
       "</table>\n",
       "<p>250 rows × 5 columns</p>\n",
       "</div>"
      ],
      "text/plain": [
       "     rank                movie_name  release_year  rating  \\\n",
       "0       1  The Shawshank Redemption          1994     9.2   \n",
       "1       2             The Godfather          1972     9.1   \n",
       "2       3    The Godfather: Part II          1974     9.0   \n",
       "3       4           The Dark Knight          2008     9.0   \n",
       "4       5              12 Angry Men          1957     8.9   \n",
       "..    ...                       ...           ...     ...   \n",
       "245   246                  Drishyam          2015     8.0   \n",
       "246   247              Mou gaan dou          2002     8.0   \n",
       "247   248                   Aladdin          1992     8.0   \n",
       "248   249    La battaglia di Algeri          1966     8.0   \n",
       "249   250            Chak De! India          2007     8.0   \n",
       "\n",
       "              detail_page_link  \n",
       "0    imdb.com/title/tt0111161/  \n",
       "1    imdb.com/title/tt0068646/  \n",
       "2    imdb.com/title/tt0071562/  \n",
       "3    imdb.com/title/tt0468569/  \n",
       "4    imdb.com/title/tt0050083/  \n",
       "..                         ...  \n",
       "245  imdb.com/title/tt4430212/  \n",
       "246  imdb.com/title/tt0338564/  \n",
       "247  imdb.com/title/tt0103639/  \n",
       "248  imdb.com/title/tt0058946/  \n",
       "249  imdb.com/title/tt0871510/  \n",
       "\n",
       "[250 rows x 5 columns]"
      ]
     },
     "execution_count": 129,
     "metadata": {},
     "output_type": "execute_result"
    }
   ],
   "source": [
    "import re\n",
    "def get_top_movies(top_movies_page_html):\n",
    "    # init variables\n",
    "    parser = BeautifulSoup(top_movies_page_html, 'html.parser')\n",
    "    \n",
    "    \n",
    "    # get movie list\n",
    "    movie_list = parser.find(\"tbody\", class_=\"lister-list\")\n",
    "    \n",
    "    # find all movies in the list\n",
    "    movie_array = []\n",
    "    movies = movie_list.find_all(\"tr\")\n",
    "    for i in movies:\n",
    "        movie_attributes = list(filter(lambda tag: tag != \"\\n\", list(i.children)))\n",
    "        \n",
    "        # get the rank\n",
    "        title_column = list(filter(lambda content: content != \"\\n\", movie_attributes[1].contents))\n",
    "        rank = int(re.findall(\"[0-9]+\", title_column[0].strip())[0])\n",
    "        \n",
    "        # get the name\n",
    "        movie_name = str(title_column[1].text.strip())\n",
    "        \n",
    "        # get the release year\n",
    "        release_year = int(re.findall(\"[0-9]+\", title_column[2].text.strip())[0])\n",
    "        \n",
    "        # get the rating\n",
    "        rating = float(movie_attributes[2].text.strip())\n",
    "        \n",
    "        # get the line to it's detail page\n",
    "        detail_page_link = str(\"imdb.com\" + title_column[1].attrs['href'])\n",
    "        \n",
    "        # add to movie array\n",
    "        movie_array.append([rank, movie_name, release_year, rating, detail_page_link])\n",
    "        \n",
    "     # return movie array as pandas dataframe\n",
    "    return pd.DataFrame(movie_array, columns = [\"rank\", \"movie_name\", \"release_year\", \"rating\", \"detail_page_link\"])\n",
    "    \n",
    "        \n",
    "top_movies = get_top_movies(top_movies_html)\n",
    "top_movies  # Rank must be the index, the rows should match the webpage"
   ]
  },
  {
   "cell_type": "markdown",
   "metadata": {},
   "source": [
    "Now we proceed to step 2, we want to create a function that parses each individual movie's page. Just like the previous assignment on regular expressions, we try to get that working on one sample and only after we made sure that everything works properly we use a loop to get all the data that we need. "
   ]
  },
  {
   "cell_type": "code",
   "execution_count": 113,
   "metadata": {},
   "outputs": [
    {
     "name": "stdout",
     "output_type": "stream",
     "text": [
      "Success\n"
     ]
    }
   ],
   "source": [
    "avengers_url = 'https://www.imdb.com/title/tt4154796/'\n",
    "avengers_html = get_page_html(avengers_url)"
   ]
  },
  {
   "cell_type": "markdown",
   "metadata": {},
   "source": [
    "Make a function that parses the html content of a movie details page and extracts these information:\n",
    "\n",
    "* Movie length in minutes (int)\n",
    "* Release date (convert the string to a python date object - use [`strptime` built-in function](https://www.programiz.com/python-programming/datetime/strptime) or regular expressions as you wish)\n",
    "* List of genres (list of strings)\n",
    "* Budget (int), if unavailable: ignore.\n",
    "* Name of the directors (list)\n",
    "\n",
    "Return these as a dictionary. You can extract more data as you wish. (20 points)"
   ]
  },
  {
   "cell_type": "code",
   "execution_count": 130,
   "metadata": {},
   "outputs": [
    {
     "name": "stdout",
     "output_type": "stream",
     "text": [
      "['\\n                    PG\\n    ', <span class=\"ghost\">|</span>, ' ', <time datetime=\"PT181M\">\n",
      "                        3h 1min\n",
      "                    </time>, <span class=\"ghost\">|</span>, <a href=\"/search/title?genres=action&amp;explore=title_type,genres\">Action</a>, ', \\n', <a href=\"/search/title?genres=adventure&amp;explore=title_type,genres\">Adventure</a>, ', \\n', <a href=\"/search/title?genres=sci-fi&amp;explore=title_type,genres\">Sci-Fi</a>, <span class=\"ghost\">|</span>, <a href=\"/title/tt4154796/releaseinfo\" title=\"See more release dates\">26 April 2019 (Canada)\n",
      "</a>, ' ']\n",
      "True\n"
     ]
    }
   ],
   "source": [
    "import re\n",
    "from datetime import datetime \n",
    "\n",
    "def extract_movie_details(html):\n",
    "    parser = BeautifulSoup(html, 'html.parser')\n",
    "    \n",
    "     # get movie list\n",
    "    title_bar = parser.find(\"div\", class_=\"title_wrapper\")\n",
    "    title_subtext = title_bar.find(\"div\", class_=\"subtext\")\n",
    "    \n",
    "    subtext_pieces = list(filter(lambda tag: tag != \"\\n\", list(title_subtext.children)))\n",
    "    print(subtext_pieces)\n",
    "    \n",
    "    \n",
    "    return True\n",
    "    \n",
    "    \n",
    "avengers_data = extract_movie_details(avengers_html)\n",
    "print(avengers_data) \n",
    "# Expected: {\n",
    "#     'length': 181, \n",
    "#     'genres': ['action', 'adventure', 'sci-fi'], \n",
    "#     'release_date': datetime.datetime(2019, 4, 26, 0, 0),\n",
    "#     'budget': 356000000,\n",
    "#     'directors': ['Anthony Russo', 'Joe Russo']\n",
    "# }"
   ]
  },
  {
   "cell_type": "code",
   "execution_count": null,
   "metadata": {},
   "outputs": [],
   "source": []
  },
  {
   "cell_type": "code",
   "execution_count": null,
   "metadata": {},
   "outputs": [],
   "source": []
  },
  {
   "cell_type": "markdown",
   "metadata": {},
   "source": [
    "Now get the list of detail page urls for all the movies:"
   ]
  },
  {
   "cell_type": "code",
   "execution_count": null,
   "metadata": {
    "scrolled": true
   },
   "outputs": [],
   "source": [
    "urls = top_movies.set_index('name')['detail_url']\n",
    "urls"
   ]
  },
  {
   "cell_type": "markdown",
   "metadata": {},
   "source": [
    "and loop through the movie name and urls created above (`urls`), use `extract_movie_details` and create a data frame out of the dictionaries. The dataframe should have a column storing the movie name and one column for each item in the dictionary (length, genres, ...). If any piece of data was not availble for a movie (e.g. budget might not be available for some) just leave it, pandas will use `NaN` for that cell. (10 points)"
   ]
  },
  {
   "cell_type": "code",
   "execution_count": null,
   "metadata": {},
   "outputs": [],
   "source": [
    "# Your solution"
   ]
  },
  {
   "cell_type": "markdown",
   "metadata": {},
   "source": [
    "Use pandas' `merge` method to join these two tables into one. Merge on movie name. (5 points)"
   ]
  },
  {
   "cell_type": "code",
   "execution_count": null,
   "metadata": {},
   "outputs": [],
   "source": [
    "merged = pd.merge(\n",
    "    # Your solution\n",
    ")\n",
    "merged"
   ]
  },
  {
   "cell_type": "markdown",
   "metadata": {},
   "source": [
    "# Problem 2 - Visualizing and Analysing (45 points)\n",
    "\n",
    "Now, we have a data frame containing information about the most popular IMDb movies as of now. In this part we are going to use matplotlib to visualize those data and see if we can find any meaningful features that can predict success of a movie. \n",
    "\n",
    "This problem uses the results of the problem 1. If you can't do Problem 1 for any reason, we have a csv file uploaded on D2L that contains the final result of Problem 1. You can download that file and use `pd.read_csv` to create a dataframe from it. Please note that you need to convert the release date from an string to a datetime object. Also you need to parse the `genres` and `directors` columns into python lists.\n",
    "\n",
    "## Releasing Season and Year\n",
    "First, create a column that contains which season the movie was released in, if data isn't available ignore that row. Then use pandas aggregation methods to count the movies released in each season of the year. Plot a [bar chart](https://matplotlib.org/3.1.1/gallery/lines_bars_and_markers/barchart.html#sphx-glr-gallery-lines-bars-and-markers-barchart-py) that shows the average rating of movies made in each season per year for the last **20 years**. Show the 4 seasons of each year next to each other. Use the ticks on X axis to show the year and the colours of the bars to show the season. Also, put a legend on the chart. (10 points)"
   ]
  },
  {
   "cell_type": "code",
   "execution_count": null,
   "metadata": {},
   "outputs": [],
   "source": [
    "%matplotlib inline\n",
    "import matplotlib.pyplot as plt\n",
    "\n",
    "df = merged.loc[{get last 20 years},:].copy()\n",
    "# Your solution"
   ]
  },
  {
   "cell_type": "markdown",
   "metadata": {},
   "source": [
    "## Genre and Directors\n",
    "\n",
    "Create two pie charts in a figure next to each other. In one, plot the number of movies in each genre and in the other, plot the number of movies directed by each director. Since there are many directors only keep the people who have directed 3 movies or more. First create two dataframes for the charts. One should have two columns:\n",
    "* genre (set as **index**)\n",
    "* count_ratings\n",
    "* mean_ratings (**sort the dataframe** by this column in decending order)\n",
    "\n",
    "and the other one:\n",
    "* name (set as **index**)\n",
    "* count_movies (**sort the dataframe** by this column in decending order)\n",
    "\n",
    "After making the dataframes you can proceed to drawing the two [pie charts](https://matplotlib.org/3.1.1/gallery/pie_and_polar_charts/pie_features.html#sphx-glr-gallery-pie-and-polar-charts-pie-features-py) based on them. Sorting the table before drawing the charts make the slices sorted, try drawing charts for the same data but comment out the line of code you wrote for sorting and see the difference. Make an appropriate title for each chart, also show the name of each genre/each director next to each pie slice. (20 points)"
   ]
  },
  {
   "cell_type": "code",
   "execution_count": null,
   "metadata": {},
   "outputs": [],
   "source": [
    "df = merged.copy()\n",
    "\n",
    "genre_stats = ... # Your solution\n",
    "genre_stats\n",
    "df"
   ]
  },
  {
   "cell_type": "code",
   "execution_count": null,
   "metadata": {},
   "outputs": [],
   "source": [
    "director_stats = ... # Your solution\n",
    "director_stats"
   ]
  },
  {
   "cell_type": "code",
   "execution_count": null,
   "metadata": {},
   "outputs": [],
   "source": [
    "fig, (counts_axis, directors_axis) = plt.subplots(1, 2, figsize=(20, 10))\n",
    "# Your solution"
   ]
  },
  {
   "cell_type": "markdown",
   "metadata": {},
   "source": [
    "## Budget\n",
    "\n",
    "Make a scatter plot with movies length and budget as the x and y axes. Since the budgets are not adjusted for inflation, to approximate that, color code the data points so that the movies that are released in the same decade have the same color. Use `alpha` parameter to make the points 50% transparent so that overlapping points are better visible. Set the proper axis labels and chart title. Also add a `colorbar` to show which color is associated with which decade. (15 points)"
   ]
  },
  {
   "cell_type": "code",
   "execution_count": null,
   "metadata": {},
   "outputs": [],
   "source": [
    "df = merged.loc[:, ('name', 'release_year', 'budget', 'length')].copy()\n",
    "df['decade'] = ... # Your solution\n",
    "df.drop('release_year', axis=1, inplace=True)\n",
    "df"
   ]
  },
  {
   "cell_type": "code",
   "execution_count": null,
   "metadata": {},
   "outputs": [],
   "source": [
    "fig, ax = plt.subplots(1, 1, figsize=(10, 10))\n",
    "plt.style.use('seaborn-whitegrid')\n",
    "\n",
    "number_of_unique_decades = # Your solution\n",
    "color_map = plt.get_cmap('jet', number_of_unique_decades)\n",
    "# Your solution"
   ]
  },
  {
   "cell_type": "code",
   "execution_count": null,
   "metadata": {},
   "outputs": [],
   "source": []
  }
 ],
 "metadata": {
  "kernelspec": {
   "display_name": "Python 3",
   "language": "python",
   "name": "python3"
  },
  "language_info": {
   "codemirror_mode": {
    "name": "ipython",
    "version": 3
   },
   "file_extension": ".py",
   "mimetype": "text/x-python",
   "name": "python",
   "nbconvert_exporter": "python",
   "pygments_lexer": "ipython3",
   "version": "3.6.8"
  }
 },
 "nbformat": 4,
 "nbformat_minor": 2
}
