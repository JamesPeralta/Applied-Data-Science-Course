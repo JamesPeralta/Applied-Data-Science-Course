{
 "cells": [
  {
   "cell_type": "markdown",
   "metadata": {},
   "source": [
    "# ENSF 519.01 Applied Data Science \n",
    "**Assignment 1** - 100 marks\n",
    "\n",
    "**Due:** October 4th, 04.00 pm.\n",
    "\n",
    "\n",
    "**IMPORTANT NOTE: each task must be implemented as asked, even if there are other easier or better solutions.**\n",
    "\n",
    "**How to deliver:**\n",
    "Edit this file and write your solutions in sections specified with `# Your solution`. Test your code and when you were done, submit this notebook as an `.ipynb` file to D2L dropbox. \n",
    "\n"
   ]
  },
  {
   "cell_type": "markdown",
   "metadata": {},
   "source": [
    "## Problem 1 - The Zipf mystery (50 points)\n",
    "\n",
    "In this problem, we'd like to read the text from a book and perform some simple statistical analysis on the word counts. We have provided you with the actual text from [Lost On The Moon or, In Quest of the Field of Diamonds](https://www.goodreads.com/book/show/8636132-lost-on-the-moon-or-in-quest-of-the-field-of-diamonds) book in a file named 'the book.txt'. The file is cleaned up and only contains alphanumeric characters, i.e. no punctuation, quotation marks, etc.\n",
    "\n",
    "Read the file and break it down to its words. (5 points)"
   ]
  },
  {
   "cell_type": "code",
   "execution_count": 289,
   "metadata": {},
   "outputs": [
    {
     "data": {
      "text/plain": [
       "['the', 'latter', 'picked', 'it', 'up', 'gazed', 'at', 'it', 'first', 'from']"
      ]
     },
     "execution_count": 289,
     "metadata": {},
     "output_type": "execute_result"
    }
   ],
   "source": [
    "import os\n",
    "import re\n",
    "\n",
    "def read_and_tokenize(file_name):\n",
    "    book_text = open(file_name, \"r\").read()\n",
    "    book_words = re.findall(\"\\s*(\\S+)s*\", book_text)\n",
    "    return book_words\n",
    "    \n",
    "words = read_and_tokenize('the book.txt')\n",
    "words[1101:1111] # Expected: ['the', 'latter', 'picked', 'it', 'up', 'gazed', 'at', 'it', 'first', 'from']"
   ]
  },
  {
   "cell_type": "markdown",
   "metadata": {},
   "source": [
    "Using a sorted list of unique words in the book. Store the list in a variable called `V`. Also complete the `get_word_index` function below that gets a word and finds its index within `V`. (5 points)"
   ]
  },
  {
   "cell_type": "code",
   "execution_count": 288,
   "metadata": {},
   "outputs": [
    {
     "data": {
      "text/plain": [
       "9"
      ]
     },
     "execution_count": 288,
     "metadata": {},
     "output_type": "execute_result"
    }
   ],
   "source": [
    "# Your solution goes here\n",
    "V = sorted(set(words))\n",
    "def get_word_index(word):\n",
    "    return V.index(word)\n",
    "\n",
    "get_word_index('about')  # Expected: 9"
   ]
  },
  {
   "cell_type": "markdown",
   "metadata": {},
   "source": [
    "Using no loops, and by only using `map` and `filter` built-in python functions traverse through the `V` (vocabulary) list above to find:\n",
    "\n",
    "* `long_words`: The list of words that have 10 letters or more \n",
    "* `no_vowels`: A list of all words but with vowels (aoeiu) removed. You can nest `map` and `filter` calls to iterate through the characters of the words.\n",
    "\n",
    "(5+5 points)"
   ]
  },
  {
   "cell_type": "code",
   "execution_count": 287,
   "metadata": {},
   "outputs": [],
   "source": [
    "long_words = list(filter(lambda word: len(word) >= 10, V))\n",
    "#print(long_words)\n",
    "no_vowels = list(map(lambda word: re.sub(\"[aeiou]\", \"\", word), V))\n",
    "#print(no_vowels)"
   ]
  },
  {
   "cell_type": "markdown",
   "metadata": {},
   "source": [
    "Create a numpy array of size `|V|` that only contains 0s. Store it in a variable named `frequencies`. Use this array to count the number of times each word has appeared in the book. For example `frequencies[9]` should store how many times the word located in the index 9 of `V` (the sorted list) --which is the word \"about\"-- has been appreaed in the book (165 times). (10 points)\n"
   ]
  },
  {
   "cell_type": "code",
   "execution_count": 286,
   "metadata": {},
   "outputs": [
    {
     "data": {
      "text/plain": [
       "(array([ 1.,  1.,  1., ..., 11.,  1.,  1.]), 165.0)"
      ]
     },
     "execution_count": 286,
     "metadata": {},
     "output_type": "execute_result"
    }
   ],
   "source": [
    "import numpy as np\n",
    "# Your solution\n",
    "frequencies = np.zeros(len(V))\n",
    "\n",
    "for word in words:\n",
    "    index = V.index(word)\n",
    "    current_count = frequencies[index]\n",
    "    frequencies[index] = current_count + 1\n",
    "    \n",
    "frequencies, frequencies[9]# Expected: array([ 1.,  1.,  1., ..., 11.,  1.,  1.]), 165.0\n"
   ]
  },
  {
   "cell_type": "markdown",
   "metadata": {},
   "source": [
    "Find the word that appeared most frequently in the book. Find the word itself as well as the number of times it was repeated in the book. Use numpy functions, i.e. do not iterate over the `frequencies` array manually using a `for` loop. (5 points)"
   ]
  },
  {
   "cell_type": "code",
   "execution_count": 285,
   "metadata": {},
   "outputs": [
    {
     "name": "stdout",
     "output_type": "stream",
     "text": [
      "\"the\" is the most common word which has appeared 3237 times in the book.\n"
     ]
    }
   ],
   "source": [
    "# Your solution \n",
    "most_common_word_index = np.argmax(frequencies)\n",
    "most_common_word = V[most_common_word_index]\n",
    "max_frequency = int(frequencies[most_common_word_index])\n",
    "\n",
    "print('\"{}\" is the most common word which has appeared {} times in the book.'.format(most_common_word, max_frequency))\n",
    "# Expected: \"the\" is the most common word which has appeared 3237 times in this book."
   ]
  },
  {
   "cell_type": "markdown",
   "metadata": {},
   "source": [
    "Normalize all frequency values by dividing them by the maximum frequency value (using vectorized operators). After this the most common word in the book should get a normalized frequency of `1` and all other words get some value \n",
    "between `1/MAX` and `1`. (2.5 points)"
   ]
  },
  {
   "cell_type": "code",
   "execution_count": 284,
   "metadata": {},
   "outputs": [
    {
     "data": {
      "text/plain": [
       "array([0.00030893, 0.00030893, 0.00030893, ..., 0.00339821, 0.00030893,\n",
       "       0.00030893])"
      ]
     },
     "execution_count": 284,
     "metadata": {},
     "output_type": "execute_result"
    }
   ],
   "source": [
    "# Your solution\n",
    "normalized_frequencies = np.divide(frequencies, max_frequency)\n",
    "normalized_frequencies"
   ]
  },
  {
   "cell_type": "markdown",
   "metadata": {},
   "source": [
    "We want to check if the normalized frequencies have any corelation to their ranks. If such correlation exists, the Zipf's law states that it is linear in a log-log space. Take the logarithm of normalized frequencies (as y values) and create a numpy array of the same size containing the rank of each word (as x values). For example if the frequencies array is `[0.1, 1, 0.01, 0.0001]` the x and y values will be `X = [2, 1, 3, 4] Y=[-1, 0, -2, -4]`. \n",
    "\n",
    "You might want to sort the normalized frequencies first to make the task easier. (2.5 points)"
   ]
  },
  {
   "cell_type": "code",
   "execution_count": 283,
   "metadata": {},
   "outputs": [
    {
     "name": "stdout",
     "output_type": "stream",
     "text": [
      "[   1    2    3 ... 4318 4319 4320]\n",
      "[ 0.         -0.37980893 -0.38825471 ... -3.5101427  -3.5101427\n",
      " -3.5101427 ]\n"
     ]
    }
   ],
   "source": [
    "# Sort the normalized frequencies by their rank\n",
    "ranking_indices = np.argsort(frequencies)\n",
    "\n",
    "# sort frequencies\n",
    "x = np.arange(1, len(normalized_frequencies) + 1)\n",
    "\n",
    "# get the log value of all frequencies\n",
    "logged_freqs = np.log10(normalized_frequencies)\n",
    "y = logged_freqs[ranking_indices][::-1]\n",
    "\n",
    "print(x)\n",
    "print(y)"
   ]
  },
  {
   "cell_type": "markdown",
   "metadata": {},
   "source": [
    "Calculate the [pearson correlation coefficient](https://en.wikipedia.org/wiki/Pearson_correlation_coefficient) on this data. The result is expected to be close to -1. Define appropriate functions for the the statistical calculations as neccessary. Additionally, you can use `pearsonr` function from `scipy` package to check if the calculated value is definitely correct. Though if you get a value close enough to -1 you can almost be sure that your implementation is correct and this step won't be necessary. (10 points)"
   ]
  },
  {
   "cell_type": "code",
   "execution_count": 282,
   "metadata": {},
   "outputs": [
    {
     "name": "stdout",
     "output_type": "stream",
     "text": [
      "-0.8633987703532605\n"
     ]
    }
   ],
   "source": [
    "# Your solution goes here\n",
    "def pcc(x, y):\n",
    "    covariance_operation = np.cov(x, y)\n",
    "    covariance_value = covariance_operation[0][1]\n",
    "    correlation = covariance_value / (np.std(x) * np.std(y))\n",
    "    print(correlation)\n",
    "\n",
    "pcc(x, y)"
   ]
  },
  {
   "cell_type": "markdown",
   "metadata": {},
   "source": [
    "## Problem 2 - Log processing (50 points)\n",
    "\n",
    "In this part of the assignment we are going to use regular expressions to mine data out of some webserver log files. Although these problems can be solved without use of RegExes, but for this assignment you need to use them.\n",
    "\n",
    "A sample web server log file is provided along with this problem. In each line of the file one event is recorded. For simplicity all of the events in this file have the same format and are of the same type. Each event contains an ip address, date and time of the event, http method (`GET` or `POST`), a url, HTTP version, HTTP response code (usually 200), the response size in bytes, and the device's user agent which contains information about the device such as the brand and the operating system.\n",
    "\n",
    "Since these logs have such a well defined format regular expressions are the prefect tool for breaking them down into parts and perform different analysis on them.\n",
    "\n",
    "**Please make sure that when you are asked to write a function that _return_s something, you are _return_ing that value, not just _print_ing it**\n",
    "\n",
    "We start off with a random log line and write python functions that use regular expressions to break it off to pieces."
   ]
  },
  {
   "cell_type": "code",
   "execution_count": 268,
   "metadata": {},
   "outputs": [
    {
     "name": "stdout",
     "output_type": "stream",
     "text": [
      "5.106.145.204 - - [04/Sep/2019:13:51:39 +0430] \"POST /v1/crash-report/incident/report/ HTTP/1.1\" 200 65 \"-\" \"Dalvik/1.6.0 (Linux; U; Android 4.2.2; GT-S7272 Build/JDQ39)\"\n"
     ]
    }
   ],
   "source": [
    "import re\n",
    "\n",
    "l = '5.106.145.204 - - [04/Sep/2019:13:51:39 +0430] \"POST /v1/crash-report/incident/report/ HTTP/1.1\" 200 65 \"-\" \"Dalvik/1.6.0 (Linux; U; Android 4.2.2; GT-S7272 Build/JDQ39)\"'\n",
    "print(l)"
   ]
  },
  {
   "cell_type": "markdown",
   "metadata": {},
   "source": [
    "Make a function that extracts the ip address part of the log line using regular expressions. (5 points)"
   ]
  },
  {
   "cell_type": "code",
   "execution_count": 278,
   "metadata": {},
   "outputs": [
    {
     "data": {
      "text/plain": [
       "'5.106.145.204'"
      ]
     },
     "execution_count": 278,
     "metadata": {},
     "output_type": "execute_result"
    }
   ],
   "source": [
    "def get_ip_address(l):\n",
    "    ip = re.search(\"(^\\S+)\", l)\n",
    "    return ip.group(1)\n",
    "\n",
    "get_ip_address(l)  # Expected: '5.106.145.204'"
   ]
  },
  {
   "cell_type": "markdown",
   "metadata": {},
   "source": [
    "Make a function that extracts the HTTP method, url, response code, and response size and returns a tuple. Use regular expressions. The http method is either `POST` or `GET` and the response code is always a 3 digit integer. (10 points)"
   ]
  },
  {
   "cell_type": "code",
   "execution_count": 279,
   "metadata": {},
   "outputs": [
    {
     "data": {
      "text/plain": [
       "('POST', '/v1/crash-report/incident/report/', 200, 65)"
      ]
     },
     "execution_count": 279,
     "metadata": {},
     "output_type": "execute_result"
    }
   ],
   "source": [
    "def get_http_info(l):\n",
    "    event = re.findall(\"^.+\\[.+] \\\"(.+ \\\")\", l)\n",
    "    events = re.findall(\"(\\S+)\", event[0])\n",
    "    http = events[0]\n",
    "    url = events[1]\n",
    "    reponse_code = events[3]\n",
    "    response_size = events[4]\n",
    "    return (http, url, int(reponse_code), int(response_size))\n",
    "\n",
    "get_http_info(l)  # Expected: ('POST', '/v1/crash-report/incident/report/', 200, 65)\n",
    "# Please note that the last two numbers are converted to integers"
   ]
  },
  {
   "cell_type": "markdown",
   "metadata": {},
   "source": [
    "Use regular expressions to break the date and time section apart and create a python datetime object based on that. Mind the time zone. convert the datetimes to MDT. Using `strptime` is a better solution in general, but for this assignment please stick to writing RegExes so you become more comfortable in writing and debugging them. (20 points)\n"
   ]
  },
  {
   "cell_type": "code",
   "execution_count": 280,
   "metadata": {},
   "outputs": [
    {
     "data": {
      "text/plain": [
       "datetime.datetime(2019, 9, 4, 3, 21, 39, tzinfo=datetime.timezone(datetime.timedelta(-1, 64800)))"
      ]
     },
     "execution_count": 280,
     "metadata": {},
     "output_type": "execute_result"
    }
   ],
   "source": [
    "from datetime import datetime, timedelta, timezone\n",
    "from calendar import month_abbr\n",
    "import re\n",
    "\n",
    "MDT = timezone(timedelta(minutes=-6*60 + 0))\n",
    "\n",
    "def get_abbr(month_abbrev):\n",
    "    for i, month in enumerate(month_abbr):\n",
    "        if month == month_abbrev:\n",
    "            return i\n",
    "\n",
    "def create_utc_offset(offset):\n",
    "    utc_pieces = re.findall(\"[+-]|[0-9][0-9]\", offset)\n",
    "    return utc_pieces    \n",
    "\n",
    "def get_datetime(l):\n",
    "    # Your solution here\n",
    "    timestamp = re.findall(\"- - \\[(.+)\\]\", l)\n",
    "    timestamp_array = re.findall(\"\\S+\", timestamp[0])\n",
    "    date_peices = re.findall(\"[A-Za-z0-9]+\", timestamp_array[0])\n",
    "    utc = create_utc_offset(timestamp_array[1])\n",
    "    \n",
    "    # utc components\n",
    "    plus_minus = utc[0]\n",
    "    utc_hour = int(utc[1])\n",
    "    utc_minute = int(utc[2])\n",
    "    if plus_minus == \"+\":\n",
    "        utc_timedelta = timezone(timedelta(hours=utc_hour, minutes=utc_minute))\n",
    "    else:\n",
    "        utc_timedelta = timezone(timedelta(hours=-utc_hour, minutes=utc_minute))\n",
    "    \n",
    "    # break down the date\n",
    "    day = int(date_peices[0])\n",
    "    month = int(get_abbr(date_peices[1]))\n",
    "    year = int(date_peices[2])\n",
    "    hour = int(date_peices[3])\n",
    "    minute = int(date_peices[4])\n",
    "    second = int(date_peices[5])\n",
    "    \n",
    "    datetime_object = datetime(year, month, day, hour, minute, second, tzinfo=utc_timedelta)\n",
    "    datetime_object = datetime_object.astimezone(MDT)\n",
    "    return datetime_object\n",
    "\n",
    "get_datetime(l)  # Expected: datetime.datetime(2019, 9, 4, 3, 21, 39, tzinfo=datetime.timezone(datetime.timedelta(days=-1, seconds=64800)))"
   ]
  },
  {
   "cell_type": "markdown",
   "metadata": {},
   "source": [
    "Read the log file line by line and use the `get_datetime` and `get_http_info` functions above to calculate the used bandwidth of the server (the sum of all the response sizes) per hour. Use a `dict` or a `defaultdict`. (15 points)\n",
    "\n",
    "For example if there are 4 logs like:\n",
    "\n",
    "    Sep 4 14:20 .... 65bytes\n",
    "    Sep 4 14:35 .... 80bytes\n",
    "    Sep 4 15:01 .... 44bytes\n",
    "    Sep 5 18:20 .... 40bytes\n",
    "\n",
    "The result will be like:\n",
    "\n",
    "    Sep 4 14:00  145\n",
    "    Sep 4 15:00  44\n",
    "    Sep 5 18:00  40"
   ]
  },
  {
   "cell_type": "code",
   "execution_count": 281,
   "metadata": {},
   "outputs": [
    {
     "name": "stdout",
     "output_type": "stream",
     "text": [
      "2019, 7, 20 7:00    49130 bytes\n",
      "2019, 7, 20 8:00    40469 bytes\n",
      "2019, 7, 20 9:00    43556 bytes\n",
      "2019, 7, 20 10:00    82526 bytes\n",
      "2019, 7, 20 11:00    56328 bytes\n",
      "2019, 7, 20 12:00    98862 bytes\n",
      "2019, 7, 20 13:00    119679 bytes\n",
      "2019, 7, 20 14:00    57126 bytes\n",
      "2019, 7, 20 15:00    135680 bytes\n",
      "2019, 7, 20 16:00    48710 bytes\n",
      "2019, 7, 20 17:00    45631 bytes\n",
      "2019, 7, 20 18:00    9805 bytes\n",
      "2019, 7, 20 19:00    3569 bytes\n",
      "2019, 7, 20 20:00    36087 bytes\n",
      "2019, 7, 20 21:00    55406 bytes\n",
      "2019, 7, 20 22:00    68764 bytes\n",
      "2019, 7, 20 23:00    30101 bytes\n",
      "2019, 7, 21 0:00    83251 bytes\n",
      "2019, 7, 21 1:00    77896 bytes\n",
      "2019, 7, 21 2:00    65166 bytes\n",
      "2019, 7, 21 3:00    66326 bytes\n",
      "2019, 7, 21 4:00    86495 bytes\n",
      "2019, 7, 21 5:00    76888 bytes\n",
      "2019, 7, 21 6:00    65378 bytes\n",
      "2019, 7, 21 7:00    116337 bytes\n",
      "2019, 7, 21 8:00    55348 bytes\n",
      "2019, 7, 21 9:00    40975 bytes\n",
      "2019, 7, 21 10:00    51204 bytes\n",
      "2019, 7, 21 11:00    56527 bytes\n",
      "2019, 7, 21 12:00    50933 bytes\n",
      "2019, 7, 21 13:00    29773 bytes\n",
      "2019, 7, 21 14:00    80279 bytes\n",
      "2019, 7, 21 15:00    68270 bytes\n",
      "2019, 7, 21 16:00    12714 bytes\n",
      "2019, 7, 21 17:00    6414 bytes\n",
      "2019, 7, 21 18:00    9186 bytes\n",
      "2019, 7, 21 19:00    4356 bytes\n",
      "2019, 7, 21 20:00    17380 bytes\n",
      "2019, 7, 21 21:00    20251 bytes\n",
      "2019, 7, 21 22:00    25015 bytes\n",
      "2019, 7, 21 23:00    25326 bytes\n",
      "2019, 7, 22 0:00    21912 bytes\n",
      "2019, 7, 22 1:00    27967 bytes\n",
      "2019, 7, 22 2:00    56146 bytes\n",
      "2019, 7, 22 3:00    100773 bytes\n",
      "2019, 7, 22 4:00    87930 bytes\n",
      "2019, 7, 22 5:00    77608 bytes\n",
      "2019, 7, 22 6:00    84938 bytes\n",
      "2019, 7, 22 7:00    114074 bytes\n",
      "2019, 7, 22 8:00    139403 bytes\n",
      "2019, 7, 22 9:00    91115 bytes\n",
      "2019, 7, 22 10:00    85637 bytes\n",
      "2019, 7, 22 11:00    113985 bytes\n",
      "2019, 7, 22 12:00    160342 bytes\n",
      "2019, 7, 22 13:00    147641 bytes\n",
      "2019, 7, 22 14:00    120636 bytes\n",
      "2019, 7, 22 15:00    81082 bytes\n",
      "2019, 7, 22 16:00    66001 bytes\n",
      "2019, 7, 22 17:00    15379 bytes\n",
      "2019, 7, 22 18:00    17998 bytes\n",
      "2019, 7, 22 19:00    10826 bytes\n",
      "2019, 7, 22 20:00    24312 bytes\n",
      "2019, 7, 22 21:00    33147 bytes\n",
      "2019, 7, 22 22:00    24325 bytes\n",
      "2019, 7, 22 23:00    27712 bytes\n",
      "2019, 7, 23 0:00    63858 bytes\n",
      "2019, 7, 23 1:00    44863 bytes\n",
      "2019, 7, 23 2:00    28687 bytes\n",
      "2019, 7, 23 3:00    82434 bytes\n",
      "2019, 7, 23 4:00    91401 bytes\n",
      "2019, 7, 23 5:00    84796 bytes\n",
      "2019, 7, 23 6:00    72745 bytes\n",
      "2019, 7, 23 7:00    35005 bytes\n",
      "2019, 7, 23 8:00    72550 bytes\n",
      "2019, 7, 23 9:00    90913 bytes\n",
      "2019, 7, 23 10:00    86130 bytes\n",
      "2019, 7, 23 11:00    73650 bytes\n",
      "2019, 7, 23 12:00    58672 bytes\n",
      "2019, 7, 23 13:00    95681 bytes\n",
      "2019, 7, 23 14:00    72453 bytes\n",
      "2019, 7, 23 15:00    47086 bytes\n",
      "2019, 7, 23 16:00    7968 bytes\n",
      "2019, 7, 23 17:00    4677 bytes\n",
      "2019, 7, 23 18:00    10726 bytes\n",
      "2019, 7, 23 19:00    9506 bytes\n",
      "2019, 7, 23 20:00    6394 bytes\n",
      "2019, 7, 23 21:00    25995 bytes\n",
      "2019, 7, 23 22:00    64144 bytes\n",
      "2019, 7, 23 23:00    24542 bytes\n",
      "2019, 7, 24 0:00    29869 bytes\n",
      "2019, 7, 24 1:00    39192 bytes\n",
      "2019, 7, 24 2:00    44674 bytes\n",
      "2019, 7, 24 3:00    80986 bytes\n",
      "2019, 7, 24 4:00    50236 bytes\n",
      "2019, 7, 24 5:00    100834 bytes\n",
      "2019, 7, 24 6:00    57701 bytes\n",
      "2019, 7, 24 7:00    58621 bytes\n",
      "2019, 7, 24 8:00    75741 bytes\n",
      "2019, 7, 24 9:00    20267 bytes\n",
      "2019, 7, 24 10:00    48225 bytes\n",
      "2019, 7, 24 11:00    45402 bytes\n",
      "2019, 7, 24 12:00    52613 bytes\n",
      "2019, 7, 24 13:00    113918 bytes\n",
      "2019, 7, 24 14:00    58613 bytes\n",
      "2019, 7, 24 15:00    75026 bytes\n",
      "2019, 7, 24 16:00    107463 bytes\n",
      "2019, 7, 24 17:00    6480 bytes\n",
      "2019, 7, 24 18:00    3702 bytes\n",
      "2019, 7, 24 19:00    9946 bytes\n",
      "2019, 7, 24 20:00    11825 bytes\n",
      "2019, 7, 24 21:00    13964 bytes\n",
      "2019, 7, 24 22:00    15936 bytes\n",
      "2019, 7, 24 23:00    25976 bytes\n",
      "2019, 7, 25 0:00    38511 bytes\n",
      "2019, 7, 25 1:00    44458 bytes\n",
      "2019, 7, 25 2:00    50009 bytes\n",
      "2019, 7, 25 3:00    74315 bytes\n",
      "2019, 7, 25 4:00    48235 bytes\n",
      "2019, 7, 25 5:00    27275 bytes\n",
      "2019, 7, 25 6:00    38408 bytes\n",
      "2019, 7, 25 7:00    35241 bytes\n",
      "2019, 7, 25 8:00    42373 bytes\n",
      "2019, 7, 25 9:00    62963 bytes\n",
      "2019, 7, 25 10:00    28674 bytes\n",
      "2019, 7, 25 11:00    77992 bytes\n",
      "2019, 7, 25 12:00    45697 bytes\n",
      "2019, 7, 25 13:00    48120 bytes\n",
      "2019, 7, 25 14:00    16894 bytes\n",
      "2019, 7, 25 15:00    11946 bytes\n",
      "2019, 7, 25 16:00    9182 bytes\n",
      "2019, 7, 25 17:00    4174 bytes\n",
      "2019, 7, 25 18:00    5998 bytes\n",
      "2019, 7, 25 19:00    22558 bytes\n",
      "2019, 7, 25 20:00    4467 bytes\n",
      "2019, 7, 25 21:00    13011 bytes\n",
      "2019, 7, 25 22:00    15906 bytes\n",
      "2019, 7, 25 23:00    11325 bytes\n",
      "2019, 7, 26 0:00    47222 bytes\n",
      "2019, 7, 26 1:00    47935 bytes\n",
      "2019, 7, 26 2:00    40544 bytes\n",
      "2019, 7, 26 3:00    72866 bytes\n",
      "2019, 7, 26 4:00    11055 bytes\n"
     ]
    }
   ],
   "source": [
    "import os\n",
    "\n",
    "log_file = open(\"log.txt\", \"r\")\n",
    "\n",
    "responses = {}\n",
    "for line in log_file:\n",
    "    date = get_datetime(line)\n",
    "    formatted_string = \"{}, {}, {} {}:00\".format(date.year, date.month, date.day, date.hour)\n",
    "    \n",
    "    http, url, reponse_code, response_size = get_http_info(str(line))\n",
    "    responses[formatted_string] = responses.get(formatted_string, 0) + response_size\n",
    "\n",
    "for key in responses.keys():\n",
    "    print(\"{}    {} bytes\".format(key, str(responses[key])))\n",
    "\n",
    "# No specific format for the output is expected\n",
    "# However the data will be something like:\n",
    "#  2019, 7, 20 07:00    49130 bytes\n",
    "#  2019, 7, 20 08:00    40469 bytes\n",
    "#  2019, 7, 20 09:00    43556 bytes\n",
    "#  2019, 7, 20 10:00    82526 bytes .... "
   ]
  }
 ],
 "metadata": {
  "kernelspec": {
   "display_name": "Python 3",
   "language": "python",
   "name": "python3"
  },
  "language_info": {
   "codemirror_mode": {
    "name": "ipython",
    "version": 3
   },
   "file_extension": ".py",
   "mimetype": "text/x-python",
   "name": "python",
   "nbconvert_exporter": "python",
   "pygments_lexer": "ipython3",
   "version": "3.6.8"
  }
 },
 "nbformat": 4,
 "nbformat_minor": 2
}
