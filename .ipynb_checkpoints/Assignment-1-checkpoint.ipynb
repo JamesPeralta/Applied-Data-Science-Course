{
 "cells": [
  {
   "cell_type": "markdown",
   "metadata": {},
   "source": [
    "# ENSF 519.01 Applied Data Science \n",
    "**Assignment 1** - 100 marks\n",
    "\n",
    "**Due:** October 4th, 04.00 pm.\n",
    "\n",
    "\n",
    "**IMPORTANT NOTE: each task must be implemented as asked, even if there are other easier or better solutions.**\n",
    "\n",
    "**How to deliver:**\n",
    "Edit this file and write your solutions in sections specified with `# Your solution`. Test your code and when you were done, submit this notebook as an `.ipynb` file to D2L dropbox. \n",
    "\n"
   ]
  },
  {
   "cell_type": "markdown",
   "metadata": {},
   "source": [
    "## Problem 1 - The Zipf mystery (50 points)\n",
    "\n",
    "In this problem, we'd like to read the text from a book and perform some simple statistical analysis on the word counts. We have provided you with the actual text from [Lost On The Moon or, In Quest of the Field of Diamonds](https://www.goodreads.com/book/show/8636132-lost-on-the-moon-or-in-quest-of-the-field-of-diamonds) book in a file named 'the book.txt'. The file is cleaned up and only contains alphanumeric characters, i.e. no punctuation, quotation marks, etc.\n",
    "\n",
    "Read the file and break it down to its words. (5 points)"
   ]
  },
  {
   "cell_type": "code",
   "execution_count": 78,
   "metadata": {},
   "outputs": [
    {
     "data": {
      "text/plain": [
       "['the', 'latter', 'picked', 'it', 'up', 'gazed', 'at', 'it', 'first', 'from']"
      ]
     },
     "execution_count": 78,
     "metadata": {},
     "output_type": "execute_result"
    }
   ],
   "source": [
    "import os\n",
    "import re\n",
    "\n",
    "def read_and_tokenize(file_name):\n",
    "    book_text = open(file_name, \"r\").read()\n",
    "    book_words = re.findall(\"\\s*(\\S+)s*\", book_text)\n",
    "    return book_words\n",
    "    \n",
    "words = read_and_tokenize('the book.txt')\n",
    "words[1101:1111] # Expected: ['the', 'latter', 'picked', 'it', 'up', 'gazed', 'at', 'it', 'first', 'from']"
   ]
  },
  {
   "cell_type": "markdown",
   "metadata": {},
   "source": [
    "Using a sorted list of unique words in the book. Store the list in a variable called `V`. Also complete the `get_word_index` function below that gets a word and finds its index within `V`. (5 points)"
   ]
  },
  {
   "cell_type": "code",
   "execution_count": 79,
   "metadata": {},
   "outputs": [
    {
     "name": "stdout",
     "output_type": "stream",
     "text": [
      "['2163', '221614', '238840', '2500', '252972', 'a', 'able', 'aboard', 'abode', 'about', 'above']\n"
     ]
    },
    {
     "data": {
      "text/plain": [
       "9"
      ]
     },
     "execution_count": 79,
     "metadata": {},
     "output_type": "execute_result"
    }
   ],
   "source": [
    "# Your solution goes here\n",
    "V = sorted(set(words))\n",
    "print(V[0:11])\n",
    "def get_word_index(word):\n",
    "    return V.index(word)\n",
    "\n",
    "get_word_index('about')  # Expected: 9"
   ]
  },
  {
   "cell_type": "markdown",
   "metadata": {},
   "source": [
    "Using no loops, and by only using `map` and `filter` built-in python functions traverse through the `V` (vocabulary) list above to find:\n",
    "\n",
    "* `long_words`: The list of words that have 10 letters or more \n",
    "* `no_vowels`: A list of all words but with vowels (aoeiu) removed. You can nest `map` and `filter` calls to iterate through the characters of the words.\n",
    "\n",
    "(5+5 points)"
   ]
  },
  {
   "cell_type": "code",
   "execution_count": 128,
   "metadata": {},
   "outputs": [
    {
     "name": "stdout",
     "output_type": "stream",
     "text": [
      "['2163', '221614', '238840', '2500', '252972', '', 'bl', 'brd', 'bd', 'bt', 'bv', 'bsnc', 'bsnt', 'bsntmndd', 'bsltly', 'bsrb', 'byss', 'ccptnc', 'ccptd', 'ccdnt', 'ccdnts', 'ccmpnd', 'ccmpny', 'ccmplsh', 'ccmplshd', 'ccrdng', 'ccrdngly', 'ccnt', 'ccs', 'ccstmd', 'crss', 'ct', 'ctd', 'ctng', 'ctn', 'ctns', 'ctns', 'ctv', 'cts', 'ctl', 'dy', 'ddd', 'ddrssd', 'djnng', 'djst', 'djstd', 'djstng', 'djstmnts', 'dmrd', 'dmt', 'dmts', 'dmttd', 'dptd', 'drnd', 'dvnc', 'dvncd', 'dvncng', 'dvnt', 'dvntr', 'dvntrrs', 'dvntrs', 'dvc', 'dvsd', 'rpln', 'ffr', 'ffctd', 'ffrd', 'ffrdd', 'frd', 'ftr', 'ftrnn', 'ftrwrd', 'gn', 'gnst', 'g', 'gd', 'gn', 'g', 'gny', 'gr', 'grd', 'grmnt', 'h', 'hd', 'd', 'dd', 'm', 'md', 'r', 'r', 'rcrft', 'rshp', 'lrm', 'lrmd', 'lrmng', 'lmbcs', 'lk', 'lv', 'll', 'llw', 'lmst', 'ln', 'lng', 'ld', 'lrdy', 'ls', 'lthgh', 'ltgthr', 'lwys', 'm', 'mtr', 'mrc', 'mrcn', 'md', 'mmn', 'mng', 'ms', 'msd', 'n', 'nlyss', 'ncnt', 'nd', 'ndy', 'nml', 'nn', 'nnhltd', 'nnhltr', 'nnddr', 'nndr', 'nnncd', 'nnncmnt', 'nny', 'nthr', 'nswr', 'nswrd', 'nswrng', 'ntrctc', 'ntrm', 'ntcptn', 'ntqs', 'nxty', 'nxs', 'nxsly', 'ny', 'nybdy', 'nyhw', 'nythng', 'nywhr', 'prt', 'prtmnt', 'prtr', 'ppllng', 'pprts', 'pprnt', 'pprntly', 'ppr', 'pprnc', 'pprd', 'pprs', 'pptt', 'pptts', 'ppntd', 'pprcbl', 'pprctd', 'pprhnsn', 'pprsd', 'pprch', 'pprchd', 'pprchng', 'pprbtn', 'pprvl', 'rctc', 'r', 'rgmnt', 'rsn', 'rsng', 'rm', 'rmd', 'rms', 'rmtc', 'rs', 'rnd', 'rsd', 'rrgnd', 'rrng', 'rrngd', 'rrst', 'rrstd', 'rrvl', 'rrv', 'rrvd', 'rt', 'rtr', 'rtcl', 'rtcls', 'rtfcl', 's', 'scrbd', 'sd', 'sk', 'skd', 'skrd', 'skng', 'slp', 'spct', 'ssmblg', 'ssmbld', 'ssntd', 'ssrtd', 'ssst', 'ssstnc', 'ssstnt', 'ssstnts', 'ssmd', 'ssr', 'ssrd', 'stnshmnt', 'strd', 'strnmrs', 'strnmy', 'sylm', 't', 't', 'tlntc', 'tmsphr', 'tms', 'ttchd', 'ttck', 'ttckd', 'ttmpt', 'ttmptd', 'ttnd', 'ttntn', 'ttrd', 'tttd', 'ttrct', 'ttrctd', 'ttrctn', 'ttrctns', 'ttrctv', 'tmtc', 'tmtclly', 'tmbl', 'vng', 'vrg', 'vrtd', 'vd', 'vdd', 'wkn', 'wknng', 'wr', 'wy', 'wyth', 'wstrck', 'wfl', 'wk', 'xs', 'xtll', 'bby', 'bck', 'bckwrd', 'bd', 'bdly', 'bggng', 'bgs', 'bkng', 'blnc', 'blncd', 'bll', 'bllst', 'blln', 'bllnst', 'bnd', 'bndg', 'bndgd', 'bndgs', 'bng', 'bnk', 'brgnd', 'brgns', 'brn', 'brmtr', 'bscmb', 'bss', 'bskt', 'bskts', 'bt', 'bthd', 'bttry', 'bysd', 'b', 'br', 'brd', 'bsts', 'bt', 'btng', 'bts', 'bcm', 'bcs', 'bcm', 'bcmng', 'bd', 'bf', 'bfstk', 'bn', 'bnhd', 'bfll', 'bflln', 'bf', 'bfr', 'bgn', 'bggd', 'bgn', 'bgnnng', 'bgn', 'bhv', 'bhnd', 'bng', 'bngs', 'bt', 'blf', 'blv', 'blvd', 'blvng', 'blng', 'blngs', 'blw', 'bnch', 'bnchs', 'bnd', 'bndng', 'bnth', 'bnt', 'bsd', 'bsds', 'bst', 'bttr', 'btwn', 'bwr', 'bynd', 'bd', 'bddng', 'bd', 'bg', 'bnd', 'bndng', 'brd', 'bt', 'bt', 'bts', 'bttr', 'bttrly', 'blck', 'blm', 'blmd', 'blmng', 'blnk', 'blnkt', 'blnkly', 'blst', 'blstd', 'blzng', 'blk', 'blw', 'blndfld', 'blndfldd', 'blck', 'blcks', 'bld', 'blw', 'blwng', 'blwn', 'blrtd', 'brd', 'bst', 'bstd', 'bt', 'bds', 'bdy', 'bld', 'blng', 'bld', 'bldly', 'bmb', 'bmbshll', 'bnds', 'bns', 'bk', 'bks', 'brrw', 'bss', 'bth', 'bthr', 'bttl', 'bttls', 'bttm', 'bttmlss', 'bttms', 'bnd', 'bnds', 'bt', 'bw', 'bx', 'bxs', 'by', 'bys', 'brn', 'brks', 'brvly', 'brd', 'brk', 'brkdwn', 'brkng', 'brth', 'brth', 'brthng', 'brch', 'brchblck', 'brchplg', 'brck', 'brdg', 'brfly', 'brght', 'brghtly', 'brllncy', 'brng', 'brngng', 'brngs', 'brnk', 'brd', 'brk', 'brkn', 'brthr', 'brthrs', 'brght', 'brshd', 'brt', 'bbblng', 'bld', 'bldngs', 'blt', 'bnch', 'bndld', 'bndldp', 'bngd', 'bnk', 'bnsn', 'brd', 'brn', 'brnd', 'brnrs', 'brnng', 'brst', 'brstng', 'bshls', 'bshs', 'bsd', 'bsnss', 'bsy', 'bt', 'btbt', 'bttng', 'btwtr', 'bzzng', 'by', 'bygn', 'cbn', 'cbl', 'cg', 'ck', 'cks', 'clmty', 'clcltd', 'clcltng', 'clcltn', 'clcltns', 'cll', 'clld', 'cllng', 'clls', 'clmly', 'cm', 'cmp', 'cn', 'cndn', 'cndl', 'cnnnbll', 'cnnt', 'cpbl', 'cprng', 'cptv', 'cptr', 'cptr', 'cptrd', 'cr', 'crbhydrts', 'crd', 'crdt', 'cr', 'crfl', 'crflly', 'crlssly', 'crtkr', 'crrg', 'crrd', 'crrs', 'crrts', 'crry', 'crryng', 'crs', 'crtrdg', 'crtrdgs', 'crvng', 'cs', 'cst', 'csl', 'cslly', 'ct', 'ctlgng', 'ctplt', 'ctstrph', 'ctch', 'cts', 'cght', 'cs', 'csd', 'ctn', 'ctnd', 'ctsly', 'cv', 'cvn', 'cvrn', 'cvrns', 'cvs', 'csd', 'clng', 'clngwrd', 'clbrtd', 'cllr', 'cntr', 'cntr', 'cntrs', 'crtn', 'crtnly', 'csstn', 'chffd', 'chr', 'chrs', 'chlk', 'chmbr', 'chnc', 'chncry', 'chncs', 'chng', 'chngd', 'chngs', 'chngng', 'chp', 'chptr', 'chrctrstcs', 'chrctrs', 'chrg', 'chrgd', 'chrts', 'chs', 'chsm', 'chckd', 'chks', 'chr', 'chrfl', 'chrflly', 'chrng', 'chrngly', 'chs', 'chmcl', 'chmcls', 'chst', 'chstnts', 'chw', 'chwng', 'chckn', 'chf', 'chfly', 'chld', 'chldrn', 'chll', 'chllng', 'chlly', 'chppng', 'chrpng', 'chc', 'chs', 'chrs', 'chckl', 'chckld', 'chcklng', 'chg', 'chg', 'chggd', 'chm', 'chms', 'chnk', 'chnks', 'cgr', 'crcl', 'crct', 'crcltng', 'crcmfrnc', 'cts', 'cty', 'cvlztn', 'cld', 'clm', 'clmd', 'clngng', 'clnk', 'clr', 'clsp', 'clspd', 'cln', 'clnng', 'clr', 'clrr', 'clrly', 'clw', 'clws', 'clckng', 'clffs', 'clmb', 'clmbd', 'clmbng', 'clnchd', 'clngng', 'cls', 'clsd', 'clsly', 'clsr', 'clth', 'clthd', 'clths', 'clthng', 'clths', 'cld', 'cldlss', 'clds', 'clb', 'clbs', 'cst', 'ct', 'cts', 'ccnt', 'cdgr', 'cff', 'cffns', 'cld', 'cldr', 'cllct', 'cllctr', 'cllg', 'clldd', 'cllsn', 'clr', 'clrd', 'clmn', 'cm', 'cms', 'cmt', 'cmts', 'cmfrt', 'cmfrtbl', 'cmfrtbly', 'cmng', 'cmmssn', 'cmmn', 'cmpnn', 'cmpnns', 'cmpny', 'cmprtv', 'cmprtvly', 'cmprd', 'cmprng', 'cmprtmnt', 'cmpss', 'cmplld', 'cmplnd', 'cmplt', 'cmpltd', 'cmpltly', 'cmplctd', 'cmpsd', 'cmprhnd', 'cmprhndd', 'cmprhndng', 'cmprssd', 'cmpttn', 'cmpttns', 'cmptd', 'cncl', 'cncld', 'cncrnd', 'cncrnng', 'cnclsn', 'cndtn', 'cndtns', 'cndct', 'cndctd', 'cndctng', 'cnfdncs', 'cnfdntly', 'cnfrmtn', 'cnfrmd', 'cnfndd', 'cnfrnt', 'cnfsd', 'cnfsdlk', 'cnfsn', 'cnglmrtn', 'cngrtltd', 'cngrtltng', 'cnjnctn', 'cnnctng', 'cnqrng', 'cnscs', 'cnscsnss', 'cnsntd', 'cnsqntly', 'cnsdr', 'cnsdrbl', 'cnsdrtn', 'cnsdrd', 'cnsdrng', 'cnsstd', 'cnstbl', 'cnstbls', 'cnstntly', 'cnstttn', 'cnstrnd', 'cnstrctd', 'cnstrctng', 'cnstrctn', 'cnsltng', 'cntct', 'cntgs', 'cntn', 'cntnd', 'cntmpltd', 'cntntd', 'cntnts', 'cntn', 'cntnd', 'cntns', 'cntrry', 'cntrrymndd', 'cntrl', 'cntrlld', 'cntrllng', 'cnvrstnss', 'cnvrstns', 'cnvrtd', 'cnvnc', 'cnvncd', 'ck', 'ckd', 'cl', 'cld', 'cn', 'cp', 'cppr', 'crdt', 'crds', 'crkd', 'crn', 'crnr', 'crnrs', 'crps', 'crrct', 'crrctly', 'crrspndd', 'crrdr', 'cst', 'ctch', 'cld', 'cnslld', 'cntry', 'cpl', 'crg', 'crs', 'crsmpssbl', 'crt', 'cvr', 'cvrd', 'cvrng', 'cwrd', 'czy', 'crck', 'crckd', 'crcklng', 'crcks', 'crft', 'crnky', 'crsh', 'crtr', 'crtr', 'crtrlrgr', 'crtrs', 'crwl', 'crwld', 'crwlng', 'crzy', 'crkd', 'crkng', 'crm', 'crt', 'crtd', 'crtrs', 'crk', 'crpr', 'crpng', 'crvc', 'crvcs', 'crckts', 'crd', 'crs', 'crss', 'crssd', 'crssng', 'crchng', 'crw', 'crwd', 'crwd', 'crwng', 'crws', 'crl', 'crmpld', 'crst', 'cry', 'cry', 'crystls', 'cnnng', 'cp', 'cplk', 'cps', 'crsts', 'crsty', 'crs', 'crsly', 'crld', 'crrnt', 'crrnts', 'cstdy', 'ct', 'cttng', 'cycl', 'cylndr', 'cylndrs', 'dmg', 'dmgd', 'dngr', 'dngrs', 'dngrs', 'dngld', 'dr', 'dr', 'drd', 'drng', 'drk', 'drkr', 'drknss', 'drrw', 'drtd', 'dshd', 'dstrdly', 'dt', 'dt', 'dnt', 'dy', 'dylght', 'dys', 'dzd', 'd', 'dd', 'ddfrmthrst', 'ddly', 'dl', 'dlt', 'dth', 'dbrs', 'dcv', 'dcvd', 'dcnt', 'dcdd', 'dcdng', 'dclr', 'dclrd', 'dcrtd', 'dp', 'dpr', 'dpst', 'dply', 'dfnc', 'dfd', 'dfl', 'dflctn', 'dgrs', 'dly', 'dlyd', 'dlyng', 'dltrs', 'dlct', 'dlctly', 'dlvr', 'dlvrnc', 'dm', 'dmndd', 'dmnstrtd', 'dn', 'dnd', 'dnstynss', 'dprtd', 'dprtmnt', 'dprtr', 'dpndd', 'dplrbl', 'dpst', 'dprssn', 'dprssns', 'dprvd', 'dpths', 'drngd', 'dr', 'dscndd', 'dscndng', 'dscnt', 'dscrbd', 'dscrbng', 'dscrptn', 'dscry', 'dsrtd', 'dsrvs', 'dsgn', 'dsgnd', 'dsr', 'dsrd', 'dslt', 'dslttrrbly', 'dsltn', 'dspr', 'dsprt', 'dsprtly', 'dspndntly', 'dstnd', 'dstry', 'dtchd', 'dtl', 'dtls', 'dtctvs', 'dtrmnd', 'dtrmns', 'dtrmnng', 'dvlp', 'dvlpd', 'dvlps', 'dvt', 'dy', 'dl', 'dls', 'dmtr', 'dmnd', 'dmnds', 'dmndsmllns', 'dmndswhch', 'dck', 'dd', 'd', 'dd', 'dffrnc', 'dffrncs', 'dffrnt', 'dffclt', 'dffclts', 'dffclty', 'dffsd', 'dm', 'dnng', 'dnnr', 'drct', 'drctd', 'drctn', 'drctly', 'drfl', 'drt', 'ds', 'dsbl', 'dsbld', 'dsdvntg', 'dsgrmnt', 'dsppr', 'dspprnc', 'dspprd', 'dspprng', 'dsppntmnt', 'dsblvng', 'dschrg', 'dscls', 'dscbr', 'dscrgd', 'dscvr', 'dscvrd', 'dscvrng', 'dscvry', 'dscss', 'dscssd', 'dscssng', 'dscssn', 'dss', 'dsgs', 'dsgsd', 'dsgsng', 'dsh', 'dshs', 'dsldgd', 'dsml', 'dsmlly', 'dsmy', 'dsmntd', 'dspl', 'dsplld', 'dsplcd', 'dspsng', 'dspt', 'dsptng', 'dsspt', 'dsslv', 'dstnc', 'dstnt', 'dstll', 'dstngsh', 'dstngshbl', 'dstngshng', 'dstrss', 'dstrbtd', 'dstrb', 'dstrbnc', 'dstrbd', 'dstrbng', 'dv', 'dvng', 'dvngst', 'dzzy', 'd', 'dctr', 'dctrng', 'dd', 'ds', 'dgfght', 'dgs', 'dng', 'dngs', 'dllr', 'dllrs', 'dn', 'dnnd', 'dmd', 'dr', 'drs', 'drwy', 'ds', 'dt', 'dbl', 'dblbrrlld', 'dbt', 'dbts', 'dwn', 'dwnwrd', 'dzn', 'drg', 'drggd', 'drnk', 'drght', 'drw', 'drwng', 'drwn', 'drdd', 'drdfl', 'drmd', 'drmng', 'drms', 'drssd', 'drw', 'drnk', 'drnkng', 'drppng', 'drvng', 'drp', 'drppd', 'drppng', 'drg', 'drggd', 'dry', 'dbs', 'dbsly', 'd', 'dll', 'dlly', 'dmbly', 'dnc', 'drng', 'dsk', 'dst', 'dstthy', 'dsty', 'dts', 'dwll', 'dwlt', 'dwndlng', 'dyng', 'ch', 'gr', 'grly', 'r', 'rly', 'rn', 'rnst', 'rnstly', 'rs', 'rth', 'rthcnclsn', 'rthprhps', 's', 'sr', 'sst', 'sly', 'sy', 't', 'tn', 'tng', 'br', 'ch', 'chd', 'clps', 'dg', 'f', 'ffct', 'ffctv', 'ffcts', 'ffctlly', 'ffrts', 'ggs', 'grss', 'gyptn', 'h', 'ghtysx', 'thr', 'jcltd', 'jcltns', 'ltd', 'lctn', 'lctrc', 'lctrcl', 'lctrclly', 'lctrcty', 'lmnt', 'lmnts', 'lphnts', 'lvt', 'lvtd', 'lvtn', 'ls', 'mntd', 'mntns', 'mbrrssd', 'mrg', 'mrgd', 'mrgncy', 'mrgng', 'mnnt', 'mptd', 'nbl', 'ncsd', 'nclsd', 'ncntrd', 'nd', 'ndvrd', 'nds', 'nms', 'nmy', 'nrgy', 'nggd', 'ngn', 'nglsh', 'njy', 'njyd', 'nlstd', 'nrms', 'ngh', 'nshrdd', 'ntr', 'ntrd', 'ntrtnng', 'nthssm', 'nthsstclly', 'ntr', 'ntrly', 'nttld', 'ntrnc', 'ntrts', 'ntrstd', 'nvlp', 'ql', 'qlld', 'qlbrm', 'r', 'rrr', 'scp', 'scpd', 'scpng', 'skms', 'spclly', 'sprss', 'stt', 'stmt', 'trnty', 'thr', 'thrt', 'thrm', 'vprtng', 'vn', 'vnng', 'vr', 'vrvryng', 'vry', 'vrybdy', 'vryn', 'vrythng', 'vdnc', 'vdncs', 'vdnt', 'vdntly', 'vlvd', 'xct', 'xctly', 'xmntn', 'xmnd', 'xmnng', 'xmpl', 'xcdngly', 'xcpt', 'xchngd', 'xctbl', 'xctd', 'xctmnt', 'xclmd', 'xclmtns', 'xcrsn', 'xrcs', 'xrtn', 'xhstd', 'xhbtd', 'xstnc', 'xsts', 'xpct', 'xpctd', 'xpctng', 'xprnc', 'xprncs', 'xprmnt', 'xprmntl', 'xprmnts', 'xpln', 'xplnd', 'xplns', 'xpldd', 'xplrd', 'xplsn', 'xplsns', 'xtnsv', 'xtnt', 'xtrr', 'xtrnlly', 'xtnct', 'xtr', 'xltd', 'y', 'ys', 'yng', 'fc', 'fcs', 'fct', 'fctry', 'fcts', 'fdng', 'fld', 'fls', 'fnt', 'fntly', 'fr', 'frly', 'fthfl', 'fll', 'flln', 'fllng', 'fmbly', 'fmlr', 'fms', 'fncd', 'fncy', 'fnnd', 'fntstc', 'fr', 'fr', 'frm', 'frmr', 'frmrs', 'frff', 'frrchng', 'frthr', 'fshn', 'fst', 'fstnd', 'fstnng', 'fstr', 'fstgthrng', 'ft', 'fthmlss', 'flt', 'fvr', 'fr', 'frd', 'frfl', 'frflly', 'frlssly', 'frs', 'fst', 'fthrs', 'ftr', 'ftrs', 'fd', 'fd', 'fl', 'flfl', 'flng', 'flngs', 'ft', 'fll', 'fllw', 'fllws', 'flt', 'fnc', 'fr', 'frry', 'frtl', 'frvntly', 'fw', 'fld', 'flds', 'fnd', 'fftn', 'ffty', 'fftythr', 'fghtng', 'fgr', 'fgrd', 'fgrs', 'fll', 'flld', 'fllng', 'flm', 'fnl', 'fnlly', 'fnd', 'fndng', 'fnds', 'fn', 'fnst', 'fngr', 'fngrs', 'fnsh', 'fnshd', 'fr', 'frd', 'frwrks', 'frng', 'frmmnt', 'frst', 'fsh', 'fssrs', 'fst', 'ft', 'fttd', 'fv', 'fx', 'fxd', 'fxng', 'flm', 'flppd', 'flppng', 'flrd', 'flsh', 'flshd', 'flttn', 'flw', 'flght', 'flt', 'fltd', 'fltng', 'flr', 'flw', 'flwd', 'flng', 'flshd', 'fly', 'flyng', 'f', 'fddr', 'fgt', 'flks', 'fllw', 'fllwd', 'fllwng', 'fllws', 'fnd', 'fndnss', 'fd', 'fl', 'ft', 'ftng', 'ftstps', 'fr', 'frc', 'frcd', 'frhd', 'frsghtd', 'frsts', 'frgt', 'frgttng', 'frgt', 'frgttn', 'frm', 'frmtn', 'frmd', 'frmr', 'frmng', 'frms', 'frth', 'frtntly', 'frtn', 'frty', 'frtynnth', 'frwrd', 'fght', 'fnd', 'fr', 'frtn', 'frth', 'fwl', 'frm', 'frntclly', 'frd', 'fr', 'frdm', 'frz', 'frzng', 'frqnt', 'frqntly', 'frsh', 'frshly', 'frctn', 'frnd', 'frnds', 'frght', 'frghtnd', 'fr', 'frm', 'frnt', 'frst', 'frstnss', 'frzddt', 'frzn', 'frgl', 'fll', 'fllst', 'fllgrwn', 'flly', 'fmbld', 'fms', 'fnny', 'fr', 'frsly', 'frlnd', 'frthr', 'fs', 'fss', 'fssng', 'fst', 'ftr', 'gg', 'gggd', 'gn', 'gll', 'glly', 'gm', 'gp', 'grmnt', 'grmnts', 'grrt', 'gs', 'gss', 'gskts', 'gsln', 'gsln', 'gsp', 'gspd', 'gt', 'gtwy', 'gthr', 'gthrd', 'gthrng', 'gg', 'gv', 'gz', 'gzd', 'gzng', 'grd', 'grs', 'g', 'gms', 'gnrl', 'gnrtd', 'gntl', 'gntly', 'grg', 'grmn', 'gt', 'gts', 'gttng', 'ghst', 'ghstd', 'ghsts', 'ggntc', 'glbrt', 'gngrly', 'grl', 'grt', 'gts', 'gv', 'gvn', 'gvs', 'gvng', 'gld', 'gldnss', 'glnc', 'glncd', 'glncs', 'glncng', 'glrd', 'glss', 'glsscvrd', 'glsss', 'glflly', 'glmps', 'glmpss', 'glb', 'glbs', 'glm', 'glmly', 'glmy', 'glw', 'glwng', 'g', 'gs', 'gng', 'gld', 'gldn', 'glly', 'gn', 'gd', 'gdby', 'gdly', 'gdnssgldnss', 'gt', 'gttn', 'grbbd', 'grdlly', 'grdtd', 'grns', 'grsp', 'grspd', 'grv', 'grvly', 'grvr', 'grvttn', 'grvty', 'gry', 'grt', 'grtr', 'grk', 'grn', 'grt', 'grtd', 'grw', 'grm', 'grmly', 'grn', 'grnnng', 'grp', 'grnd', 'grnds', 'grp', 'grpd', 'grw', 'grwng', 'grwn', 'grws', 'grwth', 'grd', 'grdd', 'grddly', 'grdhs', 'gss', 'gssd', 'gssng', 'gst', 'gsts', 'gd', 'gm', 'gn', 'gns', 'gwn', 'h', 'hb', 'hbhb', 'hd', 'hld', 'hlng', 'hr', 'hlf', 'hlfrtclt', 'hlfhr', 'hll', 'hlt', 'hltd', 'hltng', 'hm', 'hmmr', 'hmptn', 'hnd', 'hndd', 'hndfl', 'hndkrchf', 'hndl', 'hnds', 'hndsm', 'hndwrtng', 'hng', 'hngng', 'hngngt', 'hngt', 'hppn', 'hppnd', 'hppnng', 'hppns', 'hrd', 'hrdly', 'hrdnss', 'hrdshp', 'hrdshps', 'hrk', 'hrm', 'hrshly', 'hs', 'hst', 'hstn', 'hstly', 'hsty', 'ht', 'ht', 'htfl', 'hl', 'hlng', 'hv', 'hvng', 'hy', 'h', 'hd', 'hdd', 'hdng', 'hdqrtrs', 'hds', 'hh', 'hlth', 'hp', 'hr', 'hrd', 'hrt', 'hrts', 'hrty', 'ht', 'htd', 'hv', 'hvn', 'hvnly', 'hvns', 'hvr', 'hvly', 'hvy', 'hck', 'hd', 'hght', 'hrs', 'hld', 'hll', 'hlp', 'hlpd', 'hlpr', 'hlprs', 'hlpng', 'hlplssly', 'hndrsn', 'hr', 'hr', 'hrblcks', 'hrt', 'hrmtclly', 'hrs', 'hrslf', 'hsttd', 'hsttn', 'h', 'hd', 'hddn', 'hd', 'hdng', 'hgh', 'hghr', 'hghst', 'hghwy', 'hlly', 'hm', 'hmslf', 'hmt', 'hndr', 'hngs', 'hrd', 'hs', 'hssd', 'hstry', 'ht', 'hthr', 'httng', 'h', 'hrs', 'hrsly', 'hld', 'hldng', 'hl', 'hl', 'hls', 'hllw', 'hllws', 'hm', 'hm', 'hmstd', 'hnr', 'hp', 'hpd', 'hpfl', 'hpflly', 'hpng', 'hrrr', 'hrrrstrckn', 'hrs', 'hrss', 'hsptl', 'hstlts', 'ht', 'htl', 'hr', 'hrs', 'hs', 'hsd', 'hss', 'hvrd', 'hvrng', 'hw', 'hwvr', 'h', 'hddld', 'h', 'hg', 'hm', 'hmn', 'hmmd', 'hmmck', 'hmph', 'hndrd', 'hndrds', 'hng', 'hngrr', 'hngry', 'hnk', 'hnt', 'hntr', 'hntng', 'hrld', 'hrrh', 'hrrd', 'hrry', 'hrryng', 'hrt', 'hrtd', 'hrtld', 'hrtlng', 'hrts', 'hskng', 'hstl', 'ht', 'htchnsn', 'htdbtlss', '', 'c', 'd', 'dly', 'f', 'ff', 'gntd', '', '', 'll', 'llmntn', 'mg', 'mgs', 'mgn', 'mgnd', 'mmdtly', 'mmmrl', 'mmns', 'mptntly', 'mprsntng', 'mprtnt', 'mpssbl', 'mprss', 'mprssn', 'mprsn', 'mprvmnts', 'mprvsd', 'mpls', 'n', 'nctvty', 'nch', 'ncdnt', 'nclntn', 'nclnd', 'ncrs', 'ncrsd', 'ncrsng', 'ncrdbl', 'ndd', 'nddy', 'ndn', 'ndct', 'ndctd', 'ndctn', 'ndctns', 'ndctr', 'ndgnnt', 'ndstry', 'nrt', 'nxprssbl', 'nfrrd', 'nfrm', 'nhbtnt', 'nhbtnts', 'nhbtd', 'nhld', 'ntls', 'njr', 'njrd', 'njrs', 'njrng', 'nk', 'nnmrbl', 'nqr', 'nqrd', 'nqrs', 'nqry', 'nsn', 'nsrtd', 'nsd', 'nsstd', 'nspctn', 'nstnc', 'nstnt', 'nstntly', 'nstd', 'nstrctd', 'nstrctng', 'nstrmnt', 'nstrmnts', 'ntnd', 'ntndd', 'ntndng', 'ntns', 'ntnt', 'ntntn', 'ntntns', 'ntntly', 'ntr', 'ntrst', 'ntrstd', 'ntrstng', 'ntrr', 'ntrplntry', 'ntrrptd', 'ntrvls', 'nt', 'ntrpd', 'ntrct', 'ntrdrs', 'nvntd', 'nvntn', 'nvntns', 'nvntr', 'nvstgt', 'nvstgtns', 'nvsbl', 'nvttn', 'nvtd', 'nvtng', 'nvlntrly', 'rn', 's', 'snd', 'scs', 's', 'sf', 'slnd', 'spcts', 't', 'tct', 'tm', 'ts', 'tsw', 'tslf', 'v', 'x', 'jck', 'jckn', 'jggd', 'jlr', 'jr', 'jnt', 'jnkns', 'jrk', 'jrky', 'jst', 'jwlrs', 'jwlry', 'jffy', 'jnks', 'jb', 'jhnsn', 'jhnsnth', 'jn', 'jnd', 'jnts', 'jk', 'jkng', 'jkngly', 'jsh', 'jstl', 'jrny', 'jv', 'jy', 'jysly', 'jdg', 'jc', 'jmp', 'jmpd', 'jmpng', 'jmps', 'jst', 'jstfy', 'kl', 'kp', 'kpng', 'kps', 'kpt', 'krflmx', 'krnl', 'kttl', 'kck', 'kll', 'klld', 'klldfrzn', 'kn', 'knd', 'kndlng', 'kndly', 'kngs', 'ktchn', 'kns', 'knlt', 'knw', 'knghts', 'knck', 'knckd', 'knckr', 'kncks', 'knt', 'knw', 'knw', 'knwd', 'knwng', 'knwldg', 'knwn', 'knws', 'lbr', 'lbrtry', 'lbrd', 'lbrs', 'lc', 'lck', 'ld', 'lds', 'ldy', 'lggng', 'ld', 'lk', 'lks', 'lmb', 'lnd', 'lndd', 'lndng', 'lndmrk', 'lndmrks', 'lndscp', 'lngly', 'lngg', 'lntrns', 'lpsd', 'lrg', 'lrgr', 'lrgst', 'lst', 'lt', 'ltly', 'ltr', 'lttr', 'lgh', 'lghd', 'lghng', 'lvlk', 'lvsh', 'lw', 'ly', 'lyr', 'lyng', 'lymn', 'ld', 'ldng', 'lds', 'lf', 'lnd', 'lp', 'lpd', 'lpd', 'lpng', 'lps', 'lrn', 'lrnd', 'lst', 'lv', 'lvs', 'lvng', 'ld', 'lft', 'lgs', 'lnd', 'lngth', 'lns', 'lss', 'lssns', 'lst', 'lt', 'ltmln', 'lttr', 'lttrs', 'lttng', 'lvl', 'lvr', 'lvrs', 'lbl', 'lbrl', 'lbrry', 'lck', 'ld', 'l', 'lf', 'lfgvng', 'lfn', 'lftrch', 'lftrchs', 'lftng', 'lght', 'lghtr', 'lghtly', 'lk', 'lkly', 'lm', 'lmwtr', 'lmt', 'lmtd', 'ln', 'lnd', 'lns', 'lngr', 'lngrd', 'lngrng', 'lp', 'lps', 'lqd', 'lst', 'lstn', 'lstnd', 'lstnng', 'lstlssly', 'ltrlly', 'lttl', 'lv', 'lvd', 'lvly', 'lvs', 'lvng', 'lds', 'lf', 'ln', 'lth', 'lvs', 'lbstr', 'lct', 'lctng', 'lctn', 'lck', 'lckd', 'lckrs', 'lckng', 'lnlnss', 'lnly', 'lnsm', 'lng', 'lngbt', 'lngd', 'lngr', 'lngst', 'lngtht', 'lk', 'lkd', 'lkng', 'lkt', 'lks', 'lmd', 'ln', 'lny', 'lp', 'ls', 'lsd', 'lsn', 'lsnd', 'lrd', 'ls', 'lss', 'lst', 'lt', 'lts', 'ld', 'ldr', 'ldly', 'lw', 'lwr', 'lwrd', 'lbrctng', 'lck', 'lcky', 'lmp', 'lmps', 'ln', 'lntc', 'lnch', 'lrchng', 'lyng', 'mcrn', 'mchn', 'mchnry', 'mchns', 'mchnst', 'md', 'mgcn', 'mgnt', 'mgnfyng', 'mh', 'ml', 'mn', 'mn', 'mnly', 'mntn', 'mntnd', 'mk', 'mks', 'mkng', 'mn', 'mng', 'mngd', 'mngr', 'mn', 'mnplt', 'mnnr', 'mnfllwrk', 'mnsn', 'mntl', 'mntlpc', 'mnfctr', 'mnfctrd', 'mnwth', 'mny', 'mrbl', 'mr', 'mrgn', 'mr', 'mrk', 'mrkd', 'mrkt', 'mrkng', 'mrks', 'mrkt', 'mrs', 'mrsh', 'mrtn', 'mrtns', 'mrvls', 'msqrdng', 'mss', 'mss', 'mssy', 'mstdns', 'mtrl', 'mtth', 'mttr', 'mttrs', 'mwnng', 'mxmm', 'my', 'myb', 'm', 'mdws', 'mgr', 'ml', 'mls', 'mlsshvrng', 'mn', 'mnng', 'mnnglss', 'mns', 'mnt', 'mnwhl', 'msr', 'mt', 'mchncn', 'mchncs', 'mddld', 'mdcn', 'mt', 'mlt', 'mn', 'mntlly', 'mntn', 'mntnd', 'mntnng', 'mr', 'mrly', 'mrmd', 'mrrly', 'mssg', 'mt', 'mtl', 'mtr', 'mtrc', 'mtrs', 'mtrpltn', 'mdr', 'mddl', 'mdst', 'mght', 'mghtly', 'mghty', 'mld', 'ml', 'mls', 'mlsnly', 'mll', 'mlln', 'mllns', 'mnd', 'mndd', 'mnds', 'mn', 'mnr', 'mngld', 'mnstr', 'mnr', 'mns', 'mnt', 'mnts', 'mrg', 'mrrr', 'msdvntr', 'msrbl', 'mssng', 'mst', 'mstk', 'mstkn', 'mstkng', 'mdrn', 'mstr', 'mmnt', 'mmntrly', 'mmnts', 'mmnts', 'mnrch', 'mny', 'mntny', 'mnth', 'mnths', 'mn', 'mnt', 'mnbms', 'mn', 'mnmn', 'mnn', 'mnqk', 'mntht', 'mnth', 'mnvygrs', 'mr', 'mrnng', 'mrnngnd', 'mrrw', 'mrsl', 'mrtl', 'ms', 'mst', 'mtn', 'mtns', 'mtnd', 'mtnlss', 'mtv', 'mtr', 'mtrbt', 'mtrcycl', 'mtrcyclst', 'mtrs', 'mtrth', 'mntn', 'mntns', 'mntns', 'mntd', 'mth', 'mths', 'mv', 'mvd', 'mvdnt', 'mvmnt', 'mvmnts', 'mvs', 'mvng', 'mw', 'mr', 'mch', 'mffld', 'mmbl', 'mmbld', 'mmblng', 'mmblngly', 'mmms', 'mnchd', 'mrmrd', 'mrmrng', 'mscls', 'msd', 'msm', 'msngly', 'mskrt', 'mskrts', 'mst', 'mstch', 'mttrd', 'my', 'mysf', 'myslf', 'mystrs', 'mystry', 'nm', 'nmd', 'nmly', 'nrrw', 'nrrwly', 'nrrwscrcly', 'ntrl', 'ntr', 'nvgts', 'nvgtn', 'nvy', 'nr', 'nrr', 'nrst', 'nrng', 'nrly', 'nrnss', 'ntly', 'nbr', 'ncssry', 'ncssty', 'nck', 'nckt', 'nd', 'ndd', 'ndls', 'nds', 'ngtv', 'nglct', 'ngr', 'nghbrhd', 'nthr', 'nrvs', 'nrvsly', 'nvr', 'nw', 'nwcmr', 'nws', 'nwsppr', 'nwspprs', 'nxt', 'nc', 'nght', 'nghts', 'nntn', 'nnty', 'n', 'nbdy', 'nddd', 'ns', 'nncndctng', 'nndscrpt', 'nn', 'nnthlght', 'nnsns', 'nks', 'nn', 'nr', 'nrth', 'ns', 'nss', 'nt', 'ntch', 'nt', 'ntd', 'nts', 'nthng', 'ntc', 'ntcd', 'ntfy', 'ntn', 'ntwthstndng', 'nvlty', 'nw', 'nwhr', 'nwhy', 'nmbr', 'nmbrs', 'nrsd', 'nt', 'b', 'bd', 'br', 'by', 'bjct', 'bjctd', 'bjctn', 'bjctns', 'bjctt', 'bjcts', 'blgd', 'blvs', 'bsrvtn', 'bsrvtns', 'bsrv', 'bsrvd', 'bsrvr', 'btnd', 'ccsnl', 'ccsnlly', 'ccpnts', 'ccptns', 'ccpd', 'ccps', 'ccr', 'ccrrd', 'ccrs', 'cn', 'clck', 'dd', 'dr', 'f', 'ff', 'ffnc', 'ffr', 'ffrd', 'ffc', 'ffcr', 'ffcl', 'ftn', 'h', 'l', 'lng', 'ld', 'ldr', 'ldfshnd', 'lvtntd', 'n', 'nc', 'n', 'ns', 'nln', 'nly', 'nwrd', 'pn', 'pnd', 'pnng', 'prt', 'prtd', 'prtng', 'prtn', 'prtr', 'pnn', 'pprtnty', 'ppst', 'r', 'rdr', 'rdrs', 'rdnry', 'rgn', 'rgnl', 'rphns', 'thr', 'thrs', 'thrws', 'ght', 'r', 'rs', 'rslvs', 't', 't', 'tcm', 'tr', 'tng', 'tlnd', 'tsd', 'vn', 'vr', 'vrbrdnd', 'vrct', 'vrhrd', 'vrpwrng', 'vrsht', 'vrtk', 'vrwhlmng', 'wn', 'wnd', 'wnr', 'wnrs', 'xn', 'xygn', 'pc', 'pckgs', 'pckd', 'pg', 'pd', 'pltbl', 'pl', 'plld', 'pnl', 'pns', 'ppr', 'pprs', 'prchd', 'prks', 'prt', 'prtk', 'prtd', 'prtlly', 'prtclr', 'prtclrly', 'prtly', 'prts', 'prty', 'pss', 'pssg', 'pssd', 'pssrby', 'pssng', 'pst', 'pstry', 'ptchng', 'pth', 'ps', 'psd', 'psng', 'py', 'pyng', 'pc', 'pk', 'pks', 'pclr', 'pdl', 'pp', 'ppd', 'pr', 'prd', 'prng', 'pndlm', 'pntrt', 'pntrtd', 'ppl', 'prcntg', 'prfct', 'prfctn', 'prfctly', 'prfssr', 'prfrtd', 'prfrtns', 'prhps', 'prls', 'prls', 'prd', 'prshd', 'prmnnt', 'prmt', 'prmttng', 'prptl', 'prplxty', 'prsstd', 'prsn', 'prsns', 'prsd', 'ptrfctn', 'ptrfd', 'phss', 'phnmn', 'phnmnn', 'phtgrph', 'phtgrphs', 'pck', 'pckd', 'pckng', 'pctrs', 'p', 'pc', 'pcs', 'ps', 'pl', 'pllrs', 'plt', 'plths', 'pnncls', 'pps', 'ppng', 'pstnhds', 'pt', 'ptchr', 'plc', 'plcd', 'plcs', 'pln', 'plnly', 'pln', 'pln', 'plnt', 'plnnng', 'plns', 'plnt', 'plnts', 'plt', 'plt', 'pltglss', 'plts', 'ply', 'plyd', 'plsnt', 'plsntly', 'plsd', 'plsr', 'plsrs', 'plntfl', 'plnty', 'plght', 'plt', 'plwng', 'plck', 'plg', 'plngd', 'pckt', 'pcktfl', 'pckts', 'pnt', 'pntd', 'pntr', 'pntng', 'psd', 'psn', 'psns', 'pk', 'pkd', 'pl', 'plc', 'plshd', 'plt', 'pltcs', 'pndr', 'pl', 'pls', 'pr', 'prch', 'prps', 'prt', 'prtl', 'prtn', 'pstn', 'pstv', 'pssssd', 'pssblty', 'pssbl', 'pssbltht', 'pssbly', 'pstd', 'pstng', 'pstpnd', 'psts', 'ptts', 'pts', 'pch', 'pnd', 'pndng', 'pnds', 'pr', 'prd', 'pwdr', 'pwr', 'pwrfl', 'pwrs', 'prctcl', 'prctclly', 'pryr', 'pryng', 'prknss', 'prctn', 'prcdd', 'prcs', 'prcpttd', 'prcsly', 'prfr', 'prhstrc', 'prmss', 'prprtns', 'prprd', 'prprng', 'prpstrs', 'prsnc', 'prsnt', 'prsntd', 'prsntly', 'prsnts', 'prsrvd', 'prss', 'prssd', 'prsss', 'prssr', 'prsm', 'prtndng', 'prtty', 'prvld', 'prvnt', 'prvntd', 'prc', 'prcklng', 'prncpl', 'prnt', 'prntd', 'prr', 'prsn', 'prsnr', 'prbbl', 'prbbly', 'prblms', 'prcd', 'prcdd', 'prcsss', 'prcssns', 'prdcd', 'prf', 'prfssr', 'prfssrs', 'prgnstct', 'prgrss', 'prjctd', 'prjctl', 'prjctllng', 'prjctls', 'prjctltht', 'prjctng', 'prjctn', 'prlngd', 'prms', 'prmsd', 'prmlgt', 'prf', 'prfrdng', 'prpr', 'prprly', 'prprty', 'prpsd', 'prpsng', 'prpstn', 'prspct', 'prtctng', 'prtctn', 'prtg', 'prtst', 'prtds', 'prd', 'prdly', 'prv', 'prvd', 'prvs', 'prvd', 'prvdd', 'prvdng', 'pry', 'pshw', 'pblshd', 'pddng', 'pffng', 'pll', 'plld', 'pllys', 'pllng', 'pllmn', 'pmp', 'pmpkn', 'pmpkns', 'pmps', 'pnsh', 'pnshd', 'pnshmnt', 'prchs', 'prps', 'prpss', 'prrng', 'prs', 'pshd', 'pt', 'pttng', 'pzzld', 'qrry', 'qrtr', 'qr', 'qnchng', 'qrd', 'qst', 'qstn', 'qstnd', 'qstnng', 'qstns', 'qck', 'qckly', 'qcklygthrng', 'qt', 'qtly', 'qt', 'qvrd', 'qt', 'rcd', 'rdm', 'rds', 'rg', 'rggd', 'rgs', 'rn', 'rsd', 'rsng', 'rmblng', 'rmshckl', 'rn', 'rng', 'rngs', 'rnsm', 'rp', 'rpdfr', 'rpdly', 'rps', 'rr', 'rt', 'rthr', 'rts', 'rttl', 'rttlbx', 'rttld', 'rttlng', 'rw', 'rch', 'rchd', 'rchng', 'rd', 'rdrs', 'rdly', 'rdnss', 'rdng', 'rdngs', 'rdjst', 'rdjstng', 'rdy', 'rl', 'rlz', 'rlzd', 'rlly', 'rppr', 'rr', 'rsn', 'rsnd', 'rsns', 'rcdd', 'rcdng', 'rcvd', 'rcvs', 'rcnt', 'rcptcl', 'rcklss', 'rckn', 'rckns', 'rcgnzd', 'rcgnzng', 'rcrd', 'rcrds', 'rcrdsvn', 'rcvrd', 'rctngl', 'rd', 'rdht', 'rdbld', 'rdc', 'rdcd', 'rld', 'rntrd', 'rfrrng', 'rflld', 'rflctd', 'rflctn', 'rfsd', 'rgrd', 'rgrdng', 'rgns', 'rglr', 'rgnd', 'rltd', 'rlys', 'rls', 'rlsd', 'rlvd', 'rmn', 'rmndr', 'rmnd', 'rmnng', 'rmns', 'rmrk', 'rmrkbl', 'rmrkd', 'rmrkng', 'rmrks', 'rmmbr', 'rmmbrd', 'rmv', 'rmvd', 'rmvr', 'rndr', 'rndzvs', 'rndng', 'rnw', 'rnwl', 'rnrs', 'rpnd', 'rpr', 'rprd', 'rprng', 'rprs', 'rptd', 'rptdly', 'rpl', 'rpllng', 'rplc', 'rplcd', 'rpld', 'rply', 'rprt', 'rprtd', 'rprsntd', 'rqst', 'rqrd', 'rsc', 'rscd', 'rsmblng', 'rsrvd', 'rsstnc', 'rsstd', 'rslvd', 'rsrt', 'rspnd', 'rspndd', 'rspns', 'rspnsblty', 'rspnsbl', 'rst', 'rstrnt', 'rstd', 'rstng', 'rstlss', 'rstr', 'rslt', 'rsltd', 'rslts', 'rsm', 'rsmd', 'rsmng', 'rtnng', 'rtcnt', 'rtrd', 'rtrtd', 'rtrc', 'rtrn', 'rtrnd', 'rtrnng', 'rtrns', 'rvl', 'rvld', 'rvng', 'rvngd', 'rvvd', 'rvltn', 'rvltnz', 'rvlvs', 'rwrd', 'rc', 'rch', 'rchs', 'rckty', 'rd', 'rdr', 'rdng', 'rfl', 'rght', 'rghtd', 'rghts', 'rghttht', 'rs', 'rss', 'rsng', 'rsk', 'rsks', 'rsky', 'rvl', 'rvllng', 'rvrs', 'rd', 'rds', 'rdwy', 'rr', 'rrng', 'rst', 'rstd', 'rbbry', 'rck', 'rcks', 'rckwd', 'rcky', 'rd', 'rds', 'rl', 'rll', 'rlld', 'rllng', 'rmns', 'rf', 'rm', 'rm', 'rms', 'rstr', 'rp', 'rps', 'rs', 'rss', 'rsy', 'rtts', 'rgh', 'rmnn', 'rndd', 'rsd', 'ry', 'rb', 'rbbd', 'rbbng', 'rd', 'rflly', 'rggd', 'rnd', 'rns', 'rmblng', 'rn', 'rnnng', 'rsh', 'rshd', 'rshng', 'rsty', 'sd', 'sddl', 'sf', 'sfly', 'sfst', 'sggst', 'sggng', 'sh', 'sd', 'sl', 'slng', 'sl', 'slld', 'sm', 'smpld', 'smpsn', 'sndwch', 'sndwchs', 'snk', 'sntll', 'srgss', 'ssh', 'st', 'stsfctn', 'stsfd', 'stsfy', 'svg', 'sv', 'svd', 'sw', 'sy', 'syby', 'syng', 'sys', 'scls', 'scnnd', 'scnnng', 'scnt', 'scntst', 'scnty', 'scrc', 'scrcly', 'scrcty', 'scr', 'scrd', 'scttrd', 'scttrng', 'scn', 'scnry', 'scns', 'schm', 'schlrly', 'scntfc', 'scntst', 'scntsts', 'scp', 'scrs', 'scndrl', 'scr', 'scrmbld', 'scrmblng', 'scrps', 'scrtchd', 'scrtchng', 'scrm', 'scrmd', 'scrw', 'scrwdrvr', 's', 'sl', 'sld', 'smd', 'srch', 'srchd', 'srchrs', 'srchng', 'srchlght', 'st', 'std', 'scnd', 'scndd', 'scnds', 'scrt', 'scrts', 'sctn', 'sctns', 'scrd', 's', 'sd', 'sng', 'sk', 'skrs', 'skng', 'sm', 'smd', 'smngly', 'sms', 'sn', 'ss', 'sldm', 'slfdjstng', 'sll', 'smcnscs', 'snc', 'snd', 'sndng', 'snstn', 'sns', 'snt', 'sntnc', 'sprt', 'sprtd', 'srbd', 'srs', 'srs', 'srsly', 'srvnt', 'srv', 'srvd', 'st', 'sts', 'sttl', 'sttld', 'svntyfv', 'svrl', 'sh', 'shck', 'shdw', 'shdws', 'shft', 'shggy', 'shk', 'shkng', 'shky', 'shll', 'shngh', 'shp', 'shpd', 'shr', 'shrd', 'shrp', 'shrply', 'shvd', 'shvn', 'sh', 'shd', 'shr', 'shts', 'shll', 'shlls', 'shft', 'shftng', 'shfty', 'shngls', 'shnng', 'shp', 'shpmnt', 'shvr', 'shvrd', 'shvrng', 'shck', 'shckd', 'sh', 'shn', 'shd', 'shk', 'sht', 'shtng', 'shp', 'shp', 'shps', 'shrt', 'shrtly', 'sht', 'shts', 'shld', 'shldr', 'shldrd', 'shldrs', 'sht', 'shtd', 'shtng', 'shts', 'shvd', 'shvng', 'shw', 'shwd', 'shwr', 'shwng', 'shwn', 'shws', 'shrds', 'shrb', 'shrbbry', 'shddrngly', 'shffld', 'sht', 'shttr', 'shttrs', 'sck', 'scksh', 'sckly', 'sd', 'sds', 'sdth', 'sgh', 'sght', 'sghts', 'sgn', 'sgnl', 'sgnls', 'sgnd', 'sgnfcnt', 'sgns', 'slnc', 'slnt', 'smlr', 'smpl', 'smplmndd', 'smplfs', 'snc', 'sp', 'sps', 'st', 'sttng', 'sttn', 'sx', 'sxth', 'sz', 'skrtd', 'skrtng', 'sky', 'skyrckt', 'slcknd', 'slcknng', 'slmmng', 'slntd', 'slt', 'slvry', 'sldg', 'slp', 'slps', 'slpt', 'sld', 'sld', 'sldng', 'slght', 'slghtly', 'slng', 'slngth', 'slp', 'slppd', 'slppng', 'slw', 'slwd', 'slwr', 'slwly', 'slws', 'slmbr', 'slmbrlnd', 'smll', 'smllr', 'smshd', 'smlld', 'sml', 'smld', 'smlng', 'smtng', 'smkng', 'smthly', 'snppd', 'snppng', 'sntch', 'snkd', 'snzng', 'snwstrm', 's', 'sp', 'srd', 'sckt', 'sld', 'sldr', 'sldrs', 'slmnly', 'sld', 'sldcrtrs', 'slv', 'sm', 'smbdy', 'smhw', 'smthng', 'smtms', 'smwht', 'sng', 'sns', 'sn', 'snr', 'srry', 'srt', 'srtd', 'sght', 'slrd', 'snd', 'sndd', 'sndd', 'snds', 'sp', 'sth', 'svnrs', 'sys', 'spc', 'spcslpt', 'spctht', 'spnnd', 'spr', 'sprst', 'sprngly', 'sprk', 'sprklr', 'sprklrs', 'sprklng', 'sprks', 'spk', 'spkng', 'spkngtb', 'spcl', 'spcmn', 'spd', 'spd', 'spdd', 'spdly', 'spdng', 'spdmtr', 'spll', 'spnt', 'sphr', 'spll', 'sprt', 'sprts', 'spt', 'splttrng', 'spl', 'spld', 'spk', 'spkn', 'spsng', 'spt', 'sptng', 'sprng', 'sprd', 'sprng', 'sprngng', 'sprngs', 'sprng', 'sprrd', 'spyng', 'sqr', 'sqkng', 'sqz', 'sqzd', 'stggrng', 'stn', 'strs', 'stl', 'stlld', 'stmmrd', 'stnd', 'stndng', 'stndpnt', 'stnds', 'str', 'strd', 'strng', 'strs', 'strt', 'strtd', 'strtng', 'strtld', 'strtlng', 'strv', 'strvd', 'strvng', 'sttd', 'sttmnt', 'sttrm', 'sttrms', 'stts', 'stts', 'sty', 'styd', 'styng', 'stys', 'std', 'stdy', 'stl', 'stl', 'stp', 'stpls', 'str', 'strng', 'stp', 'stplddr', 'stppd', 'stppng', 'stps', 'strnly', 'stckpn', 'stff', 'stll', 'stllnss', 'strrd', 'stck', 'stmch', 'stn', 'stns', 'std', 'stpd', 'stpng', 'stp', 'stppd', 'stppng', 'str', 'strrm', 'strs', 'stry', 'stt', 'sttly', 'sttnss', 'stv', 'stwwy', 'stwd', 'stwng', 'strght', 'strghtnd', 'strn', 'strnd', 'strnd', 'strng', 'strngly', 'strngnss', 'strngr', 'strngr', 'strngrs', 'stry', 'strm', 'strmng', 'strt', 'strts', 'strngth', 'strngthns', 'strns', 'strtchd', 'strwd', 'strk', 'strkng', 'strp', 'strppd', 'strps', 'strll', 'strlld', 'strng', 'strngly', 'strck', 'strctr', 'strggld', 'strggls', 'stbbly', 'stck', 'stdnt', 'stds', 'stdy', 'stdyng', 'stff', 'stffd', 'stmbld', 'stmblng', 'stnnd', 'strdly', 'sh', 'sbmrn', 'sbstnc', 'sbstntlly', 'sccdd', 'sccss', 'sccssflly', 'sch', 'sctn', 'sddn', 'sddnly', 'sddnnss', 'sddnt', 'sdds', 'sffr', 'sffrng', 'sffrngs', 'sffcd', 'sffcnt', 'sffn', 'sffctn', 'sggst', 'sggstd', 'st', 'sts', 'slpht', 'sm', 'smmns', 'sn', 'snk', 'snlght', 'snnng', 'snst', 'snshn', 'sppr', 'sppryt', 'sppls', 'spply', 'spprt', 'spprtd', 'spps', 'sppsd', 'sr', 'srly', 'srfc', 'srprs', 'srprsd', 'srprsng', 'srrndd', 'srrndng', 'sspct', 'sspctd', 'sspns', 'sspcn', 'sspcns', 'sspcs', 'sttnly', 'swllwd', 'swmp', 'swyd', 'swyng', 'swt', 'swtly', 'swpt', 'swrv', 'swrvd', 'swft', 'swftst', 'swftly', 'swftnss', 'swmmng', 'swng', 'swngng', 'swtch', 'swlln', 'swng', 'sympthz', 'systmtc', 'tbl', 'tbls', 'tk', 'tkn', 'tks', 'tkng', 'tlk', 'tlkd', 'tlkr', 'tlkng', 'tll', 'tllr', 'tmp', 'tmprd', 'tmprng', 'tngnt', 'tnk', 'tnks', 'tppd', 'tsk', 'tst', 'tstd', 'ttt', 'tm', 'tchncl', 'tmng', 'tth', 'tlgrm', 'tlgrph', 'tlscp', 'tlscps', 'tll', 'tllng', 'tlls', 'tllwth', 'tmprtr', 'tmptng', 'tn', 'tpd', 'trmd', 'trrbl', 'trrbly', 'trrfclly', 'trrfd', 'trrtry', 'trrr', 'tst', 'tstd', 'tstfy', 'tstng', 'tsts', 'thn', 'thnk', 'thnkflnss', 'thnks', 'tht', 'thwd', 'th', 'thr', 'thrslvs', 'thm', 'thmr', 'thmslvs', 'thn', 'thrs', 'thrz', 'thrzng', 'thry', 'thr', 'thrnlss', 'thrpn', 'thrmmtr', 'ths', 'thy', 'thck', 'thckr', 'thcknss', 'thn', 'thng', 'thngs', 'thnk', 'thnkng', 'thnks', 'thrd', 'thrst', 'thrsty', 'thrty', 'thrtyfv', 'thrtyfvn', 'thrtytw', 'ths', 'ththr', 'thrgh', 'thrghly', 'ths', 'thgh', 'thghvry', 'thght', 'thghtflly', 'thghts', 'thghtt', 'thsnd', 'thsndnch', 'thsnds', 'thrt', 'thrtn', 'thr', 'thrshld', 'thrw', 'thrll', 'thrlld', 'thrlls', 'thrb', 'thrbbd', 'thrng', 'thrgh', 'thrght', 'thrw', 'thrwng', 'thrwn', 'thrst', 'thrstng', 'thndr', 'ths', 't', 'td', 'tffny', 'tght', 'tltd', 'tm', 'tmly', 'tms', 'tnklng', 'trd', 'trsm', 'trng', 'ttl', 't', 'tbcc', 'tdy', 't', 'tgddr', 'tgthr', 'tld', 'tl', 'tmrrw', 'tn', 'tns', 'tng', 'tngs', 'tnght', 't', 'th', 'tk', 'tl', 'tlt', 'tls', 'tth', 'tp', 'tppld', 'tps', 'trch', 'trchs', 'trchlght', 'tr', 'trn', 'tssd', 'tssng', 'ttl', 'ttlly', 'tt', 'tch', 'tchd', 'tgh', 'tr', 'twrd', 'twr', 'twrd', 'twrng', 'twn', 'twns', 'trc', 'trcs', 'trck', 'trgdy', 'trl', 'trlrs', 'trlng', 'trn', 'trmp', 'trmpd', 'trmpng', 'trmps', 'trnql', 'trnqltts', 'trnslt', 'trnsltd', 'trnsltng', 'trnsltn', 'trnsmgtrblty', 'trnsmgtryng', 'trnsprttn', 'trp', 'trppd', 'trppr', 'trps', 'trvl', 'trvlld', 'trvllrs', 'trvllng', 'trvls', 'trvrsd', 'trt', 'trtd', 'tr', 'trs', 'trmblng', 'trmnds', 'trmr', 'trck', 'trd', 'trfl', 'trp', 'trps', 'trmph', 'trmphntly', 'trlly', 'trbl', 'trblmkr', 'trbls', 'trgh', 'trghs', 'trcks', 'tr', 'trly', 'trnk', 'trst', 'trsty', 'try', 'tryng', 'tb', 'tbs', 'tmbl', 'tmbld', 'tmblddwn', 'trn', 'trnd', 'trnng', 'trnps', 'trns', 'trtl', 'twlv', 'twnty', 'twntyght', 'twntyfv', 'twntyfr', 'twlght', 'twll', 'twnng', 'twstng', 'tw', 'tyng', 'gly', 'nbl', 'nccstmd', 'nvlng', 'nblncd', 'nblnkng', 'nbnd', 'ncnny', 'ncrtn', 'ncnscs', 'ncnscsly', 'ncvrng', 'ndcdd', 'ndfnbl', 'ndr', 'ndrgrnd', 'ndrnth', 'ndrstnd', 'ndrstndng', 'ndrstd', 'ndrtk', 'ndrtkn', 'ndrtkng', 'ndrtk', 'ndsrbl', 'nsly', 'nsy', 'nvn', 'nfthmbl', 'nfrtnt', 'nhrt', 'nntrstng', 'nnvtng', 'ntd', 'nvrsl', 'nvrs', 'nknwn', 'nlss', 'nlk', 'nmsk', 'nbstrctd', 'npltbl', 'nrlvd', 'nrvlld', 'nrffld', 'nslvd', 'nt', 'ntl', 'ntlwll', 'ntrnqlty', 'p', 'phvl', 'pn', 'prght', 'pst', 'psttng', 'psd', 'pstrs', 'pwrd', 'rgd', 'rgng', 's', 's', 'sd', 'sng', 'slks', 'sl', 'slly', 'tmst', 'ttr', 'ttrd', 'ttrng', 'ttrly', 'v', 'vcm', 'vg', 'vn', 'vlly', 'vllylk', 'vllys', 'vlbl', 'vl', 'vls', 'vlv', 'vlvs', 'vnshd', 'vpr', 'vprs', 'vprtrch', 'vrnc', 'vrs', 'vrs', 'vst', 'vgttn', 'vlcty', 'vntr', 'vntrd', 'vrdnt', 'vrgn', 'vry', 'vtrn', 'v', 'vbrtd', 'vbrtns', 'vcnty', 'vcs', 'vctls', 'vw', 'vgrsly', 'v', 'v', 'vllg', 'vlln', 'vndctd', 'vns', 'vltd', 'vltng', 'vlnc', 'vlnt', 'vrgn', 'vsbl', 'vsn', 'vst', 'vstng', 'vtl', 'vvd', 'vg', 'vc', 'vcs', 'vlcn', 'vlm', 'vlms', 'vlmns', 'vlntrd', 'vyg', 'vygrs', 'vygs', 'wl', 'wnt', 'wds', 'wgr', 'wgrth', 'wh', 'wld', 'wt', 'wtd', 'wtr', 'wtrs', 'wtng', 'wk', 'wlk', 'wlkd', 'wlkng', 'wll', 'wlls', 'wn', 'wnd', 'wndrd', 'wndrr', 'wndrrs', 'wndrng', 'wndrngs', 'wnng', 'wnt', 'wntd', 'wntng', 'wnts', 'wr', 'wrm', 'wrmly', 'wrn', 'wrnd', 'wrnng', 'ws', 'wsh', 'wshngtn', 'wsys', 'wtch', 'wtchd', 'wtchng', 'wtr', 'wtrnd', 'wtrs', 'wv', 'wvd', 'wvs', 'wvng', 'wy', 'w', 'wk', 'wknng', 'wkr', 'wlth', 'wr', 'wrng', 'wry', 'wthr', 'wdgrwn', 'wk', 'wks', 'wgh', 'wghd', 'wghs', 'wght', 'wghts', 'wrd', 'wlcmd', 'wll', 'wllknwn', 'wnt', 'wr', 'wrn', 'wt', 'wttng', 'whr', 'wht', 'whtnthr', 'whtvr', 'whttnght', 'whtwh', 'wht', 'whl', 'whls', 'whn', 'whnc', 'whnvr', 'whr', 'whthr', 'whw', 'whch', 'whl', 'whnng', 'whppngpst', 'whrlpl', 'whspr', 'whsprd', 'whsprs', 'whstlng', 'wht', 'whz', 'wh', 'whvr', 'whl', 'whm', 'whm', 'whs', 'why', 'whywhyth', 'wd', 'wd', 'wdlypnd', 'wdt', 'wf', 'wgwm', 'wld', 'wldct', 'wldst', 'wldgs', 'wldly', 'wll', 'wnd', 'wndd', 'wndr', 'wndng', 'wndlss', 'wndw', 'wndwpns', 'wndws', 'wrlss', 'wsr', 'wsh', 'wshd', 'wshs', 'wth', 'wthn', 'wtht', 'wtnss', 'wtnssd', 'wbbly', 'wmn', 'wmn', 'wndr', 'wndrcn', 'wndrd', 'wndrfl', 'wndrng', 'wndrs', 'wd', 'wds', 'wlln', 'wlly', 'wrd', 'wrds', 'wr', 'wrk', 'wrkd', 'wrkrs', 'wrkng', 'wrks', 'wrld', 'wrldnd', 'wrldn', 'wrn', 'wrrd', 'wrry', 'wrryng', 'wrs', 'wrst', 'wrth', 'wld', 'wldb', 'ww', 'wrppd', 'wrppng', 'wrck', 'wrng', 'wrt', 'wrtr', 'wrts', 'wrtng', 'wrttn', 'wrng', 'wrt', 'x', 'x', 'x', 'x', 'xv', 'xx', 'xv', 'xv', 'xv', 'xv', 'xx', 'xx', 'xx', 'xx', 'xxv', 'xxx', 'xxv', 'xxv', 'xxv', 'xxv', 'xxx', 'ys', 'ys', 'yrd', 'yrn', 'ywnng', 'yh', 'yrs', 'yll', 'ylld', 'yllw', 'ys', 'ys', 'ysn', 'yt', 'yys', 'y', 'yrk', 'y', 'yblst', 'ycm', 'ygd', 'yng', 'yr', 'yr', 'yrs', 'yrslf', 'yth', 'yths', 'zckly']\n"
     ]
    }
   ],
   "source": [
    "# Your solution here\n",
    "def check_vowel(char):\n",
    "    print(char)\n",
    "    if char in ['a','e', 'i', 'o', 'u']:\n",
    "        return \"h\"\n",
    "    \n",
    "long_words = list(filter(lambda word: len(word) >= 10, V))\n",
    "#print(long_words)\n",
    "no_vowels = list(map(lambda word: re.sub(\"[aeiou]\", \"\", word), V))\n",
    "#print(no_vowels)"
   ]
  },
  {
   "cell_type": "markdown",
   "metadata": {},
   "source": [
    "Create a numpy array of size `|V|` that only contains 0s. Store it in a variable named `frequencies`. Use this array to count the number of times each word has appeared in the book. For example `frequencies[9]` should store how many times the word located in the index 9 of `V` (the sorted list) --which is the word \"about\"-- has been appreaed in the book (165 times). (10 points)\n"
   ]
  },
  {
   "cell_type": "code",
   "execution_count": 133,
   "metadata": {},
   "outputs": [
    {
     "name": "stdout",
     "output_type": "stream",
     "text": [
      "(4320,)\n"
     ]
    },
    {
     "data": {
      "text/plain": [
       "(array([ 1.,  1.,  1., ..., 11.,  1.,  1.]), 165.0)"
      ]
     },
     "execution_count": 133,
     "metadata": {},
     "output_type": "execute_result"
    }
   ],
   "source": [
    "import numpy as np\n",
    "# Your solution\n",
    "frequencies = np.zeros(len(V))\n",
    "\n",
    "for word in words:\n",
    "    index = V.index(word)\n",
    "    current_count = frequencies[index]\n",
    "    frequencies[index] = current_count + 1\n",
    "    \n",
    "frequencies, frequencies[9] # Expected: array([ 1.,  1.,  1., ..., 11.,  1.,  1.]), 165.0"
   ]
  },
  {
   "cell_type": "markdown",
   "metadata": {},
   "source": [
    "Find the word that appeared most frequently in the book. Find the word itself as well as the number of times it was repeated in the book. Use numpy functions, i.e. do not iterate over the `frequencies` array manually using a `for` loop. (5 points)"
   ]
  },
  {
   "cell_type": "code",
   "execution_count": null,
   "metadata": {},
   "outputs": [],
   "source": [
    "# Your solution \n",
    "most_common_word = np.argmax(frequencies)\n",
    "max_frequency = frequencies[most_common_word]\n",
    "\n",
    "print(f'\"{most_common_word}\" is the most common word which has appeared {max_frequency} times in the book.')\n",
    "# Expected: \"the\" is the most common word which has appeared 3237 times in this book."
   ]
  },
  {
   "cell_type": "markdown",
   "metadata": {},
   "source": [
    "Normalize all frequency values by dividing them by the maximum frequency value (using vectorized operators). After this the most common word in the book should get a normalized frequency of `1` and all other words get some value \n",
    "between `1/MAX` and `1`. (2.5 points)"
   ]
  },
  {
   "cell_type": "code",
   "execution_count": null,
   "metadata": {},
   "outputs": [],
   "source": [
    "# Your solution\n",
    "normalized_frequencies = \n",
    "normalized_frequencies"
   ]
  },
  {
   "cell_type": "markdown",
   "metadata": {},
   "source": [
    "We want to check if the normalized frequencies have any corelation to their ranks. If such correlation exists, the Zipf's law states that it is linear in a log-log space. Take the logarithm of normalized frequencies (as y values) and create a numpy array of the same size containing the rank of each word (as x values). For example if the frequencies array is `[0.1, 1, 0.01, 0.0001]` the x and y values will be `X = [2, 1, 3, 4] Y=[-1, 0, -2, -4]`. \n",
    "\n",
    "You might want to sort the normalized frequencies first to make the task easier. (2.5 points)"
   ]
  },
  {
   "cell_type": "code",
   "execution_count": null,
   "metadata": {},
   "outputs": [],
   "source": [
    "# Your solution \n",
    "x = \n",
    "y = "
   ]
  },
  {
   "cell_type": "markdown",
   "metadata": {},
   "source": [
    "Calculate the [pearson correlation coefficient](https://en.wikipedia.org/wiki/Pearson_correlation_coefficient) on this data. The result is expected to be close to -1. Define appropriate functions for the the statistical calculations as neccessary. Additionally, you can use `pearsonr` function from `scipy` package to check if the calculated value is definitely correct. Though if you get a value close enough to -1 you can almost be sure that your implementation is correct and this step won't be necessary. (10 points)"
   ]
  },
  {
   "cell_type": "code",
   "execution_count": null,
   "metadata": {},
   "outputs": [],
   "source": [
    "# Your solution goes here\n",
    "def pcc(x, y):\n",
    "    pass\n",
    "\n",
    "pcc(x, y)"
   ]
  },
  {
   "cell_type": "markdown",
   "metadata": {},
   "source": [
    "## Problem 2 - Log processing (50 points)\n",
    "\n",
    "In this part of the assignment we are going to use regular expressions to mine data out of some webserver log files. Although these problems can be solved without use of RegExes, but for this assignment you need to use them.\n",
    "\n",
    "A sample web server log file is provided along with this problem. In each line of the file one event is recorded. For simplicity all of the events in this file have the same format and are of the same type. Each event contains an ip address, date and time of the event, http method (`GET` or `POST`), a url, HTTP version, HTTP response code (usually 200), the response size in bytes, and the device's user agent which contains information about the device such as the brand and the operating system.\n",
    "\n",
    "Since these logs have such a well defined format regular expressions are the prefect tool for breaking them down into parts and perform different analysis on them.\n",
    "\n",
    "**Please make sure that when you are asked to write a function that _return_s something, you are _return_ing that value, not just _print_ing it**\n",
    "\n",
    "We start off with a random log line and write python functions that use regular expressions to break it off to pieces."
   ]
  },
  {
   "cell_type": "code",
   "execution_count": null,
   "metadata": {},
   "outputs": [],
   "source": [
    "import re\n",
    "\n",
    "l = '5.106.145.204 - - [04/Sep/2019:13:51:39 +0430] \"POST /v1/crash-report/incident/report/ HTTP/1.1\" 200 65 \"-\" \"Dalvik/1.6.0 (Linux; U; Android 4.2.2; GT-S7272 Build/JDQ39)\"'\n",
    "print(l)"
   ]
  },
  {
   "cell_type": "markdown",
   "metadata": {},
   "source": [
    "Make a function that extracts the ip address part of the log line using regular expressions. (5 points)"
   ]
  },
  {
   "cell_type": "code",
   "execution_count": null,
   "metadata": {},
   "outputs": [],
   "source": [
    "def get_ip_address(l):\n",
    "    # Your solution here\n",
    "    return ...\n",
    "\n",
    "\n",
    "get_ip_address(l)  # Expected: '5.106.145.204'"
   ]
  },
  {
   "cell_type": "markdown",
   "metadata": {},
   "source": [
    "Make a function that extracts the HTTP method, url, response code, and response size and returns a tuple. Use regular expressions. The http method is either `POST` or `GET` and the response code is always a 3 digit integer. (10 points)"
   ]
  },
  {
   "cell_type": "code",
   "execution_count": null,
   "metadata": {},
   "outputs": [],
   "source": [
    "def get_http_info(l):\n",
    "    # Your solution here\n",
    "    return ...\n",
    "\n",
    "get_http_info(l)  # Expected: ('POST', '/v1/crash-report/incident/report/', 200, 65)\n",
    "# Please note that the last two numbers are converted to integers"
   ]
  },
  {
   "cell_type": "markdown",
   "metadata": {},
   "source": [
    "Use regular expressions to break the date and time section apart and create a python datetime object based on that. Mind the time zone. convert the datetimes to MDT. Using `strptime` is a better solution in general, but for this assignment please stick to writing RegExes so you become more comfortable in writing and debugging them. (20 points)\n"
   ]
  },
  {
   "cell_type": "code",
   "execution_count": null,
   "metadata": {},
   "outputs": [],
   "source": [
    "from datetime import datetime, timedelta, timezone\n",
    "from calendar import month_abbr\n",
    "\n",
    "MDT = timezone(timedelta(minutes=-6*60 + 0))\n",
    "\n",
    "def get_datetime(l):\n",
    "    # Your solution here\n",
    "    return ...\n",
    "\n",
    "get_datetime(l)  # Expected: datetime.datetime(2019, 9, 4, 3, 21, 39, tzinfo=datetime.timezone(datetime.timedelta(days=-1, seconds=64800)))"
   ]
  },
  {
   "cell_type": "markdown",
   "metadata": {},
   "source": [
    "Read the log file line by line and use the `get_datetime` and `get_http_info` functions above to calculate the used bandwidth of the server (the sum of all the response sizes) per hour. Use a `dict` or a `defaultdict`. (15 points)\n",
    "\n",
    "For example if there are 4 logs like:\n",
    "\n",
    "    Sep 4 14:20 .... 65bytes\n",
    "    Sep 4 14:35 .... 80bytes\n",
    "    Sep 4 15:01 .... 44bytes\n",
    "    Sep 5 18:20 .... 40bytes\n",
    "\n",
    "The result will be like:\n",
    "\n",
    "    Sep 4 14:00  145\n",
    "    Sep 4 15:00  44\n",
    "    Sep 5 18:00  40"
   ]
  },
  {
   "cell_type": "code",
   "execution_count": null,
   "metadata": {},
   "outputs": [],
   "source": [
    "# Your solution here\n",
    "\n",
    "# No specific format for the output is expected\n",
    "# However the data will be something like:\n",
    "#  2019, 7, 20 07:00    49130 bytes\n",
    "#  2019, 7, 20 08:00    40469 bytes\n",
    "#  2019, 7, 20 09:00    43556 bytes\n",
    "#  2019, 7, 20 10:00    82526 bytes .... "
   ]
  },
  {
   "cell_type": "code",
   "execution_count": null,
   "metadata": {},
   "outputs": [],
   "source": []
  }
 ],
 "metadata": {
  "kernelspec": {
   "display_name": "Python 3",
   "language": "python",
   "name": "python3"
  },
  "language_info": {
   "codemirror_mode": {
    "name": "ipython",
    "version": 3
   },
   "file_extension": ".py",
   "mimetype": "text/x-python",
   "name": "python",
   "nbconvert_exporter": "python",
   "pygments_lexer": "ipython3",
   "version": "3.6.8"
  }
 },
 "nbformat": 4,
 "nbformat_minor": 2
}
